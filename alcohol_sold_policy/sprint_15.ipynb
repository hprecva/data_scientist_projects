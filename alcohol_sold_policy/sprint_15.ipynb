{
 "cells": [
  {
   "cell_type": "markdown",
   "metadata": {},
   "source": [
    "\n",
    "**Hola! Héctor**\n",
    "\n",
    "Mi nombre es Enrique Romero, tendre el gusto de revisar Tu proyecto, te deseo lo mejor.\n",
    "\n",
    "<div class=\"alert alert-danger\">\n",
    "<b>❌ Comentario del revisor:</b> Esto destaca los comentarios más importantes. Sin su desarrollo, el proyecto no será aceptado. </div>\n",
    "\n",
    "<div class=\"alert alert-warning\">\n",
    "<b>⚠️ Comentario del revisor:</b> Así que los pequeños comentarios están resaltados. Se aceptan uno o dos comentarios de este tipo en el borrador, pero si hay más, deberá hacer las correcciones. Es como una tarea de prueba al solicitar un trabajo: muchos pequeños errores pueden hacer que un candidato sea rechazado.\n",
    "</div>\n",
    "\n",
    "<div class=\"alert alert-success\">\n",
    "<b>✔️ Comentario del revisor:</b> Así que destaco todos los demás comentarios.</div>\n",
    "\n",
    "<div class=\"alert alert-info\"> <b>Comentario del estudiante:</b> Por ejemplo, asi.</div>\n",
    "\n",
    "Todo esto ayudará a volver a revisar tu proyecto más rápido.\n",
    "\n",
    "\n"
   ]
  },
  {
   "cell_type": "markdown",
   "metadata": {
    "deletable": false,
    "editable": false,
    "tags": [
     "df89053c-55da-4946-b602-c3baf619b53f"
    ]
   },
   "source": [
    "## Inicialización"
   ]
  },
  {
   "cell_type": "code",
   "execution_count": null,
   "metadata": {},
   "outputs": [],
   "source": [
    "import pandas as pd\n",
    "import numpy as np\n",
    "import matplotlib.pyplot as plt\n",
    "from PIL import Image\n",
    "import seaborn as sns\n",
    "\n",
    "import tensorflow as tf\n",
    "\n",
    "from tensorflow.keras.preprocessing.image import ImageDataGenerator\n",
    "from tensorflow.keras.applications.resnet import ResNet50\n",
    "from tensorflow.keras.models import Sequential\n",
    "from tensorflow.keras.layers import GlobalAveragePooling2D, Dense, Dropout, Flatten\n",
    "from tensorflow.keras.optimizers import Adam"
   ]
  },
  {
   "cell_type": "markdown",
   "metadata": {},
   "source": [
    "## Cargar datos"
   ]
  },
  {
   "cell_type": "markdown",
   "metadata": {},
   "source": [
    "El conjunto de datos se almacena en la carpeta `/datasets/faces/`\n",
    "- La carpeta `final_files` con 7600 fotos\n",
    "- El archivo `labels.csv` con leyendas, con dos columnas: `file_name` y `real_age`\n",
    "\n",
    "Dado que el número de archivos de imágenes es bastante elevado, se recomienda evitar leerlos todos a la vez, ya que esto consumiría muchos recursos computacionales. Te recomendamos crear un generador con ImageDataGenerator. Este método se explicó en el capítulo 3, lección 7 de este curso.\n",
    "\n",
    "El archivo de etiqueta se puede cargar como un archivo CSV habitual."
   ]
  },
  {
   "cell_type": "code",
   "execution_count": null,
   "metadata": {},
   "outputs": [],
   "source": [
    "try:\n",
    "    labels = pd.read_csv('/datasets/faces/labels.csv')\n",
    "except:\n",
    "    labels = pd.read_csv('labels.csv')"
   ]
  },
  {
   "cell_type": "markdown",
   "metadata": {},
   "source": [
    "<div class=\"alert alert-success\">\n",
    "<b>✔️ Comentario del revisor:</b>    \n",
    "Excelente inicio, muy bien con esta exploración inicial\n",
    "</div>\t\n"
   ]
  },
  {
   "cell_type": "code",
   "execution_count": null,
   "metadata": {},
   "outputs": [],
   "source": [
    "labels.info()"
   ]
  },
  {
   "cell_type": "code",
   "execution_count": null,
   "metadata": {},
   "outputs": [],
   "source": [
    "labels.head()"
   ]
  },
  {
   "cell_type": "code",
   "execution_count": null,
   "metadata": {},
   "outputs": [],
   "source": [
    "train_datagen = ImageDataGenerator(rescale=1./255)\n",
    "    \n",
    "train_gen_flow = train_datagen.flow_from_dataframe(dataframe=labels,\n",
    "                                                  directory='/datasets/faces/final_files',\n",
    "                                                  x_col='file_name',\n",
    "                                                  y_col='real_age',\n",
    "                                                  target_size=(224,224),\n",
    "                                                  batch_size=32,\n",
    "                                                  class_mode='raw',\n",
    "                                                  seed=12345)\n"
   ]
  },
  {
   "cell_type": "code",
   "execution_count": null,
   "metadata": {},
   "outputs": [],
   "source": [
    "features, target = next(train_gen_flow)"
   ]
  },
  {
   "cell_type": "code",
   "execution_count": null,
   "metadata": {},
   "outputs": [],
   "source": [
    "features.shape"
   ]
  },
  {
   "cell_type": "code",
   "execution_count": null,
   "metadata": {},
   "outputs": [],
   "source": [
    "fig = plt.figure(figsize=(16,16))\n",
    "for i in range(15):\n",
    "    fig.add_subplot(5,3,i+1)\n",
    "    plt.imshow(features[i])\n",
    "    plt.title(f'{target[i]}')\n",
    "    plt.yticks([])\n",
    "    plt.xticks([])\n",
    "    plt.tight_layout()"
   ]
  },
  {
   "cell_type": "markdown",
   "metadata": {},
   "source": [
    "## EDA"
   ]
  },
  {
   "cell_type": "code",
   "execution_count": null,
   "metadata": {},
   "outputs": [],
   "source": [
    "labels['real_age'].describe()"
   ]
  },
  {
   "cell_type": "code",
   "execution_count": null,
   "metadata": {},
   "outputs": [],
   "source": [
    "plt.figure(figsize=(10,6))\n",
    "sns.set_style('whitegrid')\n",
    "sns.set_palette('inferno')\n",
    "sns.distplot(labels['real_age'], rug=True, kde_kws={'shade':True, 'color':'r'})\n",
    "plt.xlabel('Edad', fontsize=12, color='b')\n",
    "plt.ylabel('Frecuencia', fontsize=12, color='b')\n",
    "plt.title('Distribución de edades', fontsize=16, color='b')\n",
    "plt.show()"
   ]
  },
  {
   "cell_type": "code",
   "execution_count": null,
   "metadata": {},
   "outputs": [],
   "source": [
    "labels.boxplot('real_age', figsize=(16,9))"
   ]
  },
  {
   "cell_type": "code",
   "execution_count": null,
   "metadata": {},
   "outputs": [],
   "source": [
    "under_age = labels[labels['real_age']<21].shape[0]\n",
    "print(f'El {(under_age/labels.shape[0])*100:.2f} % del total de las personas son menores de edad')"
   ]
  },
  {
   "cell_type": "markdown",
   "metadata": {},
   "source": [
    "### Conclusiones"
   ]
  },
  {
   "cell_type": "markdown",
   "metadata": {},
   "source": [
    "- Tenemos un grupo del 73% de personas que tienen la mayoría de edad en el conjunto de datos.\n",
    "- Hay personas de más de 75 años que para nuestro caso podríamos dejar de lado.\n",
    "- El promedio ronda los 31 años de edad"
   ]
  },
  {
   "cell_type": "markdown",
   "metadata": {},
   "source": [
    "<div class=\"alert alert-success\">\n",
    "<b>✔️ Comentario del revisor:</b>    \n",
    "Excelente inicio, muy bien con las conclusiones parciales   \n",
    "</div>\t"
   ]
  },
  {
   "cell_type": "markdown",
   "metadata": {},
   "source": [
    "## Modelado"
   ]
  },
  {
   "cell_type": "markdown",
   "metadata": {},
   "source": [
    "Define las funciones necesarias para entrenar tu modelo en la plataforma GPU y crear un solo script que las contenga todas junto con la sección de inicialización.\n",
    "\n",
    "Para facilitar esta tarea, puedes definirlas en este notebook y ejecutar un código listo en la siguiente sección para componer automáticamente el script.\n",
    "\n",
    "Los revisores del proyecto también verificarán las definiciones a continuación, para que puedan comprender cómo construiste el modelo."
   ]
  },
  {
   "cell_type": "code",
   "execution_count": null,
   "metadata": {},
   "outputs": [],
   "source": [
    "def load_train(path):\n",
    "    \n",
    "    \"\"\"\n",
    "    Carga la parte de entrenamiento del conjunto de datos desde la ruta.\n",
    "    \"\"\"\n",
    "    \n",
    "    # coloca tu código aquí\n",
    "    df = pd.read_csv(path + 'labels.csv')\n",
    "    directory = path + 'final_files/'\n",
    "    \n",
    "    train_datagen = ImageDataGenerator(rescale=1./255)\n",
    "    \n",
    "    train_gen_flow = train_datagen.flow_from_dataframe(dataframe=df,\n",
    "                                                    directory=directory,\n",
    "                                                    x_col='file_name',\n",
    "                                                    y_col='real_age',\n",
    "                                                    target_size=(224,224),\n",
    "                                                    batch_size=32,\n",
    "                                                    class_mode='raw',\n",
    "                                                    seed=12345)\n",
    "\n",
    "   \n",
    "    return train_gen_flow"
   ]
  },
  {
   "cell_type": "code",
   "execution_count": null,
   "metadata": {},
   "outputs": [],
   "source": [
    "def load_test(path):\n",
    "    \n",
    "    \"\"\"\n",
    "    Carga la parte de validación/prueba del conjunto de datos desde la ruta\n",
    "    \"\"\"\n",
    "    \n",
    "    #  coloca tu código aquí\n",
    "    df = pd.read_csv(path + 'labels.csv')\n",
    "    directory = path + 'final_files/'\n",
    "    \n",
    "    train_datagen = ImageDataGenerator(rescale=1./255)\n",
    "    \n",
    "    test_gen_flow = train_datagen.flow_from_dataframe(dataframe=df,\n",
    "                                                    directory=directory,\n",
    "                                                    x_col='file_name',\n",
    "                                                    y_col='real_age',\n",
    "                                                    target_size=(224,224),\n",
    "                                                    batch_size=32,\n",
    "                                                    class_mode='raw',\n",
    "                                                    seed=12345)\n",
    "\n",
    "    return test_gen_flow"
   ]
  },
  {
   "cell_type": "code",
   "execution_count": null,
   "metadata": {},
   "outputs": [],
   "source": [
    "def create_model(input_shape=(224,224,3)):\n",
    "    \n",
    "    \"\"\"\n",
    "    Define el modelo\n",
    "    \"\"\"\n",
    "    \n",
    "    #  coloca tu código aquí\n",
    "    backbone=ResNet50(input_shape=input_shape,\n",
    "                      weights='imagenet',\n",
    "                      include_top=False)\n",
    "    \n",
    "    model=Sequential()\n",
    "    model.add(backbone)\n",
    "    model.add(GlobalAveragePooling2D())\n",
    "    model.add(Dense(24,activation='relu'))\n",
    "    model.add(Dense(24, activation='relu'))\n",
    "    \n",
    "    model.compile(optimizer=Adam(learning_rate=0.001),\n",
    "                  loss='tf.keras.losses.MeanAbsoluteError()',\n",
    "                  metrics=[tf.keras.metrics.MeanAbsoluteError()])\n",
    "\n",
    "    return model"
   ]
  },
  {
   "cell_type": "code",
   "execution_count": null,
   "metadata": {},
   "outputs": [],
   "source": [
    "def train_model(model, train_data, test_data, batch_size=None, epochs=20,\n",
    "                steps_per_epoch=None, validation_steps=None):\n",
    "\n",
    "    \"\"\"\n",
    "    Entrena el modelo dados los parámetros\n",
    "    \"\"\"\n",
    "    \n",
    "    #  coloca tu código aquí\n",
    "    if steps_per_epoch is None:\n",
    "        steps_per_epoch=len(train_data)\n",
    "        \n",
    "    if validation_steps is None:\n",
    "        validation_steps=len(test_data)\n",
    "        \n",
    "    model.fit(train_data,\n",
    "              validation_steps=validation_steps,\n",
    "              steps_per_epoch=steps_per_epoch,\n",
    "              validation_data=test_data,\n",
    "              batch_size=batch_size,\n",
    "              epochs=epochs,\n",
    "              verbose=2)\n",
    "    \n",
    "\n",
    "    return model"
   ]
  },
  {
   "cell_type": "markdown",
   "metadata": {},
   "source": [
    "<div class=\"alert alert-success\">\n",
    "<b>✔️ Comentario del revisor:</b>    \n",
    "Muy bien con la implementacion de las funciones, esto beneficia el procesamiento y la eficiencia del proyecto\n",
    "</div>\t"
   ]
  },
  {
   "cell_type": "markdown",
   "metadata": {},
   "source": [
    "### Prepara el script para ejecutarlo en la plataforma GPU"
   ]
  },
  {
   "cell_type": "markdown",
   "metadata": {},
   "source": [
    "Una vez que hayas definido las funciones necesarias, puedes redactar un script para la plataforma GPU, descargarlo a través del menú \"File|Open...\" (Archivo|Abrir) y cargarlo más tarde para ejecutarlo en la plataforma GPU.\n",
    "\n",
    "Nota: el script debe incluir también la sección de inicialización. A continuación se muestra un ejemplo."
   ]
  },
  {
   "cell_type": "code",
   "execution_count": null,
   "metadata": {},
   "outputs": [],
   "source": [
    "# prepara un script para ejecutarlo en la plataforma GPU\n",
    "\n",
    "init_str = \"\"\"\n",
    "import pandas as pd\n",
    "\n",
    "import tensorflow as tf\n",
    "\n",
    "from tensorflow.keras.preprocessing.image import ImageDataGenerator\n",
    "from tensorflow.keras.applications.resnet import ResNet50\n",
    "from tensorflow.keras.models import Sequential\n",
    "from tensorflow.keras.layers import GlobalAveragePooling2D, Dense, Dropout, Flatten\n",
    "from tensorflow.keras.optimizers import Adam\n",
    "\n",
    "train_data = load_train\n",
    "test_data = load_test\n",
    "\n",
    "model = create_model(input_shape=(224,224,3))\n",
    "\n",
    "model = train_model(model, train_data, test_data)\n",
    "\"\"\"\n",
    "\n",
    "import inspect\n",
    "\n",
    "with open('run_model_on_gpu.py', 'w') as f:\n",
    "    \n",
    "    f.write(init_str)\n",
    "    f.write('\\n\\n')\n",
    "        \n",
    "    for fn_name in [load_train, load_test, create_model, train_model]:\n",
    "        \n",
    "        src = inspect.getsource(fn_name)\n",
    "        f.write(src)\n",
    "        f.write('\\n\\n')"
   ]
  },
  {
   "cell_type": "markdown",
   "metadata": {},
   "source": [
    "### Resultado"
   ]
  },
  {
   "cell_type": "markdown",
   "metadata": {},
   "source": [
    "Coloca aquí el resultado de la plataforma GPU como una celda Markdown."
   ]
  },
  {
   "cell_type": "markdown",
   "metadata": {},
   "source": [
    "<class 'tensorflow.python.keras.engine.sequential.Sequential'>\n",
    "\n",
    "Train for 238 steps, validate for 238 steps\n",
    "Epoch 1/20\n",
    "2024-02-15 03:40:17.886333: I tensorflow/stream_executor/platform/default/dso_loader.cc:44] Successfully opened dynamic library libcublas.so.10\n",
    "2024-02-15 03:40:18.618960: I tensorflow/stream_executor/platform/default/dso_loader.cc:44] Successfully opened dynamic library libcudnn.so.7\n",
    "238/238 - 92s - loss: 16.1741 - mean_absolute_error: 16.1784 - val_loss: 19.1979 - val_mean_absolute_error: 19.1905\n",
    "\n",
    "Epoch 2/20\n",
    "238/238 - 74s - loss: 14.4509 - mean_absolute_error: 14.4470 - val_loss: 18.9442 - val_mean_absolute_error: 18.9794\n",
    "\n",
    "Epoch 3/20\n",
    "238/238 - 74s - loss: 13.3164 - mean_absolute_error: 13.3128 - val_loss: 15.5322 - val_mean_absolute_error: 15.5353\n",
    "\n",
    "Epoch 4/20\n",
    "238/238 - 74s - loss: 12.2795 - mean_absolute_error: 12.2774 - val_loss: 13.3639 - val_mean_absolute_error: 13.3805\n",
    "\n",
    "Epoch 5/20\n",
    "238/238 - 74s - loss: 11.7189 - mean_absolute_error: 11.7100 - val_loss: 11.8357 - val_mean_absolute_error: 11.8453\n",
    "\n",
    "Epoch 6/20\n",
    "238/238 - 75s - loss: 11.2444 - mean_absolute_error: 11.2415 - val_loss: 13.9537 - val_mean_absolute_error: 13.9785\n",
    "\n",
    "Epoch 7/20\n",
    "238/238 - 74s - loss: 10.2692 - mean_absolute_error: 10.2649 - val_loss: 10.5515 - val_mean_absolute_error: 10.5582\n",
    "\n",
    "Epoch 8/20\n",
    "238/238 - 74s - loss: 9.5517 - mean_absolute_error: 9.5393 - val_loss: 9.7000 - val_mean_absolute_error: 9.7062\n",
    "\n",
    "Epoch 9/20\n",
    "238/238 - 73s - loss: 8.9809 - mean_absolute_error: 8.9819 - val_loss: 11.0880 - val_mean_absolute_error: 11.0966\n",
    "\n",
    "Epoch 10/20\n",
    "238/238 - 74s - loss: 8.5641 - mean_absolute_error: 8.5718 - val_loss: 11.8971 - val_mean_absolute_error: 11.9179\n",
    "\n",
    "Epoch 11/20\n",
    "238/238 - 74s - loss: 8.4118 - mean_absolute_error: 8.4111 - val_loss: 10.8473 - val_mean_absolute_error: 10.8567\n",
    "\n",
    "Epoch 12/20\n",
    "238/238 - 74s - loss: 7.9976 - mean_absolute_error: 8.0053 - val_loss: 8.9715 - val_mean_absolute_error: 8.9813\n",
    "\n",
    "Epoch 13/20\n",
    "238/238 - 74s - loss: 7.7648 - mean_absolute_error: 7.7689 - val_loss: 8.0999 - val_mean_absolute_error: 8.1099\n",
    "\n",
    "Epoch 14/20\n",
    "238/238 - 73s - loss: 7.3701 - mean_absolute_error: 7.3735 - val_loss: 8.5230 - val_mean_absolute_error: 8.5316\n",
    "\n",
    "Epoch 15/20\n",
    "238/238 - 74s - loss: 6.2939 - mean_absolute_error: 6.2970 - val_loss: 6.7856 - val_mean_absolute_error: 6.7918\n",
    "\n",
    "Epoch 16/20\n",
    "238/238 - 74s - loss: 6.0679 - mean_absolute_error: 6.0755 - val_loss: 8.5609 - val_mean_absolute_error: 8.5713\n",
    "\n",
    "Epoch 17/20\n",
    "238/238 - 73s - loss: 4.7823 - mean_absolute_error: 4.7878 - val_loss: 9.8039 - val_mean_absolute_error: 9.8194\n",
    "\n",
    "Epoch 18/20\n",
    "238/238 - 74s - loss: 4.6361 - mean_absolute_error: 4.6392 - val_loss: 5.5171 - val_mean_absolute_error: 5.5249\n",
    "\n",
    "Epoch 19/20\n",
    "238/238 - 74s - loss: 4.4585 - mean_absolute_error: 4.4639 - val_loss: 6.8342 - val_mean_absolute_error: 6.8436\n",
    "\n",
    "Epoch 20/20\n",
    "238/238 - 74s - loss: 4.2171 - mean_absolute_error: 4.2205 - val_loss: 6.0806 - val_mean_absolute_error: 6.0917\n",
    "\n",
    "238/238 - 37s - loss: 6.0806 - mean_absolute_error: 6.0917\n",
    "\n",
    "Test MAE: 6.0917\n"
   ]
  },
  {
   "cell_type": "markdown",
   "metadata": {},
   "source": [
    "## Conclusiones"
   ]
  },
  {
   "cell_type": "markdown",
   "metadata": {},
   "source": [
    "En este proyecto se trabajo con una red neuronal ResNet en la que se busca determinar la edad de los clientes de una tienda para evitar que menores compren alcohol.\n",
    "El modelo presentado obtuvo un valor adecuado de error medio absoluto menor a 7, lo que es lo que buscamos en este trabajo obteniendo un 6.09. Esta red neuronal podemos afirmar que puede ayudar a la tienda a comprobar la edad de los clientes que llegan a mostrador.\n",
    "Por otra parte este mismo modelo puede tener otra aplicación para la entrada a bares y espectaculos que tienen limite de edad, como películas, obras de teatro o exposiciones de arte."
   ]
  },
  {
   "cell_type": "markdown",
   "metadata": {},
   "source": [
    "# Lista de revisión"
   ]
  },
  {
   "cell_type": "markdown",
   "metadata": {},
   "source": [
    "- [ ]  El Notebook estaba abierto \n",
    "- [ ]  El código no tiene errores\n",
    "- [ ]  Las celdas con el código han sido colocadas en el orden de ejecución\n",
    "- [ ]  Se realizó el análisis exploratorio de datos\n",
    "- [ ]  Los resultados del análisis exploratorio de datos se presentan en el notebook final\n",
    "- [ ]  El valor EAM del modelo no es superior a 8\n",
    "- [ ]  El código de entrenamiento del modelo se copió en el notebook final\n",
    "- [ ]  El resultado de entrenamiento del modelo se copió en el notebook final\n",
    "- [ ]  Los hallazgos se proporcionaron con base en los resultados del entrenamiento del modelo"
   ]
  },
  {
   "cell_type": "markdown",
   "metadata": {},
   "source": [
    "<div class=\"alert alert-success\">\n",
    "<b>✔️ Comentario del revisor:</b>\n",
    "<h1>    Comentarios Generales </h1>\n",
    "Felicidades has aprobado Héctor        \n",
    "</div>"
   ]
  },
  {
   "cell_type": "code",
   "execution_count": null,
   "metadata": {},
   "outputs": [],
   "source": []
  }
 ],
 "metadata": {
  "kernelspec": {
   "display_name": "Python 3 (ipykernel)",
   "language": "python",
   "name": "python3"
  },
  "language_info": {
   "codemirror_mode": {
    "name": "ipython",
    "version": 3
   },
   "file_extension": ".py",
   "mimetype": "text/x-python",
   "name": "python",
   "nbconvert_exporter": "python",
   "pygments_lexer": "ipython3",
   "version": "3.9.5"
  },
  "toc": {
   "base_numbering": 1,
   "nav_menu": {},
   "number_sections": true,
   "sideBar": true,
   "skip_h1_title": true,
   "title_cell": "Índice de contenido",
   "title_sidebar": "Contenido",
   "toc_cell": false,
   "toc_position": {},
   "toc_section_display": true,
   "toc_window_display": false
  }
 },
 "nbformat": 4,
 "nbformat_minor": 4
}
