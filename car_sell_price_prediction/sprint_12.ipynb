{
 "cells": [
  {
   "cell_type": "markdown",
   "id": "9b8ee6b5",
   "metadata": {},
   "source": [
    "# ¡Hola, Héctor!  \n",
    "\n",
    "Mi nombre es Carlos Ortiz, soy code reviewer de TripleTen y voy a revisar el proyecto que acabas de desarrollar.\n",
    "\n",
    "Cuando vea un error la primera vez, lo señalaré. Deberás encontrarlo y arreglarlo. La intención es que te prepares para un espacio real de trabajo. En un trabajo, el líder de tu equipo hará lo mismo. Si no puedes solucionar el error, te daré más información en la próxima ocasión. \n",
    "\n",
    "Encontrarás mis comentarios más abajo - **por favor, no los muevas, no los modifiques ni los borres**.\n",
    "\n",
    "¿Cómo lo voy a hacer? Voy a leer detenidamente cada una de las implementaciones que has llevado a cabo para cumplir con lo solicitado. Verás los comentarios de esta forma:\n",
    "\n",
    "<div class=\"alert alert-block alert-success\">\n",
    "<b>Comentario del revisor</b> <a class=\"tocSkip\"></a>\n",
    "    \n",
    "Si todo está perfecto.\n",
    "</div>\n",
    "\n",
    "\n",
    "<div class=\"alert alert-block alert-warning\">\n",
    "<b>Comentario del revisor</b> <a class=\"tocSkip\"></a>\n",
    "    \n",
    "Si tu código está bien pero se puede mejorar o hay algún detalle que le hace falta.\n",
    "</div>\n",
    "\n",
    "\n",
    "<div class=\"alert alert-block alert-danger\">\n",
    "    \n",
    "<b>Comentario del revisor</b> <a class=\"tocSkip\"></a>\n",
    "    \n",
    "    \n",
    "Si de pronto hace falta algo o existe algún problema con tu código o conclusiones.\n",
    "</div>\n",
    "\n",
    "\n",
    "Puedes responderme de esta forma: \n",
    "\n",
    "\n",
    "<div class=\"alert alert-block alert-info\">\n",
    "<b>Respuesta del estudiante</b> <a class=\"tocSkip\"></a>\n",
    "</div>\n",
    "¡Empecemos!"
   ]
  },
  {
   "cell_type": "markdown",
   "id": "ea7f63a0",
   "metadata": {},
   "source": [
    "El servicio de venta de autos usados Rusty Bargain está desarrollando una aplicación para atraer nuevos clientes. Gracias a esa app, puedes averiguar rápidamente el valor de mercado de tu coche. Tienes acceso al historial: especificaciones técnicas, versiones de equipamiento y precios. Tienes que crear un modelo que determine el valor de mercado.\n",
    "A Rusty Bargain le interesa:\n",
    "- la calidad de la predicción;\n",
    "- la velocidad de la predicción;\n",
    "- el tiempo requerido para el entrenamiento"
   ]
  },
  {
   "cell_type": "markdown",
   "id": "b4e55547",
   "metadata": {},
   "source": [
    "## Preparación de datos"
   ]
  },
  {
   "cell_type": "markdown",
   "id": "0ebacd3e",
   "metadata": {},
   "source": [
    "### Librerías"
   ]
  },
  {
   "cell_type": "code",
   "execution_count": 1,
   "id": "1403a1c3",
   "metadata": {},
   "outputs": [],
   "source": [
    "import pandas as pd\n",
    "import numpy as np\n",
    "import math\n",
    "import time\n",
    "import matplotlib.pyplot as plt\n",
    "\n",
    "from re import sub\n",
    "\n",
    "from sklearn.model_selection import (train_test_split, GridSearchCV)\n",
    "from sklearn.metrics import mean_squared_error\n",
    "from sklearn.tree import DecisionTreeRegressor\n",
    "from sklearn.ensemble import RandomForestRegressor\n",
    "from sklearn.linear_model import LinearRegression\n",
    "\n",
    "from lightgbm import LGBMRegressor\n",
    "\n",
    "import warnings\n",
    "\n",
    "random_state=12345\n",
    "\n",
    "warnings.simplefilter('ignore')"
   ]
  },
  {
   "cell_type": "markdown",
   "id": "e7773e47",
   "metadata": {},
   "source": [
    "### Carga de datos"
   ]
  },
  {
   "cell_type": "code",
   "execution_count": 2,
   "id": "9d5666c6",
   "metadata": {},
   "outputs": [],
   "source": [
    "try:\n",
    "    df = pd.read_csv('car_data.csv')\n",
    "except:\n",
    "    df = pd.read_csv('/datasets/car_data.csv')"
   ]
  },
  {
   "cell_type": "markdown",
   "id": "79d704c2",
   "metadata": {},
   "source": [
    "<div class=\"alert alert-block alert-success\">\n",
    "<b>Comentario del revisor</b> <a class=\"tocSkip\"></a>\n",
    "    \n",
    "Buen trabajo con esta importación de datos y de librerías.\n",
    "</div>"
   ]
  },
  {
   "cell_type": "code",
   "execution_count": 3,
   "id": "ab5ae118",
   "metadata": {},
   "outputs": [
    {
     "data": {
      "text/html": [
       "<div>\n",
       "<style scoped>\n",
       "    .dataframe tbody tr th:only-of-type {\n",
       "        vertical-align: middle;\n",
       "    }\n",
       "\n",
       "    .dataframe tbody tr th {\n",
       "        vertical-align: top;\n",
       "    }\n",
       "\n",
       "    .dataframe thead th {\n",
       "        text-align: right;\n",
       "    }\n",
       "</style>\n",
       "<table border=\"1\" class=\"dataframe\">\n",
       "  <thead>\n",
       "    <tr style=\"text-align: right;\">\n",
       "      <th></th>\n",
       "      <th>DateCrawled</th>\n",
       "      <th>Price</th>\n",
       "      <th>VehicleType</th>\n",
       "      <th>RegistrationYear</th>\n",
       "      <th>Gearbox</th>\n",
       "      <th>Power</th>\n",
       "      <th>Model</th>\n",
       "      <th>Mileage</th>\n",
       "      <th>RegistrationMonth</th>\n",
       "      <th>FuelType</th>\n",
       "      <th>Brand</th>\n",
       "      <th>NotRepaired</th>\n",
       "      <th>DateCreated</th>\n",
       "      <th>NumberOfPictures</th>\n",
       "      <th>PostalCode</th>\n",
       "      <th>LastSeen</th>\n",
       "    </tr>\n",
       "  </thead>\n",
       "  <tbody>\n",
       "    <tr>\n",
       "      <th>0</th>\n",
       "      <td>24/03/2016 11:52</td>\n",
       "      <td>480</td>\n",
       "      <td>NaN</td>\n",
       "      <td>1993</td>\n",
       "      <td>manual</td>\n",
       "      <td>0</td>\n",
       "      <td>golf</td>\n",
       "      <td>150000</td>\n",
       "      <td>0</td>\n",
       "      <td>petrol</td>\n",
       "      <td>volkswagen</td>\n",
       "      <td>NaN</td>\n",
       "      <td>24/03/2016 00:00</td>\n",
       "      <td>0</td>\n",
       "      <td>70435</td>\n",
       "      <td>07/04/2016 03:16</td>\n",
       "    </tr>\n",
       "    <tr>\n",
       "      <th>1</th>\n",
       "      <td>24/03/2016 10:58</td>\n",
       "      <td>18300</td>\n",
       "      <td>coupe</td>\n",
       "      <td>2011</td>\n",
       "      <td>manual</td>\n",
       "      <td>190</td>\n",
       "      <td>NaN</td>\n",
       "      <td>125000</td>\n",
       "      <td>5</td>\n",
       "      <td>gasoline</td>\n",
       "      <td>audi</td>\n",
       "      <td>yes</td>\n",
       "      <td>24/03/2016 00:00</td>\n",
       "      <td>0</td>\n",
       "      <td>66954</td>\n",
       "      <td>07/04/2016 01:46</td>\n",
       "    </tr>\n",
       "    <tr>\n",
       "      <th>2</th>\n",
       "      <td>14/03/2016 12:52</td>\n",
       "      <td>9800</td>\n",
       "      <td>suv</td>\n",
       "      <td>2004</td>\n",
       "      <td>auto</td>\n",
       "      <td>163</td>\n",
       "      <td>grand</td>\n",
       "      <td>125000</td>\n",
       "      <td>8</td>\n",
       "      <td>gasoline</td>\n",
       "      <td>jeep</td>\n",
       "      <td>NaN</td>\n",
       "      <td>14/03/2016 00:00</td>\n",
       "      <td>0</td>\n",
       "      <td>90480</td>\n",
       "      <td>05/04/2016 12:47</td>\n",
       "    </tr>\n",
       "    <tr>\n",
       "      <th>3</th>\n",
       "      <td>17/03/2016 16:54</td>\n",
       "      <td>1500</td>\n",
       "      <td>small</td>\n",
       "      <td>2001</td>\n",
       "      <td>manual</td>\n",
       "      <td>75</td>\n",
       "      <td>golf</td>\n",
       "      <td>150000</td>\n",
       "      <td>6</td>\n",
       "      <td>petrol</td>\n",
       "      <td>volkswagen</td>\n",
       "      <td>no</td>\n",
       "      <td>17/03/2016 00:00</td>\n",
       "      <td>0</td>\n",
       "      <td>91074</td>\n",
       "      <td>17/03/2016 17:40</td>\n",
       "    </tr>\n",
       "    <tr>\n",
       "      <th>4</th>\n",
       "      <td>31/03/2016 17:25</td>\n",
       "      <td>3600</td>\n",
       "      <td>small</td>\n",
       "      <td>2008</td>\n",
       "      <td>manual</td>\n",
       "      <td>69</td>\n",
       "      <td>fabia</td>\n",
       "      <td>90000</td>\n",
       "      <td>7</td>\n",
       "      <td>gasoline</td>\n",
       "      <td>skoda</td>\n",
       "      <td>no</td>\n",
       "      <td>31/03/2016 00:00</td>\n",
       "      <td>0</td>\n",
       "      <td>60437</td>\n",
       "      <td>06/04/2016 10:17</td>\n",
       "    </tr>\n",
       "  </tbody>\n",
       "</table>\n",
       "</div>"
      ],
      "text/plain": [
       "        DateCrawled  Price VehicleType  RegistrationYear Gearbox  Power  \\\n",
       "0  24/03/2016 11:52    480         NaN              1993  manual      0   \n",
       "1  24/03/2016 10:58  18300       coupe              2011  manual    190   \n",
       "2  14/03/2016 12:52   9800         suv              2004    auto    163   \n",
       "3  17/03/2016 16:54   1500       small              2001  manual     75   \n",
       "4  31/03/2016 17:25   3600       small              2008  manual     69   \n",
       "\n",
       "   Model  Mileage  RegistrationMonth  FuelType       Brand NotRepaired  \\\n",
       "0   golf   150000                  0    petrol  volkswagen         NaN   \n",
       "1    NaN   125000                  5  gasoline        audi         yes   \n",
       "2  grand   125000                  8  gasoline        jeep         NaN   \n",
       "3   golf   150000                  6    petrol  volkswagen          no   \n",
       "4  fabia    90000                  7  gasoline       skoda          no   \n",
       "\n",
       "        DateCreated  NumberOfPictures  PostalCode          LastSeen  \n",
       "0  24/03/2016 00:00                 0       70435  07/04/2016 03:16  \n",
       "1  24/03/2016 00:00                 0       66954  07/04/2016 01:46  \n",
       "2  14/03/2016 00:00                 0       90480  05/04/2016 12:47  \n",
       "3  17/03/2016 00:00                 0       91074  17/03/2016 17:40  \n",
       "4  31/03/2016 00:00                 0       60437  06/04/2016 10:17  "
      ]
     },
     "execution_count": 3,
     "metadata": {},
     "output_type": "execute_result"
    }
   ],
   "source": [
    "df.head()"
   ]
  },
  {
   "cell_type": "markdown",
   "id": "9e122ca6",
   "metadata": {},
   "source": [
    "### EDA"
   ]
  },
  {
   "cell_type": "code",
   "execution_count": 4,
   "id": "ea9e4d71",
   "metadata": {},
   "outputs": [
    {
     "name": "stdout",
     "output_type": "stream",
     "text": [
      "<class 'pandas.core.frame.DataFrame'>\n",
      "RangeIndex: 354369 entries, 0 to 354368\n",
      "Data columns (total 16 columns):\n",
      " #   Column             Non-Null Count   Dtype \n",
      "---  ------             --------------   ----- \n",
      " 0   DateCrawled        354369 non-null  object\n",
      " 1   Price              354369 non-null  int64 \n",
      " 2   VehicleType        316879 non-null  object\n",
      " 3   RegistrationYear   354369 non-null  int64 \n",
      " 4   Gearbox            334536 non-null  object\n",
      " 5   Power              354369 non-null  int64 \n",
      " 6   Model              334664 non-null  object\n",
      " 7   Mileage            354369 non-null  int64 \n",
      " 8   RegistrationMonth  354369 non-null  int64 \n",
      " 9   FuelType           321474 non-null  object\n",
      " 10  Brand              354369 non-null  object\n",
      " 11  NotRepaired        283215 non-null  object\n",
      " 12  DateCreated        354369 non-null  object\n",
      " 13  NumberOfPictures   354369 non-null  int64 \n",
      " 14  PostalCode         354369 non-null  int64 \n",
      " 15  LastSeen           354369 non-null  object\n",
      "dtypes: int64(7), object(9)\n",
      "memory usage: 43.3+ MB\n"
     ]
    }
   ],
   "source": [
    "df.info()"
   ]
  },
  {
   "cell_type": "markdown",
   "id": "b8afe21d",
   "metadata": {},
   "source": [
    "Visualizando la información del dataframe, podemos ver que hay datos ausentes en las columnas: `VehicleType, Gearbox, Model, FuelType, NotRepaired`.\n",
    "También los nombres de las columnas no están con el formato adecuado para trabajarlas, por lo que es lo primero que haremos con el dataframe"
   ]
  },
  {
   "cell_type": "code",
   "execution_count": 5,
   "id": "f70c44e2",
   "metadata": {},
   "outputs": [],
   "source": [
    "def column_format(c):\n",
    "    return '_'.join(sub('([A-Z][a-z]+)', r' \\1',\n",
    "                    sub('([A-Z]+)', r' \\1',\n",
    "                    c.replace('-',' '))).split()).lower()"
   ]
  },
  {
   "cell_type": "code",
   "execution_count": 6,
   "id": "62e0ccb3",
   "metadata": {},
   "outputs": [],
   "source": [
    "df.columns = [column_format(column) for column in df.columns]"
   ]
  },
  {
   "cell_type": "code",
   "execution_count": 7,
   "id": "721ed528",
   "metadata": {
    "scrolled": true
   },
   "outputs": [
    {
     "data": {
      "text/plain": [
       "Index(['date_crawled', 'price', 'vehicle_type', 'registration_year', 'gearbox',\n",
       "       'power', 'model', 'mileage', 'registration_month', 'fuel_type', 'brand',\n",
       "       'not_repaired', 'date_created', 'number_of_pictures', 'postal_code',\n",
       "       'last_seen'],\n",
       "      dtype='object')"
      ]
     },
     "execution_count": 7,
     "metadata": {},
     "output_type": "execute_result"
    }
   ],
   "source": [
    "df.columns"
   ]
  },
  {
   "cell_type": "markdown",
   "id": "8f6fb182",
   "metadata": {},
   "source": [
    "<div class=\"alert alert-block alert-success\">\n",
    "<b>Comentario del revisor</b> <a class=\"tocSkip\"></a>\n",
    "    \n",
    "Buen trabajo.\n",
    "</div>"
   ]
  },
  {
   "cell_type": "markdown",
   "id": "084973ad",
   "metadata": {},
   "source": [
    "Teniendo las columnas en el formato adecuado, procedemos a analizar los valores ausentes para trabajarlos"
   ]
  },
  {
   "cell_type": "code",
   "execution_count": 8,
   "id": "ca66f962",
   "metadata": {},
   "outputs": [
    {
     "data": {
      "text/plain": [
       "date_crawled              0\n",
       "price                     0\n",
       "vehicle_type          37490\n",
       "registration_year         0\n",
       "gearbox               19833\n",
       "power                     0\n",
       "model                 19705\n",
       "mileage                   0\n",
       "registration_month        0\n",
       "fuel_type             32895\n",
       "brand                     0\n",
       "not_repaired          71154\n",
       "date_created              0\n",
       "number_of_pictures        0\n",
       "postal_code               0\n",
       "last_seen                 0\n",
       "dtype: int64"
      ]
     },
     "execution_count": 8,
     "metadata": {},
     "output_type": "execute_result"
    }
   ],
   "source": [
    "df.isna().sum()"
   ]
  },
  {
   "cell_type": "markdown",
   "id": "8107b157",
   "metadata": {},
   "source": [
    "La columna `number_of_pictures` no es relevante para nuestro modelo, por lo que la desecharemos"
   ]
  },
  {
   "cell_type": "code",
   "execution_count": 9,
   "id": "23811c30",
   "metadata": {},
   "outputs": [],
   "source": [
    "df = df.drop('number_of_pictures', axis=1)"
   ]
  },
  {
   "cell_type": "code",
   "execution_count": 10,
   "id": "7485d9d0",
   "metadata": {},
   "outputs": [
    {
     "data": {
      "text/plain": [
       "date_crawled              0\n",
       "price                     0\n",
       "vehicle_type          37490\n",
       "registration_year         0\n",
       "gearbox               19833\n",
       "power                     0\n",
       "model                 19705\n",
       "mileage                   0\n",
       "registration_month        0\n",
       "fuel_type             32895\n",
       "brand                     0\n",
       "not_repaired          71154\n",
       "date_created              0\n",
       "postal_code               0\n",
       "last_seen                 0\n",
       "dtype: int64"
      ]
     },
     "execution_count": 10,
     "metadata": {},
     "output_type": "execute_result"
    }
   ],
   "source": [
    "df.isna().sum()"
   ]
  },
  {
   "cell_type": "markdown",
   "id": "58d41952",
   "metadata": {},
   "source": [
    "En la columna `not_repaired` reemplazaremos los valores ausentes por *unknown*"
   ]
  },
  {
   "cell_type": "code",
   "execution_count": 11,
   "id": "a01c7f32",
   "metadata": {},
   "outputs": [],
   "source": [
    "df['not_repaired'].fillna(value='unknown',inplace=True)"
   ]
  },
  {
   "cell_type": "code",
   "execution_count": 12,
   "id": "b7e301b4",
   "metadata": {},
   "outputs": [],
   "source": [
    "df['vehicle_type'].fillna(value='unknown',inplace=True)"
   ]
  },
  {
   "cell_type": "code",
   "execution_count": 13,
   "id": "21cb4b40",
   "metadata": {},
   "outputs": [],
   "source": [
    "df['fuel_type'].fillna(value='unknown',inplace=True)"
   ]
  },
  {
   "cell_type": "code",
   "execution_count": 14,
   "id": "3a18b271",
   "metadata": {},
   "outputs": [],
   "source": [
    "df['gearbox'].fillna(value='unknown',inplace=True)"
   ]
  },
  {
   "cell_type": "code",
   "execution_count": 15,
   "id": "c199533c",
   "metadata": {},
   "outputs": [],
   "source": [
    "df['model'].fillna(value='unknown',inplace=True)"
   ]
  },
  {
   "cell_type": "code",
   "execution_count": 16,
   "id": "38b5677a",
   "metadata": {},
   "outputs": [
    {
     "data": {
      "text/html": [
       "<div>\n",
       "<style scoped>\n",
       "    .dataframe tbody tr th:only-of-type {\n",
       "        vertical-align: middle;\n",
       "    }\n",
       "\n",
       "    .dataframe tbody tr th {\n",
       "        vertical-align: top;\n",
       "    }\n",
       "\n",
       "    .dataframe thead th {\n",
       "        text-align: right;\n",
       "    }\n",
       "</style>\n",
       "<table border=\"1\" class=\"dataframe\">\n",
       "  <thead>\n",
       "    <tr style=\"text-align: right;\">\n",
       "      <th></th>\n",
       "      <th>price</th>\n",
       "      <th>registration_year</th>\n",
       "      <th>power</th>\n",
       "      <th>mileage</th>\n",
       "      <th>registration_month</th>\n",
       "      <th>postal_code</th>\n",
       "    </tr>\n",
       "  </thead>\n",
       "  <tbody>\n",
       "    <tr>\n",
       "      <th>count</th>\n",
       "      <td>354369.000000</td>\n",
       "      <td>354369.000000</td>\n",
       "      <td>354369.000000</td>\n",
       "      <td>354369.000000</td>\n",
       "      <td>354369.000000</td>\n",
       "      <td>354369.000000</td>\n",
       "    </tr>\n",
       "    <tr>\n",
       "      <th>mean</th>\n",
       "      <td>4416.656776</td>\n",
       "      <td>2004.234448</td>\n",
       "      <td>110.094337</td>\n",
       "      <td>128211.172535</td>\n",
       "      <td>5.714645</td>\n",
       "      <td>50508.689087</td>\n",
       "    </tr>\n",
       "    <tr>\n",
       "      <th>std</th>\n",
       "      <td>4514.158514</td>\n",
       "      <td>90.227958</td>\n",
       "      <td>189.850405</td>\n",
       "      <td>37905.341530</td>\n",
       "      <td>3.726421</td>\n",
       "      <td>25783.096248</td>\n",
       "    </tr>\n",
       "    <tr>\n",
       "      <th>min</th>\n",
       "      <td>0.000000</td>\n",
       "      <td>1000.000000</td>\n",
       "      <td>0.000000</td>\n",
       "      <td>5000.000000</td>\n",
       "      <td>0.000000</td>\n",
       "      <td>1067.000000</td>\n",
       "    </tr>\n",
       "    <tr>\n",
       "      <th>25%</th>\n",
       "      <td>1050.000000</td>\n",
       "      <td>1999.000000</td>\n",
       "      <td>69.000000</td>\n",
       "      <td>125000.000000</td>\n",
       "      <td>3.000000</td>\n",
       "      <td>30165.000000</td>\n",
       "    </tr>\n",
       "    <tr>\n",
       "      <th>50%</th>\n",
       "      <td>2700.000000</td>\n",
       "      <td>2003.000000</td>\n",
       "      <td>105.000000</td>\n",
       "      <td>150000.000000</td>\n",
       "      <td>6.000000</td>\n",
       "      <td>49413.000000</td>\n",
       "    </tr>\n",
       "    <tr>\n",
       "      <th>75%</th>\n",
       "      <td>6400.000000</td>\n",
       "      <td>2008.000000</td>\n",
       "      <td>143.000000</td>\n",
       "      <td>150000.000000</td>\n",
       "      <td>9.000000</td>\n",
       "      <td>71083.000000</td>\n",
       "    </tr>\n",
       "    <tr>\n",
       "      <th>max</th>\n",
       "      <td>20000.000000</td>\n",
       "      <td>9999.000000</td>\n",
       "      <td>20000.000000</td>\n",
       "      <td>150000.000000</td>\n",
       "      <td>12.000000</td>\n",
       "      <td>99998.000000</td>\n",
       "    </tr>\n",
       "  </tbody>\n",
       "</table>\n",
       "</div>"
      ],
      "text/plain": [
       "               price  registration_year          power        mileage  \\\n",
       "count  354369.000000      354369.000000  354369.000000  354369.000000   \n",
       "mean     4416.656776        2004.234448     110.094337  128211.172535   \n",
       "std      4514.158514          90.227958     189.850405   37905.341530   \n",
       "min         0.000000        1000.000000       0.000000    5000.000000   \n",
       "25%      1050.000000        1999.000000      69.000000  125000.000000   \n",
       "50%      2700.000000        2003.000000     105.000000  150000.000000   \n",
       "75%      6400.000000        2008.000000     143.000000  150000.000000   \n",
       "max     20000.000000        9999.000000   20000.000000  150000.000000   \n",
       "\n",
       "       registration_month    postal_code  \n",
       "count       354369.000000  354369.000000  \n",
       "mean             5.714645   50508.689087  \n",
       "std              3.726421   25783.096248  \n",
       "min              0.000000    1067.000000  \n",
       "25%              3.000000   30165.000000  \n",
       "50%              6.000000   49413.000000  \n",
       "75%              9.000000   71083.000000  \n",
       "max             12.000000   99998.000000  "
      ]
     },
     "execution_count": 16,
     "metadata": {},
     "output_type": "execute_result"
    }
   ],
   "source": [
    "df.describe()"
   ]
  },
  {
   "cell_type": "markdown",
   "id": "020c1f7b",
   "metadata": {},
   "source": [
    "Se eliminarán los valores ausentes en el resto de las columnas"
   ]
  },
  {
   "cell_type": "code",
   "execution_count": 17,
   "id": "a1f608f1",
   "metadata": {},
   "outputs": [],
   "source": [
    "df.dropna(inplace=True)"
   ]
  },
  {
   "cell_type": "code",
   "execution_count": 18,
   "id": "1bedface",
   "metadata": {},
   "outputs": [
    {
     "data": {
      "text/plain": [
       "262"
      ]
     },
     "execution_count": 18,
     "metadata": {},
     "output_type": "execute_result"
    }
   ],
   "source": [
    "df.duplicated().sum()"
   ]
  },
  {
   "cell_type": "markdown",
   "id": "554c4b8d",
   "metadata": {},
   "source": [
    "Se eliminan los valores duplicados"
   ]
  },
  {
   "cell_type": "code",
   "execution_count": 19,
   "id": "e28f2504",
   "metadata": {},
   "outputs": [],
   "source": [
    "df.drop_duplicates(inplace=True)"
   ]
  },
  {
   "cell_type": "code",
   "execution_count": 20,
   "id": "fdfc707d",
   "metadata": {},
   "outputs": [
    {
     "name": "stdout",
     "output_type": "stream",
     "text": [
      "<class 'pandas.core.frame.DataFrame'>\n",
      "Int64Index: 354107 entries, 0 to 354368\n",
      "Data columns (total 15 columns):\n",
      " #   Column              Non-Null Count   Dtype \n",
      "---  ------              --------------   ----- \n",
      " 0   date_crawled        354107 non-null  object\n",
      " 1   price               354107 non-null  int64 \n",
      " 2   vehicle_type        354107 non-null  object\n",
      " 3   registration_year   354107 non-null  int64 \n",
      " 4   gearbox             354107 non-null  object\n",
      " 5   power               354107 non-null  int64 \n",
      " 6   model               354107 non-null  object\n",
      " 7   mileage             354107 non-null  int64 \n",
      " 8   registration_month  354107 non-null  int64 \n",
      " 9   fuel_type           354107 non-null  object\n",
      " 10  brand               354107 non-null  object\n",
      " 11  not_repaired        354107 non-null  object\n",
      " 12  date_created        354107 non-null  object\n",
      " 13  postal_code         354107 non-null  int64 \n",
      " 14  last_seen           354107 non-null  object\n",
      "dtypes: int64(6), object(9)\n",
      "memory usage: 43.2+ MB\n"
     ]
    }
   ],
   "source": [
    "df.info()"
   ]
  },
  {
   "cell_type": "markdown",
   "id": "7b6b759f",
   "metadata": {},
   "source": [
    "En las columnas `price, power, registration_month` hay valores de *0*, esto no es posible, cada auto en el sitio deberá tener esta información, por lo que para nuestro trabajo eliminaremos esas filas."
   ]
  },
  {
   "cell_type": "code",
   "execution_count": 21,
   "id": "28ecfbb9",
   "metadata": {},
   "outputs": [],
   "source": [
    "df = df[(df['price']!=0) & (df['power']!=0) & (df['registration_month']!=0)]"
   ]
  },
  {
   "cell_type": "markdown",
   "id": "fe04d04b",
   "metadata": {},
   "source": [
    "De acuerdo con la información presentada, el año más grande que se tiene de un auto es del año *9999*, este valor es ilógico ya que nos encontramos en el año 2023, por otra parte el año menor es *1000* siendo que el automovil salió al mercado antes de 1900, por lo que filtraremos los datos entre el año 1900 y 2023."
   ]
  },
  {
   "cell_type": "code",
   "execution_count": 22,
   "id": "2363e24c",
   "metadata": {},
   "outputs": [],
   "source": [
    "df = df[(1900 <= df['registration_year']) & (df['registration_year']<=2023)]"
   ]
  },
  {
   "cell_type": "code",
   "execution_count": 23,
   "id": "7a28b7a2",
   "metadata": {},
   "outputs": [
    {
     "data": {
      "text/html": [
       "<div>\n",
       "<style scoped>\n",
       "    .dataframe tbody tr th:only-of-type {\n",
       "        vertical-align: middle;\n",
       "    }\n",
       "\n",
       "    .dataframe tbody tr th {\n",
       "        vertical-align: top;\n",
       "    }\n",
       "\n",
       "    .dataframe thead th {\n",
       "        text-align: right;\n",
       "    }\n",
       "</style>\n",
       "<table border=\"1\" class=\"dataframe\">\n",
       "  <thead>\n",
       "    <tr style=\"text-align: right;\">\n",
       "      <th></th>\n",
       "      <th>price</th>\n",
       "      <th>registration_year</th>\n",
       "      <th>power</th>\n",
       "      <th>mileage</th>\n",
       "      <th>registration_month</th>\n",
       "      <th>postal_code</th>\n",
       "    </tr>\n",
       "  </thead>\n",
       "  <tbody>\n",
       "    <tr>\n",
       "      <th>count</th>\n",
       "      <td>286847.000000</td>\n",
       "      <td>286847.000000</td>\n",
       "      <td>286847.000000</td>\n",
       "      <td>286847.000000</td>\n",
       "      <td>286847.000000</td>\n",
       "      <td>286847.000000</td>\n",
       "    </tr>\n",
       "    <tr>\n",
       "      <th>mean</th>\n",
       "      <td>4977.472412</td>\n",
       "      <td>2003.391383</td>\n",
       "      <td>124.459625</td>\n",
       "      <td>127944.670852</td>\n",
       "      <td>6.380736</td>\n",
       "      <td>51304.390166</td>\n",
       "    </tr>\n",
       "    <tr>\n",
       "      <th>std</th>\n",
       "      <td>4630.907071</td>\n",
       "      <td>6.790596</td>\n",
       "      <td>183.680843</td>\n",
       "      <td>36831.279433</td>\n",
       "      <td>3.347734</td>\n",
       "      <td>25741.706387</td>\n",
       "    </tr>\n",
       "    <tr>\n",
       "      <th>min</th>\n",
       "      <td>1.000000</td>\n",
       "      <td>1910.000000</td>\n",
       "      <td>1.000000</td>\n",
       "      <td>5000.000000</td>\n",
       "      <td>1.000000</td>\n",
       "      <td>1067.000000</td>\n",
       "    </tr>\n",
       "    <tr>\n",
       "      <th>25%</th>\n",
       "      <td>1450.000000</td>\n",
       "      <td>1999.000000</td>\n",
       "      <td>77.000000</td>\n",
       "      <td>125000.000000</td>\n",
       "      <td>4.000000</td>\n",
       "      <td>30989.000000</td>\n",
       "    </tr>\n",
       "    <tr>\n",
       "      <th>50%</th>\n",
       "      <td>3300.000000</td>\n",
       "      <td>2004.000000</td>\n",
       "      <td>113.000000</td>\n",
       "      <td>150000.000000</td>\n",
       "      <td>6.000000</td>\n",
       "      <td>50354.000000</td>\n",
       "    </tr>\n",
       "    <tr>\n",
       "      <th>75%</th>\n",
       "      <td>7199.000000</td>\n",
       "      <td>2008.000000</td>\n",
       "      <td>150.000000</td>\n",
       "      <td>150000.000000</td>\n",
       "      <td>9.000000</td>\n",
       "      <td>72119.000000</td>\n",
       "    </tr>\n",
       "    <tr>\n",
       "      <th>max</th>\n",
       "      <td>20000.000000</td>\n",
       "      <td>2019.000000</td>\n",
       "      <td>20000.000000</td>\n",
       "      <td>150000.000000</td>\n",
       "      <td>12.000000</td>\n",
       "      <td>99998.000000</td>\n",
       "    </tr>\n",
       "  </tbody>\n",
       "</table>\n",
       "</div>"
      ],
      "text/plain": [
       "               price  registration_year          power        mileage  \\\n",
       "count  286847.000000      286847.000000  286847.000000  286847.000000   \n",
       "mean     4977.472412        2003.391383     124.459625  127944.670852   \n",
       "std      4630.907071           6.790596     183.680843   36831.279433   \n",
       "min         1.000000        1910.000000       1.000000    5000.000000   \n",
       "25%      1450.000000        1999.000000      77.000000  125000.000000   \n",
       "50%      3300.000000        2004.000000     113.000000  150000.000000   \n",
       "75%      7199.000000        2008.000000     150.000000  150000.000000   \n",
       "max     20000.000000        2019.000000   20000.000000  150000.000000   \n",
       "\n",
       "       registration_month    postal_code  \n",
       "count       286847.000000  286847.000000  \n",
       "mean             6.380736   51304.390166  \n",
       "std              3.347734   25741.706387  \n",
       "min              1.000000    1067.000000  \n",
       "25%              4.000000   30989.000000  \n",
       "50%              6.000000   50354.000000  \n",
       "75%              9.000000   72119.000000  \n",
       "max             12.000000   99998.000000  "
      ]
     },
     "execution_count": 23,
     "metadata": {},
     "output_type": "execute_result"
    }
   ],
   "source": [
    "df.describe()"
   ]
  },
  {
   "cell_type": "code",
   "execution_count": 24,
   "id": "27a3cb58",
   "metadata": {
    "scrolled": true
   },
   "outputs": [
    {
     "data": {
      "text/html": [
       "<div>\n",
       "<style scoped>\n",
       "    .dataframe tbody tr th:only-of-type {\n",
       "        vertical-align: middle;\n",
       "    }\n",
       "\n",
       "    .dataframe tbody tr th {\n",
       "        vertical-align: top;\n",
       "    }\n",
       "\n",
       "    .dataframe thead th {\n",
       "        text-align: right;\n",
       "    }\n",
       "</style>\n",
       "<table border=\"1\" class=\"dataframe\">\n",
       "  <thead>\n",
       "    <tr style=\"text-align: right;\">\n",
       "      <th></th>\n",
       "      <th>date_crawled</th>\n",
       "      <th>price</th>\n",
       "      <th>vehicle_type</th>\n",
       "      <th>registration_year</th>\n",
       "      <th>gearbox</th>\n",
       "      <th>power</th>\n",
       "      <th>model</th>\n",
       "      <th>mileage</th>\n",
       "      <th>registration_month</th>\n",
       "      <th>fuel_type</th>\n",
       "      <th>brand</th>\n",
       "      <th>not_repaired</th>\n",
       "      <th>date_created</th>\n",
       "      <th>postal_code</th>\n",
       "      <th>last_seen</th>\n",
       "    </tr>\n",
       "  </thead>\n",
       "  <tbody>\n",
       "    <tr>\n",
       "      <th>1</th>\n",
       "      <td>24/03/2016 10:58</td>\n",
       "      <td>18300</td>\n",
       "      <td>coupe</td>\n",
       "      <td>2011</td>\n",
       "      <td>manual</td>\n",
       "      <td>190</td>\n",
       "      <td>unknown</td>\n",
       "      <td>125000</td>\n",
       "      <td>5</td>\n",
       "      <td>gasoline</td>\n",
       "      <td>audi</td>\n",
       "      <td>yes</td>\n",
       "      <td>24/03/2016 00:00</td>\n",
       "      <td>66954</td>\n",
       "      <td>07/04/2016 01:46</td>\n",
       "    </tr>\n",
       "    <tr>\n",
       "      <th>2</th>\n",
       "      <td>14/03/2016 12:52</td>\n",
       "      <td>9800</td>\n",
       "      <td>suv</td>\n",
       "      <td>2004</td>\n",
       "      <td>auto</td>\n",
       "      <td>163</td>\n",
       "      <td>grand</td>\n",
       "      <td>125000</td>\n",
       "      <td>8</td>\n",
       "      <td>gasoline</td>\n",
       "      <td>jeep</td>\n",
       "      <td>unknown</td>\n",
       "      <td>14/03/2016 00:00</td>\n",
       "      <td>90480</td>\n",
       "      <td>05/04/2016 12:47</td>\n",
       "    </tr>\n",
       "    <tr>\n",
       "      <th>3</th>\n",
       "      <td>17/03/2016 16:54</td>\n",
       "      <td>1500</td>\n",
       "      <td>small</td>\n",
       "      <td>2001</td>\n",
       "      <td>manual</td>\n",
       "      <td>75</td>\n",
       "      <td>golf</td>\n",
       "      <td>150000</td>\n",
       "      <td>6</td>\n",
       "      <td>petrol</td>\n",
       "      <td>volkswagen</td>\n",
       "      <td>no</td>\n",
       "      <td>17/03/2016 00:00</td>\n",
       "      <td>91074</td>\n",
       "      <td>17/03/2016 17:40</td>\n",
       "    </tr>\n",
       "  </tbody>\n",
       "</table>\n",
       "</div>"
      ],
      "text/plain": [
       "       date_crawled  price vehicle_type  registration_year gearbox  power  \\\n",
       "1  24/03/2016 10:58  18300        coupe               2011  manual    190   \n",
       "2  14/03/2016 12:52   9800          suv               2004    auto    163   \n",
       "3  17/03/2016 16:54   1500        small               2001  manual     75   \n",
       "\n",
       "     model  mileage  registration_month fuel_type       brand not_repaired  \\\n",
       "1  unknown   125000                   5  gasoline        audi          yes   \n",
       "2    grand   125000                   8  gasoline        jeep      unknown   \n",
       "3     golf   150000                   6    petrol  volkswagen           no   \n",
       "\n",
       "       date_created  postal_code         last_seen  \n",
       "1  24/03/2016 00:00        66954  07/04/2016 01:46  \n",
       "2  14/03/2016 00:00        90480  05/04/2016 12:47  \n",
       "3  17/03/2016 00:00        91074  17/03/2016 17:40  "
      ]
     },
     "execution_count": 24,
     "metadata": {},
     "output_type": "execute_result"
    }
   ],
   "source": [
    "df.head(3)"
   ]
  },
  {
   "cell_type": "code",
   "execution_count": 25,
   "id": "e06193d6",
   "metadata": {},
   "outputs": [],
   "source": [
    "df = df.drop(['date_crawled','date_created','last_seen','postal_code'],axis=1)"
   ]
  },
  {
   "cell_type": "markdown",
   "id": "d5b31c4a",
   "metadata": {},
   "source": [
    "<div class=\"alert alert-block alert-success\">\n",
    "<b>Comentario del revisor</b> <a class=\"tocSkip\"></a>\n",
    "    \n",
    "Buen trabajo en este apartado de la limpieza de datos.\n",
    "</div>"
   ]
  },
  {
   "cell_type": "code",
   "execution_count": 26,
   "id": "c705f94a",
   "metadata": {},
   "outputs": [],
   "source": [
    "numeric = ['price','power','mileage']\n",
    "categoric = ['vehicle_type','gearbox','fuel_type','brand']"
   ]
  },
  {
   "cell_type": "code",
   "execution_count": 27,
   "id": "8bf74b01",
   "metadata": {},
   "outputs": [
    {
     "data": {
      "image/png": "[encoded data removed]",
      "text/plain": [
       "<Figure size 432x288 with 1 Axes>"
      ]
     },
     "metadata": {
      "needs_background": "light"
     },
     "output_type": "display_data"
    },
    {
     "data": {
      "image/png": "[encoded data removed]",
      "text/plain": [
       "<Figure size 432x288 with 1 Axes>"
      ]
     },
     "metadata": {
      "needs_background": "light"
     },
     "output_type": "display_data"
    },
    {
     "data": {
      "image/png": "[encoded data removed]",
      "text/plain": [
       "<Figure size 432x288 with 1 Axes>"
      ]
     },
     "metadata": {
      "needs_background": "light"
     },
     "output_type": "display_data"
    }
   ],
   "source": [
    "for column in numeric:\n",
    "    df.hist(column=column, bins=10)\n",
    "    plt.show()"
   ]
  },
  {
   "cell_type": "code",
   "execution_count": 28,
   "id": "4c6a1190",
   "metadata": {},
   "outputs": [
    {
     "data": {
      "image/png": "[encoded data removed]",
      "text/plain": [
       "<Figure size 432x288 with 1 Axes>"
      ]
     },
     "metadata": {
      "needs_background": "light"
     },
     "output_type": "display_data"
    },
    {
     "data": {
      "image/png": "[encoded data removed]",
      "text/plain": [
       "<Figure size 432x288 with 1 Axes>"
      ]
     },
     "metadata": {
      "needs_background": "light"
     },
     "output_type": "display_data"
    },
    {
     "data": {
      "image/png": "[encoded data removed]",
      "text/plain": [
       "<Figure size 432x288 with 1 Axes>"
      ]
     },
     "metadata": {
      "needs_background": "light"
     },
     "output_type": "display_data"
    },
    {
     "data": {
      "image/png": "[encoded data removed]",
      "text/plain": [
       "<Figure size 432x288 with 1 Axes>"
      ]
     },
     "metadata": {
      "needs_background": "light"
     },
     "output_type": "display_data"
    }
   ],
   "source": [
    "for column in categoric:\n",
    "    df[column].value_counts().head(10).plot(kind='bar', grid=True, title=column)\n",
    "    plt.show()"
   ]
  },
  {
   "cell_type": "markdown",
   "id": "7d5b0ce4",
   "metadata": {},
   "source": [
    "## Entrenamiento del modelo "
   ]
  },
  {
   "cell_type": "markdown",
   "id": "88e56cea",
   "metadata": {},
   "source": [
    "### Datasets entrenamiento, prueba"
   ]
  },
  {
   "cell_type": "code",
   "execution_count": 29,
   "id": "dbf9a599",
   "metadata": {},
   "outputs": [],
   "source": [
    "f = df.drop(['price'], axis=1)\n",
    "t = df['price']"
   ]
  },
  {
   "cell_type": "code",
   "execution_count": 30,
   "id": "f514df69",
   "metadata": {},
   "outputs": [],
   "source": [
    "f_ohe = pd.get_dummies(f)"
   ]
  },
  {
   "cell_type": "code",
   "execution_count": 31,
   "id": "84bd90d4",
   "metadata": {},
   "outputs": [
    {
     "data": {
      "text/plain": [
       "(286847,)"
      ]
     },
     "execution_count": 31,
     "metadata": {},
     "output_type": "execute_result"
    }
   ],
   "source": [
    "t.shape"
   ]
  },
  {
   "cell_type": "code",
   "execution_count": 32,
   "id": "4de250f1",
   "metadata": {},
   "outputs": [
    {
     "data": {
      "text/plain": [
       "(286847, 317)"
      ]
     },
     "execution_count": 32,
     "metadata": {},
     "output_type": "execute_result"
    }
   ],
   "source": [
    "f_ohe.shape"
   ]
  },
  {
   "cell_type": "code",
   "execution_count": 33,
   "id": "aca56fa0",
   "metadata": {},
   "outputs": [],
   "source": [
    "f_ohe_train, f_ohe_test, t_ohe_train, t_ohe_test = train_test_split(f_ohe, t, test_size=0.3, random_state=random_state)"
   ]
  },
  {
   "cell_type": "code",
   "execution_count": 34,
   "id": "0c27c747",
   "metadata": {},
   "outputs": [],
   "source": [
    "f_train, f_test, t_train, t_test = train_test_split(f, t, test_size=0.3, random_state=random_state)"
   ]
  },
  {
   "cell_type": "markdown",
   "id": "399f66cc",
   "metadata": {},
   "source": [
    "<div class=\"alert alert-block alert-success\">\n",
    "<b>Comentario del revisor</b> <a class=\"tocSkip\"></a>\n",
    "    \n",
    "Bien. Todo ha sido corregido.\n",
    "</div>"
   ]
  },
  {
   "cell_type": "markdown",
   "id": "cac3d565",
   "metadata": {},
   "source": [
    "### Función evaluación"
   ]
  },
  {
   "cell_type": "code",
   "execution_count": 35,
   "id": "6db9eaf9",
   "metadata": {},
   "outputs": [],
   "source": [
    "#def result(pred, target):\n",
    " #   mse = mean_squared_error(target, pred)\n",
    "  #  return mse**0.5\n",
    "#scorer = make_scorer(result, greater_is_better=False)"
   ]
  },
  {
   "cell_type": "markdown",
   "id": "0add9bce",
   "metadata": {},
   "source": [
    "#### LightGBM"
   ]
  },
  {
   "cell_type": "code",
   "execution_count": 36,
   "id": "52f60fd3",
   "metadata": {
    "scrolled": true
   },
   "outputs": [
    {
     "data": {
      "text/plain": [
       "{'learning_rate': 0.1,\n",
       " 'n_estimators': 100,\n",
       " 'num_leaves': 93,\n",
       " 'random_state': 12345}"
      ]
     },
     "execution_count": 36,
     "metadata": {},
     "output_type": "execute_result"
    }
   ],
   "source": [
    "model = LGBMRegressor()\n",
    "\n",
    "parameters = {\n",
    "    'num_leaves': [31, 62,93],\n",
    "    'learning_rate':[0.1],\n",
    "    'n_estimators':[10,100],\n",
    "    'random_state':[random_state]\n",
    "}\n",
    "\n",
    "grid = GridSearchCV(estimator=model, param_grid=parameters,scoring='neg_root_mean_squared_error')\n",
    "\n",
    "grid.fit(f_ohe_train, t_ohe_train)\n",
    "\n",
    "best_param = grid.best_params_\n",
    "best_param"
   ]
  },
  {
   "cell_type": "code",
   "execution_count": 37,
   "id": "c2602b03",
   "metadata": {},
   "outputs": [],
   "source": [
    "start_lgbm = time.time()\n",
    "\n",
    "lgbm = LGBMRegressor(learning_rate=0.1, n_estimators=100, num_leaves=93,random_state=random_state)\n",
    "\n",
    "lgbm.fit(f_ohe_train, t_ohe_train)\n",
    "\n",
    "finish_fit_lgbm = time.time()\n",
    "\n",
    "lgbm_pred = lgbm.predict(f_ohe_test)\n",
    "\n",
    "finish_predict_lgbm = time.time()"
   ]
  },
  {
   "cell_type": "code",
   "execution_count": 38,
   "id": "48e3fb55",
   "metadata": {},
   "outputs": [
    {
     "name": "stdout",
     "output_type": "stream",
     "text": [
      "1613.764\n",
      "13.889\n",
      "15.41\n"
     ]
    }
   ],
   "source": [
    "lgbm_result = round(mean_squared_error(t_ohe_test, lgbm_pred,squared=False),3)\n",
    "print(lgbm_result)\n",
    "\n",
    "lgbmf_time = round(finish_fit_lgbm - start_lgbm,3)\n",
    "print(lgbmf_time)\n",
    "\n",
    "lgbmp_time = round(finish_predict_lgbm - start_lgbm,3)\n",
    "print(lgbmp_time)"
   ]
  },
  {
   "cell_type": "markdown",
   "id": "c8f91b11",
   "metadata": {},
   "source": [
    "### Árbol de regresión"
   ]
  },
  {
   "cell_type": "code",
   "execution_count": 39,
   "id": "37ecd5b8",
   "metadata": {},
   "outputs": [
    {
     "data": {
      "text/plain": [
       "{'max_depth': 10, 'random_state': 12345}"
      ]
     },
     "execution_count": 39,
     "metadata": {},
     "output_type": "execute_result"
    }
   ],
   "source": [
    "DTR = DecisionTreeRegressor()\n",
    "\n",
    "parameters = {\n",
    "    'max_depth':[10,100],\n",
    "    'random_state':[random_state]}\n",
    "\n",
    "grid = GridSearchCV(estimator=DTR, param_grid=parameters,scoring='neg_root_mean_squared_error', cv=3)\n",
    "\n",
    "grid.fit(f_ohe_train, t_ohe_train)\n",
    "\n",
    "best_param = grid.best_params_\n",
    "best_param"
   ]
  },
  {
   "cell_type": "code",
   "execution_count": 40,
   "id": "01960206",
   "metadata": {},
   "outputs": [],
   "source": [
    "start_dtr = time.time()\n",
    "dtr = DecisionTreeRegressor(max_depth=10, random_state=random_state)\n",
    "\n",
    "dtr.fit(f_ohe_train, t_ohe_train)\n",
    "\n",
    "finish_fit_dtr = time.time()\n",
    "\n",
    "dtr_pred = dtr.predict(f_ohe_test)\n",
    "\n",
    "finish_predict_dtr = time.time()"
   ]
  },
  {
   "cell_type": "code",
   "execution_count": 41,
   "id": "246c311a",
   "metadata": {},
   "outputs": [
    {
     "name": "stdout",
     "output_type": "stream",
     "text": [
      "2015.152\n",
      "4.24\n",
      "4.346\n"
     ]
    }
   ],
   "source": [
    "dtr_result = round(mean_squared_error(t_ohe_test, dtr_pred,squared=False),3)\n",
    "print(dtr_result)\n",
    "\n",
    "dtrf_time = round(finish_fit_dtr - start_dtr,3)\n",
    "print(dtrf_time)\n",
    "\n",
    "dtrp_time = round(finish_predict_dtr - start_dtr,3)\n",
    "print(dtrp_time)"
   ]
  },
  {
   "cell_type": "markdown",
   "id": "cb9d710d",
   "metadata": {},
   "source": [
    "### Bosque Aleatorio de Regresión"
   ]
  },
  {
   "cell_type": "code",
   "execution_count": 42,
   "id": "9b3cedeb",
   "metadata": {},
   "outputs": [
    {
     "data": {
      "text/plain": [
       "{'max_depth': 4, 'random_state': 12345}"
      ]
     },
     "execution_count": 42,
     "metadata": {},
     "output_type": "execute_result"
    }
   ],
   "source": [
    "RFR = RandomForestRegressor()\n",
    "\n",
    "parameters = {\n",
    "    'max_depth':[2,4],\n",
    "    'random_state':[random_state]}\n",
    "\n",
    "grid = GridSearchCV(estimator=RFR, param_grid=parameters, scoring='neg_root_mean_squared_error', cv=3)\n",
    "\n",
    "grid.fit(f_ohe_train, t_ohe_train)\n",
    "\n",
    "best_param = grid.best_params_\n",
    "best_param"
   ]
  },
  {
   "cell_type": "code",
   "execution_count": 43,
   "id": "be2fc055",
   "metadata": {},
   "outputs": [],
   "source": [
    "start_rfr = time.time()\n",
    "rfr = RandomForestRegressor(max_depth=4, random_state=random_state)\n",
    "\n",
    "rfr.fit(f_ohe_train, t_ohe_train)\n",
    "\n",
    "finish_fit_rfr = time.time()\n",
    "\n",
    "rfr_pred = rfr.predict(f_ohe_test)\n",
    "\n",
    "finish_predict_rfr = time.time()"
   ]
  },
  {
   "cell_type": "code",
   "execution_count": 44,
   "id": "a47a4ba9",
   "metadata": {},
   "outputs": [
    {
     "name": "stdout",
     "output_type": "stream",
     "text": [
      "2685.446\n",
      "120.198\n",
      "120.627\n"
     ]
    }
   ],
   "source": [
    "rfr_result = round(mean_squared_error(t_ohe_test, rfr_pred,squared=False),3)\n",
    "print(rfr_result)\n",
    "\n",
    "rfrf_time = round(finish_fit_rfr - start_rfr,3)\n",
    "print(rfrf_time)\n",
    "\n",
    "rfrp_time = round(finish_predict_rfr - start_rfr,3)\n",
    "print(rfrp_time)"
   ]
  },
  {
   "cell_type": "markdown",
   "id": "2580c712",
   "metadata": {},
   "source": [
    "### LinearRegressor"
   ]
  },
  {
   "cell_type": "code",
   "execution_count": 45,
   "id": "927f3558",
   "metadata": {},
   "outputs": [],
   "source": [
    "start_lrm = time.time()\n",
    "\n",
    "lrm = LinearRegression()\n",
    "\n",
    "lrm.fit(f_ohe_train, t_ohe_train)\n",
    "\n",
    "finish_fit_lrm = time.time()\n",
    "\n",
    "lrm_pred = lrm.predict(f_ohe_test)\n",
    "\n",
    "finish_predict_lrm = time.time()"
   ]
  },
  {
   "cell_type": "code",
   "execution_count": 46,
   "id": "3dd8cdf7",
   "metadata": {},
   "outputs": [
    {
     "name": "stdout",
     "output_type": "stream",
     "text": [
      "2776.266\n",
      "16.559\n",
      "16.777\n"
     ]
    }
   ],
   "source": [
    "lrm_result = round(mean_squared_error(t_ohe_test, lrm_pred,squared=False),3)\n",
    "print(lrm_result)\n",
    "\n",
    "lrmf_time = round(finish_fit_lrm - start_lrm,3)\n",
    "print(lrmf_time)\n",
    "\n",
    "lrmp_time = round(finish_predict_lrm - start_lrm,3)\n",
    "print(lrmp_time)"
   ]
  },
  {
   "cell_type": "markdown",
   "id": "ca65b997",
   "metadata": {},
   "source": [
    "## Análisis del modelo"
   ]
  },
  {
   "cell_type": "code",
   "execution_count": 47,
   "id": "2b680c56",
   "metadata": {},
   "outputs": [],
   "source": [
    "index = ['LGBM','DecisionTreeRegressor','RandomForestRegressor','LinearRegresion']"
   ]
  },
  {
   "cell_type": "code",
   "execution_count": 48,
   "id": "3fc8b561",
   "metadata": {},
   "outputs": [],
   "source": [
    "d = {'rmse':[lgbm_result, dtr_result, rfr_result, lrm_result],\n",
    "    'time_fitting':[lgbmf_time, dtrf_time, rfrf_time, lrmf_time],\n",
    "    'time_predicting':[lgbmp_time, dtrp_time, rfrp_time, lrmp_time]}"
   ]
  },
  {
   "cell_type": "code",
   "execution_count": 49,
   "id": "727a5c5a",
   "metadata": {},
   "outputs": [
    {
     "data": {
      "text/html": [
       "<div>\n",
       "<style scoped>\n",
       "    .dataframe tbody tr th:only-of-type {\n",
       "        vertical-align: middle;\n",
       "    }\n",
       "\n",
       "    .dataframe tbody tr th {\n",
       "        vertical-align: top;\n",
       "    }\n",
       "\n",
       "    .dataframe thead th {\n",
       "        text-align: right;\n",
       "    }\n",
       "</style>\n",
       "<table border=\"1\" class=\"dataframe\">\n",
       "  <thead>\n",
       "    <tr style=\"text-align: right;\">\n",
       "      <th></th>\n",
       "      <th>rmse</th>\n",
       "      <th>time_fitting</th>\n",
       "      <th>time_predicting</th>\n",
       "    </tr>\n",
       "  </thead>\n",
       "  <tbody>\n",
       "    <tr>\n",
       "      <th>LGBM</th>\n",
       "      <td>1613.764</td>\n",
       "      <td>13.889</td>\n",
       "      <td>15.410</td>\n",
       "    </tr>\n",
       "    <tr>\n",
       "      <th>DecisionTreeRegressor</th>\n",
       "      <td>2015.152</td>\n",
       "      <td>4.240</td>\n",
       "      <td>4.346</td>\n",
       "    </tr>\n",
       "    <tr>\n",
       "      <th>RandomForestRegressor</th>\n",
       "      <td>2685.446</td>\n",
       "      <td>120.198</td>\n",
       "      <td>120.627</td>\n",
       "    </tr>\n",
       "    <tr>\n",
       "      <th>LinearRegresion</th>\n",
       "      <td>2776.266</td>\n",
       "      <td>16.559</td>\n",
       "      <td>16.777</td>\n",
       "    </tr>\n",
       "  </tbody>\n",
       "</table>\n",
       "</div>"
      ],
      "text/plain": [
       "                           rmse  time_fitting  time_predicting\n",
       "LGBM                   1613.764        13.889           15.410\n",
       "DecisionTreeRegressor  2015.152         4.240            4.346\n",
       "RandomForestRegressor  2685.446       120.198          120.627\n",
       "LinearRegresion        2776.266        16.559           16.777"
      ]
     },
     "execution_count": 49,
     "metadata": {},
     "output_type": "execute_result"
    }
   ],
   "source": [
    "models = pd.DataFrame(data=d, index=index).sort_values(by='rmse',ascending=True)\n",
    "models"
   ]
  },
  {
   "cell_type": "code",
   "execution_count": 50,
   "id": "f528b5e9",
   "metadata": {
    "scrolled": false
   },
   "outputs": [
    {
     "data": {
      "image/png": "[encoded data removed]",
      "text/plain": [
       "<Figure size 648x432 with 1 Axes>"
      ]
     },
     "metadata": {
      "needs_background": "light"
     },
     "output_type": "display_data"
    },
    {
     "data": {
      "image/png": "[encoded data removed]",
      "text/plain": [
       "<Figure size 648x432 with 1 Axes>"
      ]
     },
     "metadata": {
      "needs_background": "light"
     },
     "output_type": "display_data"
    },
    {
     "data": {
      "image/png": "[encoded data removed]",
      "text/plain": [
       "<Figure size 648x432 with 1 Axes>"
      ]
     },
     "metadata": {
      "needs_background": "light"
     },
     "output_type": "display_data"
    }
   ],
   "source": [
    "for column in models.columns:\n",
    "    models[column].plot(kind='bar', figsize=(9,6), title=column, grid=True)\n",
    "    plt.show()"
   ]
  },
  {
   "cell_type": "markdown",
   "id": "b7acf213",
   "metadata": {},
   "source": [
    "<div class=\"alert alert-block alert-danger\">\n",
    "<b>Comentario del revisor</b> <a class=\"tocSkip\"></a>\n",
    "    \n",
    "Buen trabajo en esta sección. Sin embargo, queda algo de espacio para poder mejorar el modelo de boosting. Incrementa las opciones de hiperparámetros.\n",
    "</div>"
   ]
  },
  {
   "cell_type": "markdown",
   "id": "f383acb2",
   "metadata": {},
   "source": [
    "<div class=\"alert alert-block alert-success\">\n",
    "<b>Comentario del revisor</b> <a class=\"tocSkip\"></a>\n",
    "    \n",
    "¡Perfecto! Es lo que esperamos. Un modelo de boosting siempre debe ser mejor que RF.\n",
    "</div>"
   ]
  },
  {
   "cell_type": "markdown",
   "id": "aadc0366",
   "metadata": {},
   "source": [
    "# Conclusiones"
   ]
  },
  {
   "cell_type": "markdown",
   "id": "708c85c9",
   "metadata": {},
   "source": [
    "El modelo que mejor nos arrojo fue el LGBM, el cual es el que en menor tiempo arroja resultados con nuestros datos.\n",
    "\n",
    "Se recomienda el uso de este tipo de modelo de regresión para las predicciones de los precios de los autos."
   ]
  },
  {
   "cell_type": "markdown",
   "id": "b3aa10c4",
   "metadata": {},
   "source": [
    "<div class=\"alert alert-block alert-danger\">\n",
    "    \n",
    "# Comentarios generales\n",
    "<b>Comentario del revisor</b> <a class=\"tocSkip\"></a>\n",
    "    \n",
    "Buen trabajo, Héctor. Nos quedan algunos elementos por corregir antes de poder aprobar tu proyecto. He dejado comentarios a lo largo del documento para ello.\n",
    "</div>"
   ]
  },
  {
   "cell_type": "markdown",
   "id": "b46bcfb4",
   "metadata": {},
   "source": [
    "<div class=\"alert alert-block alert-success\">\n",
    "    \n",
    "# Comentarios generales\n",
    "<b>Comentario del revisor</b> <a class=\"tocSkip\"></a>\n",
    "    \n",
    "¡Todo corregido! Has aprobado un nuevo proyecto.\n",
    "</div>"
   ]
  },
  {
   "cell_type": "markdown",
   "id": "e7befb8c",
   "metadata": {},
   "source": [
    "# Lista de control"
   ]
  },
  {
   "cell_type": "markdown",
   "id": "391a735a",
   "metadata": {},
   "source": [
    "Escribe 'x' para verificar. Luego presiona Shift+Enter"
   ]
  },
  {
   "cell_type": "markdown",
   "id": "b0268003",
   "metadata": {},
   "source": [
    "- [x]  Jupyter Notebook está abierto\n",
    "- [ ]  El código no tiene errores\n",
    "- [ ]  Las celdas con el código han sido colocadas en orden de ejecución\n",
    "- [ ]  Los datos han sido descargados y preparados\n",
    "- [ ]  Los modelos han sido entrenados\n",
    "- [ ]  Se realizó el análisis de velocidad y calidad de los modelos"
   ]
  },
  {
   "cell_type": "code",
   "execution_count": null,
   "id": "28fd141b",
   "metadata": {},
   "outputs": [],
   "source": []
  },
  {
   "cell_type": "code",
   "execution_count": null,
   "id": "790149f4",
   "metadata": {},
   "outputs": [],
   "source": []
  }
 ],
 "metadata": {
  "kernelspec": {
   "display_name": "Python 3 (ipykernel)",
   "language": "python",
   "name": "python3"
  },
  "language_info": {
   "codemirror_mode": {
    "name": "ipython",
    "version": 3
   },
   "file_extension": ".py",
   "mimetype": "text/x-python",
   "name": "python",
   "nbconvert_exporter": "python",
   "pygments_lexer": "ipython3",
   "version": "3.9.5"
  },
  "toc": {
   "base_numbering": 1,
   "nav_menu": {},
   "number_sections": true,
   "sideBar": true,
   "skip_h1_title": true,
   "title_cell": "Table of Contents",
   "title_sidebar": "Contents",
   "toc_cell": false,
   "toc_position": {},
   "toc_section_display": true,
   "toc_window_display": false
  }
 },
 "nbformat": 4,
 "nbformat_minor": 5
}
