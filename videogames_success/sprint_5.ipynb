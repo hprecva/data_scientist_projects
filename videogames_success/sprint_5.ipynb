{
 "cells": [
  {
   "cell_type": "markdown",
   "id": "98c8d769",
   "metadata": {},
   "source": [
    "**Hola!**\n",
    "\n",
    "Mi nombre es Maria Efimova, voy a revisar tu proyecto. Encantada de conocerte :)\n",
    "Está bien si hablamos en 'Tú'? Por favor, dime si eso no está bien para tí, lo cambiaremos. SOy miguel cientifico de datos de mercado libre y tomare la segunda iteracion ! \n",
    "\n",
    "Mi trabajo no es señalar los errores que cometiste, sino compartir mi experiencia y ayudarte a convertirte en analista de datos. Ya has trabajado mucho en el proyecto, pero vamos a hacerlo aún mejor. A continuación encontrará mis comentarios; no los mueva, modifique ni elimine. Usaré marcas de color:\n",
    "\n",
    "\n",
    "<div class=\"alert alert-danger\">\n",
    "<b>❌ Comentario del revisor:</b> Esto destaca los comentarios más importantes. Sin su desarrollo, el proyecto no será aceptado. </div>\n",
    "\n",
    "\n",
    "<div class=\"alert alert-warning\">\n",
    "<b>⚠️ Comentario del revisor:</b> Así que los pequeños comentarios están resaltados. Se aceptan uno o dos comentarios de este tipo en el borrador, pero si hay más, deberá hacer las correcciones. Es como una tarea de prueba al solicitar un trabajo: muchos pequeños errores pueden hacer que un candidato sea rechazado.\n",
    "\n",
    "</div>\n",
    "\n",
    "<div class=\"alert alert-success\">\n",
    "<b>✔️ Comentario del revisor:</b> Así que destaco todos los demás comentarios.</div>\n",
    "\n",
    "Vamos a trabajar en el proyecto en un diálogo: si cambias algo en el proyecto o respondes a mis comentarios, escribe sobre eso. Será más fácil para mí seguir los cambios si resaltas tus comentarios asi:\n",
    "<div class=\"alert alert-info\"> <b>Comentario del estudiante:</b> Por ejemplo, asi.</div>\n",
    "\n",
    "Todo esto ayudará a volver a revisar tu proyecto más rápido.\n",
    " \n",
    "\n",
    "Recuerde que, si quieres dejarme un comentario en alguna parte del documento, sólo tiene que dar doble clic sobre la celda de arriba, copiar el código, pegarlo en una nueva celda y sustituir la frase \"En celdas como estas puede dejarme sus comentarios\" por su propio comentario. Asegúrese sólamente que la celda donde usted vaya a incluir su comentario esté en formato \"Markdown\".\n",
    "\n",
    "Respecto del proceso de revisión, esta es la <b>primera iteración</b> para este ejercicio. Su proyecto será aceptado una vez que los comentarios en rojo hayan sido atendidos. Al final de este Notebook encontrará comentarios con mis observaciones finales."
   ]
  },
  {
   "cell_type": "markdown",
   "id": "47508b3f",
   "metadata": {},
   "source": [
    "# Juegos"
   ]
  },
  {
   "cell_type": "markdown",
   "id": "92143260",
   "metadata": {},
   "source": [
    "## Decripción del proyecto\n",
    "\n",
    "Determinacón de patrones determinantes en el éxito de un videojuego, con lo que se detectará proyectos prometedores, planificando campañas publicitarias."
   ]
  },
  {
   "cell_type": "markdown",
   "id": "909eebed",
   "metadata": {},
   "source": [
    "## Cargar los datos"
   ]
  },
  {
   "cell_type": "markdown",
   "id": "f28d84ee",
   "metadata": {},
   "source": [
    "Se cargan las librerias para trabajar"
   ]
  },
  {
   "cell_type": "code",
   "execution_count": 1,
   "id": "b6c69f8a",
   "metadata": {},
   "outputs": [],
   "source": [
    "import pandas as pd\n",
    "from scipy import stats as st\n",
    "import numpy as np\n",
    "import matplotlib.pyplot as plt"
   ]
  },
  {
   "cell_type": "markdown",
   "id": "ff8a3026",
   "metadata": {},
   "source": [
    "Se carga la tabla con los datos."
   ]
  },
  {
   "cell_type": "code",
   "execution_count": 2,
   "id": "e9807f08",
   "metadata": {
    "scrolled": false
   },
   "outputs": [],
   "source": [
    "try:\n",
    "    data = pd.read_csv('games.csv')\n",
    "except:\n",
    "    data = pd.read_csv('/datasets/games.csv')"
   ]
  },
  {
   "cell_type": "markdown",
   "id": "24efa4c6",
   "metadata": {},
   "source": [
    "## Preparación de los datos"
   ]
  },
  {
   "cell_type": "code",
   "execution_count": 3,
   "id": "e12c59b6",
   "metadata": {
    "scrolled": true
   },
   "outputs": [
    {
     "name": "stdout",
     "output_type": "stream",
     "text": [
      "<class 'pandas.core.frame.DataFrame'>\n",
      "RangeIndex: 16715 entries, 0 to 16714\n",
      "Data columns (total 11 columns):\n",
      " #   Column           Non-Null Count  Dtype  \n",
      "---  ------           --------------  -----  \n",
      " 0   Name             16713 non-null  object \n",
      " 1   Platform         16715 non-null  object \n",
      " 2   Year_of_Release  16446 non-null  float64\n",
      " 3   Genre            16713 non-null  object \n",
      " 4   NA_sales         16715 non-null  float64\n",
      " 5   EU_sales         16715 non-null  float64\n",
      " 6   JP_sales         16715 non-null  float64\n",
      " 7   Other_sales      16715 non-null  float64\n",
      " 8   Critic_Score     8137 non-null   float64\n",
      " 9   User_Score       10014 non-null  object \n",
      " 10  Rating           9949 non-null   object \n",
      "dtypes: float64(6), object(5)\n",
      "memory usage: 1.4+ MB\n"
     ]
    }
   ],
   "source": [
    "data.info()"
   ]
  },
  {
   "cell_type": "markdown",
   "id": "15e6479f",
   "metadata": {},
   "source": [
    "Se cambiarán los nombres de las columas cambiando a lowercase todos"
   ]
  },
  {
   "cell_type": "code",
   "execution_count": 4,
   "id": "635a2a18",
   "metadata": {},
   "outputs": [],
   "source": [
    "data.columns = data.columns.str.lower()"
   ]
  },
  {
   "cell_type": "code",
   "execution_count": 5,
   "id": "30edfa99",
   "metadata": {},
   "outputs": [
    {
     "data": {
      "text/plain": [
       "Index(['name', 'platform', 'year_of_release', 'genre', 'na_sales', 'eu_sales',\n",
       "       'jp_sales', 'other_sales', 'critic_score', 'user_score', 'rating'],\n",
       "      dtype='object')"
      ]
     },
     "execution_count": 5,
     "metadata": {},
     "output_type": "execute_result"
    }
   ],
   "source": [
    "data.columns"
   ]
  },
  {
   "cell_type": "markdown",
   "id": "90218675",
   "metadata": {},
   "source": [
    "En la columna `user_score` se tiene un valor *tbd* el cual se cambiará por 0.0\n",
    "Se cambiará el tipo de datos de la columna `user_score` de *Object* a *float*"
   ]
  },
  {
   "cell_type": "code",
   "execution_count": 6,
   "id": "9e42402b",
   "metadata": {},
   "outputs": [],
   "source": [
    "data['user_score'] = data['user_score'].replace('tbd', 0.0)"
   ]
  },
  {
   "cell_type": "code",
   "execution_count": 7,
   "id": "29c07b6b",
   "metadata": {},
   "outputs": [],
   "source": [
    "data['user_score'] = data['user_score'].astype('float64')"
   ]
  },
  {
   "cell_type": "code",
   "execution_count": 8,
   "id": "351c9b64",
   "metadata": {},
   "outputs": [
    {
     "name": "stdout",
     "output_type": "stream",
     "text": [
      "<class 'pandas.core.frame.DataFrame'>\n",
      "RangeIndex: 16715 entries, 0 to 16714\n",
      "Data columns (total 11 columns):\n",
      " #   Column           Non-Null Count  Dtype  \n",
      "---  ------           --------------  -----  \n",
      " 0   name             16713 non-null  object \n",
      " 1   platform         16715 non-null  object \n",
      " 2   year_of_release  16446 non-null  float64\n",
      " 3   genre            16713 non-null  object \n",
      " 4   na_sales         16715 non-null  float64\n",
      " 5   eu_sales         16715 non-null  float64\n",
      " 6   jp_sales         16715 non-null  float64\n",
      " 7   other_sales      16715 non-null  float64\n",
      " 8   critic_score     8137 non-null   float64\n",
      " 9   user_score       10014 non-null  float64\n",
      " 10  rating           9949 non-null   object \n",
      "dtypes: float64(7), object(4)\n",
      "memory usage: 1.4+ MB\n"
     ]
    }
   ],
   "source": [
    "data.info()"
   ]
  },
  {
   "cell_type": "markdown",
   "id": "cd625ee9",
   "metadata": {},
   "source": [
    "Se buscan la cantidad de valores ausentes en el DataFrame"
   ]
  },
  {
   "cell_type": "code",
   "execution_count": 9,
   "id": "3c08f7c2",
   "metadata": {},
   "outputs": [
    {
     "data": {
      "text/plain": [
       "name                  2\n",
       "platform              0\n",
       "year_of_release     269\n",
       "genre                 2\n",
       "na_sales              0\n",
       "eu_sales              0\n",
       "jp_sales              0\n",
       "other_sales           0\n",
       "critic_score       8578\n",
       "user_score         6701\n",
       "rating             6766\n",
       "dtype: int64"
      ]
     },
     "execution_count": 9,
     "metadata": {},
     "output_type": "execute_result"
    }
   ],
   "source": [
    "data.isna().sum()"
   ]
  },
  {
   "cell_type": "markdown",
   "id": "2c8181a4",
   "metadata": {},
   "source": [
    "Se filtra la columna `name` con los valores ausentes para determinar la razón de por que están ausentes."
   ]
  },
  {
   "cell_type": "code",
   "execution_count": 10,
   "id": "d3eead8d",
   "metadata": {},
   "outputs": [
    {
     "data": {
      "text/html": [
       "<div>\n",
       "<style scoped>\n",
       "    .dataframe tbody tr th:only-of-type {\n",
       "        vertical-align: middle;\n",
       "    }\n",
       "\n",
       "    .dataframe tbody tr th {\n",
       "        vertical-align: top;\n",
       "    }\n",
       "\n",
       "    .dataframe thead th {\n",
       "        text-align: right;\n",
       "    }\n",
       "</style>\n",
       "<table border=\"1\" class=\"dataframe\">\n",
       "  <thead>\n",
       "    <tr style=\"text-align: right;\">\n",
       "      <th></th>\n",
       "      <th>name</th>\n",
       "      <th>platform</th>\n",
       "      <th>year_of_release</th>\n",
       "      <th>genre</th>\n",
       "      <th>na_sales</th>\n",
       "      <th>eu_sales</th>\n",
       "      <th>jp_sales</th>\n",
       "      <th>other_sales</th>\n",
       "      <th>critic_score</th>\n",
       "      <th>user_score</th>\n",
       "      <th>rating</th>\n",
       "    </tr>\n",
       "  </thead>\n",
       "  <tbody>\n",
       "    <tr>\n",
       "      <th>659</th>\n",
       "      <td>NaN</td>\n",
       "      <td>GEN</td>\n",
       "      <td>1993.0</td>\n",
       "      <td>NaN</td>\n",
       "      <td>1.78</td>\n",
       "      <td>0.53</td>\n",
       "      <td>0.00</td>\n",
       "      <td>0.08</td>\n",
       "      <td>NaN</td>\n",
       "      <td>NaN</td>\n",
       "      <td>NaN</td>\n",
       "    </tr>\n",
       "    <tr>\n",
       "      <th>14244</th>\n",
       "      <td>NaN</td>\n",
       "      <td>GEN</td>\n",
       "      <td>1993.0</td>\n",
       "      <td>NaN</td>\n",
       "      <td>0.00</td>\n",
       "      <td>0.00</td>\n",
       "      <td>0.03</td>\n",
       "      <td>0.00</td>\n",
       "      <td>NaN</td>\n",
       "      <td>NaN</td>\n",
       "      <td>NaN</td>\n",
       "    </tr>\n",
       "  </tbody>\n",
       "</table>\n",
       "</div>"
      ],
      "text/plain": [
       "      name platform  year_of_release genre  na_sales  eu_sales  jp_sales  \\\n",
       "659    NaN      GEN           1993.0   NaN      1.78      0.53      0.00   \n",
       "14244  NaN      GEN           1993.0   NaN      0.00      0.00      0.03   \n",
       "\n",
       "       other_sales  critic_score  user_score rating  \n",
       "659           0.08           NaN         NaN    NaN  \n",
       "14244         0.00           NaN         NaN    NaN  "
      ]
     },
     "execution_count": 10,
     "metadata": {},
     "output_type": "execute_result"
    }
   ],
   "source": [
    "data[data['name'].isna()]"
   ]
  },
  {
   "cell_type": "markdown",
   "id": "f0d4f619",
   "metadata": {},
   "source": [
    "Estos datos al parecer son de juegos que no salieron al mercado o errores de entrada, estos datos ausentes en name se eliminarán"
   ]
  },
  {
   "cell_type": "code",
   "execution_count": 11,
   "id": "2801c2e0",
   "metadata": {},
   "outputs": [
    {
     "data": {
      "text/plain": [
       "name                  0\n",
       "platform              0\n",
       "year_of_release     269\n",
       "genre                 0\n",
       "na_sales              0\n",
       "eu_sales              0\n",
       "jp_sales              0\n",
       "other_sales           0\n",
       "critic_score       8576\n",
       "user_score         6699\n",
       "rating             6764\n",
       "dtype: int64"
      ]
     },
     "execution_count": 11,
     "metadata": {},
     "output_type": "execute_result"
    }
   ],
   "source": [
    "data = data.dropna(subset=['name'])\n",
    "data.isna().sum()"
   ]
  },
  {
   "cell_type": "markdown",
   "id": "f76aec0e",
   "metadata": {},
   "source": [
    "Se filtará la columna `year_of_release` buscando un patrón para llenar los valores ausentes"
   ]
  },
  {
   "cell_type": "code",
   "execution_count": 12,
   "id": "ec08f22f",
   "metadata": {},
   "outputs": [
    {
     "data": {
      "text/html": [
       "<div>\n",
       "<style scoped>\n",
       "    .dataframe tbody tr th:only-of-type {\n",
       "        vertical-align: middle;\n",
       "    }\n",
       "\n",
       "    .dataframe tbody tr th {\n",
       "        vertical-align: top;\n",
       "    }\n",
       "\n",
       "    .dataframe thead th {\n",
       "        text-align: right;\n",
       "    }\n",
       "</style>\n",
       "<table border=\"1\" class=\"dataframe\">\n",
       "  <thead>\n",
       "    <tr style=\"text-align: right;\">\n",
       "      <th></th>\n",
       "      <th>name</th>\n",
       "      <th>platform</th>\n",
       "      <th>year_of_release</th>\n",
       "      <th>genre</th>\n",
       "      <th>na_sales</th>\n",
       "      <th>eu_sales</th>\n",
       "      <th>jp_sales</th>\n",
       "      <th>other_sales</th>\n",
       "      <th>critic_score</th>\n",
       "      <th>user_score</th>\n",
       "      <th>rating</th>\n",
       "    </tr>\n",
       "  </thead>\n",
       "  <tbody>\n",
       "    <tr>\n",
       "      <th>183</th>\n",
       "      <td>Madden NFL 2004</td>\n",
       "      <td>PS2</td>\n",
       "      <td>NaN</td>\n",
       "      <td>Sports</td>\n",
       "      <td>4.26</td>\n",
       "      <td>0.26</td>\n",
       "      <td>0.01</td>\n",
       "      <td>0.71</td>\n",
       "      <td>94.0</td>\n",
       "      <td>8.5</td>\n",
       "      <td>E</td>\n",
       "    </tr>\n",
       "    <tr>\n",
       "      <th>377</th>\n",
       "      <td>FIFA Soccer 2004</td>\n",
       "      <td>PS2</td>\n",
       "      <td>NaN</td>\n",
       "      <td>Sports</td>\n",
       "      <td>0.59</td>\n",
       "      <td>2.36</td>\n",
       "      <td>0.04</td>\n",
       "      <td>0.51</td>\n",
       "      <td>84.0</td>\n",
       "      <td>6.4</td>\n",
       "      <td>E</td>\n",
       "    </tr>\n",
       "    <tr>\n",
       "      <th>456</th>\n",
       "      <td>LEGO Batman: The Videogame</td>\n",
       "      <td>Wii</td>\n",
       "      <td>NaN</td>\n",
       "      <td>Action</td>\n",
       "      <td>1.80</td>\n",
       "      <td>0.97</td>\n",
       "      <td>0.00</td>\n",
       "      <td>0.29</td>\n",
       "      <td>74.0</td>\n",
       "      <td>7.9</td>\n",
       "      <td>E10+</td>\n",
       "    </tr>\n",
       "    <tr>\n",
       "      <th>475</th>\n",
       "      <td>wwe Smackdown vs. Raw 2006</td>\n",
       "      <td>PS2</td>\n",
       "      <td>NaN</td>\n",
       "      <td>Fighting</td>\n",
       "      <td>1.57</td>\n",
       "      <td>1.02</td>\n",
       "      <td>0.00</td>\n",
       "      <td>0.41</td>\n",
       "      <td>NaN</td>\n",
       "      <td>NaN</td>\n",
       "      <td>NaN</td>\n",
       "    </tr>\n",
       "    <tr>\n",
       "      <th>609</th>\n",
       "      <td>Space Invaders</td>\n",
       "      <td>2600</td>\n",
       "      <td>NaN</td>\n",
       "      <td>Shooter</td>\n",
       "      <td>2.36</td>\n",
       "      <td>0.14</td>\n",
       "      <td>0.00</td>\n",
       "      <td>0.03</td>\n",
       "      <td>NaN</td>\n",
       "      <td>NaN</td>\n",
       "      <td>NaN</td>\n",
       "    </tr>\n",
       "    <tr>\n",
       "      <th>627</th>\n",
       "      <td>Rock Band</td>\n",
       "      <td>X360</td>\n",
       "      <td>NaN</td>\n",
       "      <td>Misc</td>\n",
       "      <td>1.93</td>\n",
       "      <td>0.33</td>\n",
       "      <td>0.00</td>\n",
       "      <td>0.21</td>\n",
       "      <td>92.0</td>\n",
       "      <td>8.2</td>\n",
       "      <td>T</td>\n",
       "    </tr>\n",
       "    <tr>\n",
       "      <th>657</th>\n",
       "      <td>Frogger's Adventures: Temple of the Frog</td>\n",
       "      <td>GBA</td>\n",
       "      <td>NaN</td>\n",
       "      <td>Adventure</td>\n",
       "      <td>2.15</td>\n",
       "      <td>0.18</td>\n",
       "      <td>0.00</td>\n",
       "      <td>0.07</td>\n",
       "      <td>73.0</td>\n",
       "      <td>0.0</td>\n",
       "      <td>E</td>\n",
       "    </tr>\n",
       "    <tr>\n",
       "      <th>678</th>\n",
       "      <td>LEGO Indiana Jones: The Original Adventures</td>\n",
       "      <td>Wii</td>\n",
       "      <td>NaN</td>\n",
       "      <td>Action</td>\n",
       "      <td>1.51</td>\n",
       "      <td>0.61</td>\n",
       "      <td>0.00</td>\n",
       "      <td>0.21</td>\n",
       "      <td>78.0</td>\n",
       "      <td>6.6</td>\n",
       "      <td>E10+</td>\n",
       "    </tr>\n",
       "    <tr>\n",
       "      <th>719</th>\n",
       "      <td>Call of Duty 3</td>\n",
       "      <td>Wii</td>\n",
       "      <td>NaN</td>\n",
       "      <td>Shooter</td>\n",
       "      <td>1.17</td>\n",
       "      <td>0.84</td>\n",
       "      <td>0.00</td>\n",
       "      <td>0.23</td>\n",
       "      <td>69.0</td>\n",
       "      <td>6.7</td>\n",
       "      <td>T</td>\n",
       "    </tr>\n",
       "    <tr>\n",
       "      <th>805</th>\n",
       "      <td>Rock Band</td>\n",
       "      <td>Wii</td>\n",
       "      <td>NaN</td>\n",
       "      <td>Misc</td>\n",
       "      <td>1.33</td>\n",
       "      <td>0.56</td>\n",
       "      <td>0.00</td>\n",
       "      <td>0.20</td>\n",
       "      <td>80.0</td>\n",
       "      <td>6.3</td>\n",
       "      <td>T</td>\n",
       "    </tr>\n",
       "  </tbody>\n",
       "</table>\n",
       "</div>"
      ],
      "text/plain": [
       "                                            name platform  year_of_release  \\\n",
       "183                              Madden NFL 2004      PS2              NaN   \n",
       "377                             FIFA Soccer 2004      PS2              NaN   \n",
       "456                   LEGO Batman: The Videogame      Wii              NaN   \n",
       "475                   wwe Smackdown vs. Raw 2006      PS2              NaN   \n",
       "609                               Space Invaders     2600              NaN   \n",
       "627                                    Rock Band     X360              NaN   \n",
       "657     Frogger's Adventures: Temple of the Frog      GBA              NaN   \n",
       "678  LEGO Indiana Jones: The Original Adventures      Wii              NaN   \n",
       "719                               Call of Duty 3      Wii              NaN   \n",
       "805                                    Rock Band      Wii              NaN   \n",
       "\n",
       "         genre  na_sales  eu_sales  jp_sales  other_sales  critic_score  \\\n",
       "183     Sports      4.26      0.26      0.01         0.71          94.0   \n",
       "377     Sports      0.59      2.36      0.04         0.51          84.0   \n",
       "456     Action      1.80      0.97      0.00         0.29          74.0   \n",
       "475   Fighting      1.57      1.02      0.00         0.41           NaN   \n",
       "609    Shooter      2.36      0.14      0.00         0.03           NaN   \n",
       "627       Misc      1.93      0.33      0.00         0.21          92.0   \n",
       "657  Adventure      2.15      0.18      0.00         0.07          73.0   \n",
       "678     Action      1.51      0.61      0.00         0.21          78.0   \n",
       "719    Shooter      1.17      0.84      0.00         0.23          69.0   \n",
       "805       Misc      1.33      0.56      0.00         0.20          80.0   \n",
       "\n",
       "     user_score rating  \n",
       "183         8.5      E  \n",
       "377         6.4      E  \n",
       "456         7.9   E10+  \n",
       "475         NaN    NaN  \n",
       "609         NaN    NaN  \n",
       "627         8.2      T  \n",
       "657         0.0      E  \n",
       "678         6.6   E10+  \n",
       "719         6.7      T  \n",
       "805         6.3      T  "
      ]
     },
     "execution_count": 12,
     "metadata": {},
     "output_type": "execute_result"
    }
   ],
   "source": [
    "data[data['year_of_release'].isna()].head(10)"
   ]
  },
  {
   "cell_type": "markdown",
   "id": "6054a592",
   "metadata": {},
   "source": [
    "Para estos datos se usará la `median` de las plataformas para llenar estos valores"
   ]
  },
  {
   "cell_type": "code",
   "execution_count": 13,
   "id": "3fee12f6",
   "metadata": {},
   "outputs": [],
   "source": [
    "data['year_of_release'].fillna(data.groupby('platform')['year_of_release'].transform(\"median\"),inplace=True)\n"
   ]
  },
  {
   "cell_type": "markdown",
   "id": "e00d33f7",
   "metadata": {},
   "source": [
    "<div class=\"alert alert-warning\">\n",
    "<b>⚠️ Comentario del revisor:</b> La mejor solucion es condicionar por juego, puedes tener un año de release para una consola y otra no. La media puede ser una estadistica que te puede generar ruido en los datos para este caso.\n",
    "</div>"
   ]
  },
  {
   "cell_type": "code",
   "execution_count": 14,
   "id": "768514e8",
   "metadata": {},
   "outputs": [
    {
     "data": {
      "text/plain": [
       "name                  0\n",
       "platform              0\n",
       "year_of_release       0\n",
       "genre                 0\n",
       "na_sales              0\n",
       "eu_sales              0\n",
       "jp_sales              0\n",
       "other_sales           0\n",
       "critic_score       8576\n",
       "user_score         6699\n",
       "rating             6764\n",
       "dtype: int64"
      ]
     },
     "execution_count": 14,
     "metadata": {},
     "output_type": "execute_result"
    }
   ],
   "source": [
    "data.isna().sum()"
   ]
  },
  {
   "cell_type": "markdown",
   "id": "eccf1121",
   "metadata": {},
   "source": [
    "En la columna `critic_score` se encuentran más valores ausentes que en `user_critic` se va a llenar los valores ausentes, agrupando la información por la columna `genre` llenando con el promedio de las criticas"
   ]
  },
  {
   "cell_type": "code",
   "execution_count": 15,
   "id": "4cb8413c",
   "metadata": {},
   "outputs": [
    {
     "data": {
      "text/plain": [
       "name                  0\n",
       "platform              0\n",
       "year_of_release       0\n",
       "genre                 0\n",
       "na_sales              0\n",
       "eu_sales              0\n",
       "jp_sales              0\n",
       "other_sales           0\n",
       "critic_score          0\n",
       "user_score         6699\n",
       "rating             6764\n",
       "dtype: int64"
      ]
     },
     "execution_count": 15,
     "metadata": {},
     "output_type": "execute_result"
    }
   ],
   "source": [
    "data['critic_score'].fillna(data.groupby(['genre'])['critic_score'].transform(\"mean\"),inplace=True)\n",
    "data.isna().sum()"
   ]
  },
  {
   "cell_type": "markdown",
   "id": "2fa68b34",
   "metadata": {},
   "source": [
    "La columna sigue presentando valores ausentes, se buscará un patrón para estos valores"
   ]
  },
  {
   "cell_type": "code",
   "execution_count": 16,
   "id": "9ab54159",
   "metadata": {},
   "outputs": [
    {
     "data": {
      "text/html": [
       "<div>\n",
       "<style scoped>\n",
       "    .dataframe tbody tr th:only-of-type {\n",
       "        vertical-align: middle;\n",
       "    }\n",
       "\n",
       "    .dataframe tbody tr th {\n",
       "        vertical-align: top;\n",
       "    }\n",
       "\n",
       "    .dataframe thead th {\n",
       "        text-align: right;\n",
       "    }\n",
       "</style>\n",
       "<table border=\"1\" class=\"dataframe\">\n",
       "  <thead>\n",
       "    <tr style=\"text-align: right;\">\n",
       "      <th></th>\n",
       "      <th>name</th>\n",
       "      <th>platform</th>\n",
       "      <th>year_of_release</th>\n",
       "      <th>genre</th>\n",
       "      <th>na_sales</th>\n",
       "      <th>eu_sales</th>\n",
       "      <th>jp_sales</th>\n",
       "      <th>other_sales</th>\n",
       "      <th>critic_score</th>\n",
       "      <th>user_score</th>\n",
       "      <th>rating</th>\n",
       "    </tr>\n",
       "  </thead>\n",
       "  <tbody>\n",
       "  </tbody>\n",
       "</table>\n",
       "</div>"
      ],
      "text/plain": [
       "Empty DataFrame\n",
       "Columns: [name, platform, year_of_release, genre, na_sales, eu_sales, jp_sales, other_sales, critic_score, user_score, rating]\n",
       "Index: []"
      ]
     },
     "execution_count": 16,
     "metadata": {},
     "output_type": "execute_result"
    }
   ],
   "source": [
    "data[data['critic_score'].isna()]"
   ]
  },
  {
   "cell_type": "markdown",
   "id": "c1fcee7f",
   "metadata": {},
   "source": [
    "Los juegos salidos en 2016, se sustituirá el valor de `critic_socore`por 0, ya que es un juego nuevo"
   ]
  },
  {
   "cell_type": "markdown",
   "id": "315c995e",
   "metadata": {},
   "source": [
    "La columna `user_score` se trabajará de la misma forma que `critic_score`"
   ]
  },
  {
   "cell_type": "code",
   "execution_count": 17,
   "id": "b76531a1",
   "metadata": {},
   "outputs": [
    {
     "data": {
      "text/plain": [
       "name                  0\n",
       "platform              0\n",
       "year_of_release       0\n",
       "genre                 0\n",
       "na_sales              0\n",
       "eu_sales              0\n",
       "jp_sales              0\n",
       "other_sales           0\n",
       "critic_score          0\n",
       "user_score            0\n",
       "rating             6764\n",
       "dtype: int64"
      ]
     },
     "execution_count": 17,
     "metadata": {},
     "output_type": "execute_result"
    }
   ],
   "source": [
    "data['user_score'].fillna(data.groupby(['genre'])['user_score'].transform(\"mean\"),inplace=True)\n",
    "data.isna().sum()"
   ]
  },
  {
   "cell_type": "markdown",
   "id": "6bb92164",
   "metadata": {},
   "source": [
    "Para la columna `rating` utilizaremos el genero para determinar el valor a sustituir, por lo regular un mismo genero contiene la misma clasificación *ESRB* para ellos crearemos categorías númericas en la columna `rating_category`"
   ]
  },
  {
   "cell_type": "markdown",
   "id": "f16d7e30",
   "metadata": {},
   "source": [
    "<div class=\"alert alert-warning\">\n",
    "<b>⚠️ Comentario del revisor:</b> Lo mejor es dejar los valroes de score y rating nans tambien ! \n",
    "\n",
    "</div>"
   ]
  },
  {
   "cell_type": "code",
   "execution_count": 18,
   "id": "3d217c52",
   "metadata": {},
   "outputs": [
    {
     "data": {
      "text/plain": [
       "array(['E', nan, 'M', 'T', 'E10+', 'K-A', 'AO', 'EC', 'RP'], dtype=object)"
      ]
     },
     "execution_count": 18,
     "metadata": {},
     "output_type": "execute_result"
    }
   ],
   "source": [
    "#Primero obtenemos las categorias que aparecen en el DataFrame\n",
    "\n",
    "data['rating'].unique()"
   ]
  },
  {
   "cell_type": "code",
   "execution_count": 19,
   "id": "7a307122",
   "metadata": {},
   "outputs": [],
   "source": [
    "def rating_category(rating):\n",
    "    if rating == 'E':\n",
    "        return 0\n",
    "    if rating == 'M':\n",
    "        return 1\n",
    "    if rating == 'T':\n",
    "        return 2\n",
    "    if rating == 'E10+':\n",
    "        return 3\n",
    "    if rating == 'K-A':\n",
    "        return 4\n",
    "    if rating == 'AO':\n",
    "        return 5\n",
    "    if rating == 'EC':\n",
    "        return 6\n",
    "    if rating == 'RP':\n",
    "        return 7"
   ]
  },
  {
   "cell_type": "markdown",
   "id": "0d04a481",
   "metadata": {},
   "source": [
    "<div class=\"alert alert-success\">\n",
    "<b>✔️ Comentario del revisor:</b> Aqui bien! Tambien puedes usar aqui 'case'"
   ]
  },
  {
   "cell_type": "code",
   "execution_count": 20,
   "id": "545d6460",
   "metadata": {
    "scrolled": false
   },
   "outputs": [
    {
     "data": {
      "text/html": [
       "<div>\n",
       "<style scoped>\n",
       "    .dataframe tbody tr th:only-of-type {\n",
       "        vertical-align: middle;\n",
       "    }\n",
       "\n",
       "    .dataframe tbody tr th {\n",
       "        vertical-align: top;\n",
       "    }\n",
       "\n",
       "    .dataframe thead th {\n",
       "        text-align: right;\n",
       "    }\n",
       "</style>\n",
       "<table border=\"1\" class=\"dataframe\">\n",
       "  <thead>\n",
       "    <tr style=\"text-align: right;\">\n",
       "      <th></th>\n",
       "      <th>name</th>\n",
       "      <th>platform</th>\n",
       "      <th>year_of_release</th>\n",
       "      <th>genre</th>\n",
       "      <th>na_sales</th>\n",
       "      <th>eu_sales</th>\n",
       "      <th>jp_sales</th>\n",
       "      <th>other_sales</th>\n",
       "      <th>critic_score</th>\n",
       "      <th>user_score</th>\n",
       "      <th>rating</th>\n",
       "      <th>rating_category</th>\n",
       "    </tr>\n",
       "  </thead>\n",
       "  <tbody>\n",
       "    <tr>\n",
       "      <th>0</th>\n",
       "      <td>Wii Sports</td>\n",
       "      <td>Wii</td>\n",
       "      <td>2006.0</td>\n",
       "      <td>Sports</td>\n",
       "      <td>41.36</td>\n",
       "      <td>28.96</td>\n",
       "      <td>3.77</td>\n",
       "      <td>8.45</td>\n",
       "      <td>76.000000</td>\n",
       "      <td>8.000000</td>\n",
       "      <td>E</td>\n",
       "      <td>0.0</td>\n",
       "    </tr>\n",
       "    <tr>\n",
       "      <th>1</th>\n",
       "      <td>Super Mario Bros.</td>\n",
       "      <td>NES</td>\n",
       "      <td>1985.0</td>\n",
       "      <td>Platform</td>\n",
       "      <td>29.08</td>\n",
       "      <td>3.58</td>\n",
       "      <td>6.81</td>\n",
       "      <td>0.77</td>\n",
       "      <td>68.058350</td>\n",
       "      <td>5.511464</td>\n",
       "      <td>NaN</td>\n",
       "      <td>NaN</td>\n",
       "    </tr>\n",
       "    <tr>\n",
       "      <th>2</th>\n",
       "      <td>Mario Kart Wii</td>\n",
       "      <td>Wii</td>\n",
       "      <td>2008.0</td>\n",
       "      <td>Racing</td>\n",
       "      <td>15.68</td>\n",
       "      <td>12.76</td>\n",
       "      <td>3.79</td>\n",
       "      <td>3.29</td>\n",
       "      <td>82.000000</td>\n",
       "      <td>8.300000</td>\n",
       "      <td>E</td>\n",
       "      <td>0.0</td>\n",
       "    </tr>\n",
       "    <tr>\n",
       "      <th>3</th>\n",
       "      <td>Wii Sports Resort</td>\n",
       "      <td>Wii</td>\n",
       "      <td>2009.0</td>\n",
       "      <td>Sports</td>\n",
       "      <td>15.61</td>\n",
       "      <td>10.93</td>\n",
       "      <td>3.28</td>\n",
       "      <td>2.95</td>\n",
       "      <td>80.000000</td>\n",
       "      <td>8.000000</td>\n",
       "      <td>E</td>\n",
       "      <td>0.0</td>\n",
       "    </tr>\n",
       "    <tr>\n",
       "      <th>4</th>\n",
       "      <td>Pokemon Red/Pokemon Blue</td>\n",
       "      <td>GB</td>\n",
       "      <td>1996.0</td>\n",
       "      <td>Role-Playing</td>\n",
       "      <td>11.27</td>\n",
       "      <td>8.89</td>\n",
       "      <td>10.22</td>\n",
       "      <td>1.00</td>\n",
       "      <td>72.652646</td>\n",
       "      <td>7.323803</td>\n",
       "      <td>NaN</td>\n",
       "      <td>NaN</td>\n",
       "    </tr>\n",
       "    <tr>\n",
       "      <th>...</th>\n",
       "      <td>...</td>\n",
       "      <td>...</td>\n",
       "      <td>...</td>\n",
       "      <td>...</td>\n",
       "      <td>...</td>\n",
       "      <td>...</td>\n",
       "      <td>...</td>\n",
       "      <td>...</td>\n",
       "      <td>...</td>\n",
       "      <td>...</td>\n",
       "      <td>...</td>\n",
       "      <td>...</td>\n",
       "    </tr>\n",
       "    <tr>\n",
       "      <th>16710</th>\n",
       "      <td>Samurai Warriors: Sanada Maru</td>\n",
       "      <td>PS3</td>\n",
       "      <td>2016.0</td>\n",
       "      <td>Action</td>\n",
       "      <td>0.00</td>\n",
       "      <td>0.00</td>\n",
       "      <td>0.01</td>\n",
       "      <td>0.00</td>\n",
       "      <td>66.629101</td>\n",
       "      <td>5.851723</td>\n",
       "      <td>NaN</td>\n",
       "      <td>NaN</td>\n",
       "    </tr>\n",
       "    <tr>\n",
       "      <th>16711</th>\n",
       "      <td>LMA Manager 2007</td>\n",
       "      <td>X360</td>\n",
       "      <td>2006.0</td>\n",
       "      <td>Sports</td>\n",
       "      <td>0.00</td>\n",
       "      <td>0.01</td>\n",
       "      <td>0.00</td>\n",
       "      <td>0.00</td>\n",
       "      <td>71.968174</td>\n",
       "      <td>5.064776</td>\n",
       "      <td>NaN</td>\n",
       "      <td>NaN</td>\n",
       "    </tr>\n",
       "    <tr>\n",
       "      <th>16712</th>\n",
       "      <td>Haitaka no Psychedelica</td>\n",
       "      <td>PSV</td>\n",
       "      <td>2016.0</td>\n",
       "      <td>Adventure</td>\n",
       "      <td>0.00</td>\n",
       "      <td>0.00</td>\n",
       "      <td>0.01</td>\n",
       "      <td>0.00</td>\n",
       "      <td>65.331269</td>\n",
       "      <td>4.662092</td>\n",
       "      <td>NaN</td>\n",
       "      <td>NaN</td>\n",
       "    </tr>\n",
       "    <tr>\n",
       "      <th>16713</th>\n",
       "      <td>Spirits &amp; Spells</td>\n",
       "      <td>GBA</td>\n",
       "      <td>2003.0</td>\n",
       "      <td>Platform</td>\n",
       "      <td>0.01</td>\n",
       "      <td>0.00</td>\n",
       "      <td>0.00</td>\n",
       "      <td>0.00</td>\n",
       "      <td>68.058350</td>\n",
       "      <td>5.511464</td>\n",
       "      <td>NaN</td>\n",
       "      <td>NaN</td>\n",
       "    </tr>\n",
       "    <tr>\n",
       "      <th>16714</th>\n",
       "      <td>Winning Post 8 2016</td>\n",
       "      <td>PSV</td>\n",
       "      <td>2016.0</td>\n",
       "      <td>Simulation</td>\n",
       "      <td>0.00</td>\n",
       "      <td>0.00</td>\n",
       "      <td>0.01</td>\n",
       "      <td>0.00</td>\n",
       "      <td>68.619318</td>\n",
       "      <td>4.224269</td>\n",
       "      <td>NaN</td>\n",
       "      <td>NaN</td>\n",
       "    </tr>\n",
       "  </tbody>\n",
       "</table>\n",
       "<p>16713 rows × 12 columns</p>\n",
       "</div>"
      ],
      "text/plain": [
       "                                name platform  year_of_release         genre  \\\n",
       "0                         Wii Sports      Wii           2006.0        Sports   \n",
       "1                  Super Mario Bros.      NES           1985.0      Platform   \n",
       "2                     Mario Kart Wii      Wii           2008.0        Racing   \n",
       "3                  Wii Sports Resort      Wii           2009.0        Sports   \n",
       "4           Pokemon Red/Pokemon Blue       GB           1996.0  Role-Playing   \n",
       "...                              ...      ...              ...           ...   \n",
       "16710  Samurai Warriors: Sanada Maru      PS3           2016.0        Action   \n",
       "16711               LMA Manager 2007     X360           2006.0        Sports   \n",
       "16712        Haitaka no Psychedelica      PSV           2016.0     Adventure   \n",
       "16713               Spirits & Spells      GBA           2003.0      Platform   \n",
       "16714            Winning Post 8 2016      PSV           2016.0    Simulation   \n",
       "\n",
       "       na_sales  eu_sales  jp_sales  other_sales  critic_score  user_score  \\\n",
       "0         41.36     28.96      3.77         8.45     76.000000    8.000000   \n",
       "1         29.08      3.58      6.81         0.77     68.058350    5.511464   \n",
       "2         15.68     12.76      3.79         3.29     82.000000    8.300000   \n",
       "3         15.61     10.93      3.28         2.95     80.000000    8.000000   \n",
       "4         11.27      8.89     10.22         1.00     72.652646    7.323803   \n",
       "...         ...       ...       ...          ...           ...         ...   \n",
       "16710      0.00      0.00      0.01         0.00     66.629101    5.851723   \n",
       "16711      0.00      0.01      0.00         0.00     71.968174    5.064776   \n",
       "16712      0.00      0.00      0.01         0.00     65.331269    4.662092   \n",
       "16713      0.01      0.00      0.00         0.00     68.058350    5.511464   \n",
       "16714      0.00      0.00      0.01         0.00     68.619318    4.224269   \n",
       "\n",
       "      rating  rating_category  \n",
       "0          E              0.0  \n",
       "1        NaN              NaN  \n",
       "2          E              0.0  \n",
       "3          E              0.0  \n",
       "4        NaN              NaN  \n",
       "...      ...              ...  \n",
       "16710    NaN              NaN  \n",
       "16711    NaN              NaN  \n",
       "16712    NaN              NaN  \n",
       "16713    NaN              NaN  \n",
       "16714    NaN              NaN  \n",
       "\n",
       "[16713 rows x 12 columns]"
      ]
     },
     "execution_count": 20,
     "metadata": {},
     "output_type": "execute_result"
    }
   ],
   "source": [
    "data['rating_category'] = data['rating'].apply(rating_category)\n",
    "data"
   ]
  },
  {
   "cell_type": "code",
   "execution_count": 21,
   "id": "58c3b5e4",
   "metadata": {},
   "outputs": [],
   "source": [
    "data['rating_category'].fillna(data.groupby(['genre'])['rating_category'].transform(\"median\"),inplace=True)"
   ]
  },
  {
   "cell_type": "code",
   "execution_count": 22,
   "id": "5ecd834f",
   "metadata": {},
   "outputs": [],
   "source": [
    "def rating_fillna(row):\n",
    "    rating_category = row['rating_category']\n",
    "    rating = row['rating']\n",
    "    \n",
    "    if not pd.isna(rating):\n",
    "        return rating\n",
    "    try:\n",
    "        if rating_category == 0:\n",
    "            return 'E'\n",
    "        if rating_category == 1:\n",
    "            return 'M'\n",
    "        if rating_category == 2:\n",
    "            return 'T'\n",
    "        if rating_category == 3:\n",
    "            return 'E10+'\n",
    "        if rating_category == 4:\n",
    "            return 'K-A'\n",
    "        if rating_category == 5:\n",
    "            return 'AO'\n",
    "        if rating_category == 6:\n",
    "            return 'EC'\n",
    "        if rating_category == 7:\n",
    "            return 'RP'\n",
    "    except KeyError:\n",
    "        return rating"
   ]
  },
  {
   "cell_type": "code",
   "execution_count": 23,
   "id": "57b4ce8b",
   "metadata": {},
   "outputs": [
    {
     "data": {
      "text/plain": [
       "name               0\n",
       "platform           0\n",
       "year_of_release    0\n",
       "genre              0\n",
       "na_sales           0\n",
       "eu_sales           0\n",
       "jp_sales           0\n",
       "other_sales        0\n",
       "critic_score       0\n",
       "user_score         0\n",
       "rating             0\n",
       "rating_category    0\n",
       "dtype: int64"
      ]
     },
     "execution_count": 23,
     "metadata": {},
     "output_type": "execute_result"
    }
   ],
   "source": [
    "new = data.apply(rating_fillna,axis=1)\n",
    "data['rating']= new\n",
    "data.isna().sum()"
   ]
  },
  {
   "cell_type": "markdown",
   "id": "5774dd8e",
   "metadata": {},
   "source": [
    "Se creará la columna `total_sales` sumando las columnas `na_sales`, `eu_sales`, `jp_sales` y `other_sales`"
   ]
  },
  {
   "cell_type": "code",
   "execution_count": 24,
   "id": "345d8f34",
   "metadata": {},
   "outputs": [],
   "source": [
    "data['total_sales'] = data['na_sales'] + data['eu_sales'] + data['jp_sales'] + data['other_sales']"
   ]
  },
  {
   "cell_type": "code",
   "execution_count": 25,
   "id": "ab88bcf3",
   "metadata": {},
   "outputs": [
    {
     "data": {
      "text/html": [
       "<div>\n",
       "<style scoped>\n",
       "    .dataframe tbody tr th:only-of-type {\n",
       "        vertical-align: middle;\n",
       "    }\n",
       "\n",
       "    .dataframe tbody tr th {\n",
       "        vertical-align: top;\n",
       "    }\n",
       "\n",
       "    .dataframe thead th {\n",
       "        text-align: right;\n",
       "    }\n",
       "</style>\n",
       "<table border=\"1\" class=\"dataframe\">\n",
       "  <thead>\n",
       "    <tr style=\"text-align: right;\">\n",
       "      <th></th>\n",
       "      <th>name</th>\n",
       "      <th>platform</th>\n",
       "      <th>year_of_release</th>\n",
       "      <th>genre</th>\n",
       "      <th>na_sales</th>\n",
       "      <th>eu_sales</th>\n",
       "      <th>jp_sales</th>\n",
       "      <th>other_sales</th>\n",
       "      <th>critic_score</th>\n",
       "      <th>user_score</th>\n",
       "      <th>rating</th>\n",
       "      <th>rating_category</th>\n",
       "      <th>total_sales</th>\n",
       "    </tr>\n",
       "  </thead>\n",
       "  <tbody>\n",
       "    <tr>\n",
       "      <th>0</th>\n",
       "      <td>Wii Sports</td>\n",
       "      <td>Wii</td>\n",
       "      <td>2006.0</td>\n",
       "      <td>Sports</td>\n",
       "      <td>41.36</td>\n",
       "      <td>28.96</td>\n",
       "      <td>3.77</td>\n",
       "      <td>8.45</td>\n",
       "      <td>76.000000</td>\n",
       "      <td>8.000000</td>\n",
       "      <td>E</td>\n",
       "      <td>0.0</td>\n",
       "      <td>82.54</td>\n",
       "    </tr>\n",
       "    <tr>\n",
       "      <th>1</th>\n",
       "      <td>Super Mario Bros.</td>\n",
       "      <td>NES</td>\n",
       "      <td>1985.0</td>\n",
       "      <td>Platform</td>\n",
       "      <td>29.08</td>\n",
       "      <td>3.58</td>\n",
       "      <td>6.81</td>\n",
       "      <td>0.77</td>\n",
       "      <td>68.058350</td>\n",
       "      <td>5.511464</td>\n",
       "      <td>E</td>\n",
       "      <td>0.0</td>\n",
       "      <td>40.24</td>\n",
       "    </tr>\n",
       "    <tr>\n",
       "      <th>2</th>\n",
       "      <td>Mario Kart Wii</td>\n",
       "      <td>Wii</td>\n",
       "      <td>2008.0</td>\n",
       "      <td>Racing</td>\n",
       "      <td>15.68</td>\n",
       "      <td>12.76</td>\n",
       "      <td>3.79</td>\n",
       "      <td>3.29</td>\n",
       "      <td>82.000000</td>\n",
       "      <td>8.300000</td>\n",
       "      <td>E</td>\n",
       "      <td>0.0</td>\n",
       "      <td>35.52</td>\n",
       "    </tr>\n",
       "    <tr>\n",
       "      <th>3</th>\n",
       "      <td>Wii Sports Resort</td>\n",
       "      <td>Wii</td>\n",
       "      <td>2009.0</td>\n",
       "      <td>Sports</td>\n",
       "      <td>15.61</td>\n",
       "      <td>10.93</td>\n",
       "      <td>3.28</td>\n",
       "      <td>2.95</td>\n",
       "      <td>80.000000</td>\n",
       "      <td>8.000000</td>\n",
       "      <td>E</td>\n",
       "      <td>0.0</td>\n",
       "      <td>32.77</td>\n",
       "    </tr>\n",
       "    <tr>\n",
       "      <th>4</th>\n",
       "      <td>Pokemon Red/Pokemon Blue</td>\n",
       "      <td>GB</td>\n",
       "      <td>1996.0</td>\n",
       "      <td>Role-Playing</td>\n",
       "      <td>11.27</td>\n",
       "      <td>8.89</td>\n",
       "      <td>10.22</td>\n",
       "      <td>1.00</td>\n",
       "      <td>72.652646</td>\n",
       "      <td>7.323803</td>\n",
       "      <td>T</td>\n",
       "      <td>2.0</td>\n",
       "      <td>31.38</td>\n",
       "    </tr>\n",
       "    <tr>\n",
       "      <th>...</th>\n",
       "      <td>...</td>\n",
       "      <td>...</td>\n",
       "      <td>...</td>\n",
       "      <td>...</td>\n",
       "      <td>...</td>\n",
       "      <td>...</td>\n",
       "      <td>...</td>\n",
       "      <td>...</td>\n",
       "      <td>...</td>\n",
       "      <td>...</td>\n",
       "      <td>...</td>\n",
       "      <td>...</td>\n",
       "      <td>...</td>\n",
       "    </tr>\n",
       "    <tr>\n",
       "      <th>16710</th>\n",
       "      <td>Samurai Warriors: Sanada Maru</td>\n",
       "      <td>PS3</td>\n",
       "      <td>2016.0</td>\n",
       "      <td>Action</td>\n",
       "      <td>0.00</td>\n",
       "      <td>0.00</td>\n",
       "      <td>0.01</td>\n",
       "      <td>0.00</td>\n",
       "      <td>66.629101</td>\n",
       "      <td>5.851723</td>\n",
       "      <td>T</td>\n",
       "      <td>2.0</td>\n",
       "      <td>0.01</td>\n",
       "    </tr>\n",
       "    <tr>\n",
       "      <th>16711</th>\n",
       "      <td>LMA Manager 2007</td>\n",
       "      <td>X360</td>\n",
       "      <td>2006.0</td>\n",
       "      <td>Sports</td>\n",
       "      <td>0.00</td>\n",
       "      <td>0.01</td>\n",
       "      <td>0.00</td>\n",
       "      <td>0.00</td>\n",
       "      <td>71.968174</td>\n",
       "      <td>5.064776</td>\n",
       "      <td>E</td>\n",
       "      <td>0.0</td>\n",
       "      <td>0.01</td>\n",
       "    </tr>\n",
       "    <tr>\n",
       "      <th>16712</th>\n",
       "      <td>Haitaka no Psychedelica</td>\n",
       "      <td>PSV</td>\n",
       "      <td>2016.0</td>\n",
       "      <td>Adventure</td>\n",
       "      <td>0.00</td>\n",
       "      <td>0.00</td>\n",
       "      <td>0.01</td>\n",
       "      <td>0.00</td>\n",
       "      <td>65.331269</td>\n",
       "      <td>4.662092</td>\n",
       "      <td>M</td>\n",
       "      <td>1.0</td>\n",
       "      <td>0.01</td>\n",
       "    </tr>\n",
       "    <tr>\n",
       "      <th>16713</th>\n",
       "      <td>Spirits &amp; Spells</td>\n",
       "      <td>GBA</td>\n",
       "      <td>2003.0</td>\n",
       "      <td>Platform</td>\n",
       "      <td>0.01</td>\n",
       "      <td>0.00</td>\n",
       "      <td>0.00</td>\n",
       "      <td>0.00</td>\n",
       "      <td>68.058350</td>\n",
       "      <td>5.511464</td>\n",
       "      <td>E</td>\n",
       "      <td>0.0</td>\n",
       "      <td>0.01</td>\n",
       "    </tr>\n",
       "    <tr>\n",
       "      <th>16714</th>\n",
       "      <td>Winning Post 8 2016</td>\n",
       "      <td>PSV</td>\n",
       "      <td>2016.0</td>\n",
       "      <td>Simulation</td>\n",
       "      <td>0.00</td>\n",
       "      <td>0.00</td>\n",
       "      <td>0.01</td>\n",
       "      <td>0.00</td>\n",
       "      <td>68.619318</td>\n",
       "      <td>4.224269</td>\n",
       "      <td>E</td>\n",
       "      <td>0.0</td>\n",
       "      <td>0.01</td>\n",
       "    </tr>\n",
       "  </tbody>\n",
       "</table>\n",
       "<p>16713 rows × 13 columns</p>\n",
       "</div>"
      ],
      "text/plain": [
       "                                name platform  year_of_release         genre  \\\n",
       "0                         Wii Sports      Wii           2006.0        Sports   \n",
       "1                  Super Mario Bros.      NES           1985.0      Platform   \n",
       "2                     Mario Kart Wii      Wii           2008.0        Racing   \n",
       "3                  Wii Sports Resort      Wii           2009.0        Sports   \n",
       "4           Pokemon Red/Pokemon Blue       GB           1996.0  Role-Playing   \n",
       "...                              ...      ...              ...           ...   \n",
       "16710  Samurai Warriors: Sanada Maru      PS3           2016.0        Action   \n",
       "16711               LMA Manager 2007     X360           2006.0        Sports   \n",
       "16712        Haitaka no Psychedelica      PSV           2016.0     Adventure   \n",
       "16713               Spirits & Spells      GBA           2003.0      Platform   \n",
       "16714            Winning Post 8 2016      PSV           2016.0    Simulation   \n",
       "\n",
       "       na_sales  eu_sales  jp_sales  other_sales  critic_score  user_score  \\\n",
       "0         41.36     28.96      3.77         8.45     76.000000    8.000000   \n",
       "1         29.08      3.58      6.81         0.77     68.058350    5.511464   \n",
       "2         15.68     12.76      3.79         3.29     82.000000    8.300000   \n",
       "3         15.61     10.93      3.28         2.95     80.000000    8.000000   \n",
       "4         11.27      8.89     10.22         1.00     72.652646    7.323803   \n",
       "...         ...       ...       ...          ...           ...         ...   \n",
       "16710      0.00      0.00      0.01         0.00     66.629101    5.851723   \n",
       "16711      0.00      0.01      0.00         0.00     71.968174    5.064776   \n",
       "16712      0.00      0.00      0.01         0.00     65.331269    4.662092   \n",
       "16713      0.01      0.00      0.00         0.00     68.058350    5.511464   \n",
       "16714      0.00      0.00      0.01         0.00     68.619318    4.224269   \n",
       "\n",
       "      rating  rating_category  total_sales  \n",
       "0          E              0.0        82.54  \n",
       "1          E              0.0        40.24  \n",
       "2          E              0.0        35.52  \n",
       "3          E              0.0        32.77  \n",
       "4          T              2.0        31.38  \n",
       "...      ...              ...          ...  \n",
       "16710      T              2.0         0.01  \n",
       "16711      E              0.0         0.01  \n",
       "16712      M              1.0         0.01  \n",
       "16713      E              0.0         0.01  \n",
       "16714      E              0.0         0.01  \n",
       "\n",
       "[16713 rows x 13 columns]"
      ]
     },
     "execution_count": 25,
     "metadata": {},
     "output_type": "execute_result"
    }
   ],
   "source": [
    "data"
   ]
  },
  {
   "cell_type": "markdown",
   "id": "25277a4e",
   "metadata": {},
   "source": [
    "<div class=\"alert alert-warning\">\n",
    "<b>⚠️ Comentario del revisor:</b> Recuerda agregar conclusiones intermedias ! \n",
    "</div>"
   ]
  },
  {
   "cell_type": "markdown",
   "id": "e02b68f7",
   "metadata": {},
   "source": [
    "## Analizando los datos"
   ]
  },
  {
   "cell_type": "markdown",
   "id": "443cf6b4",
   "metadata": {},
   "source": [
    "Se muestra la cantidad de juegos lanzados por año"
   ]
  },
  {
   "cell_type": "code",
   "execution_count": 26,
   "id": "106c0bb8",
   "metadata": {},
   "outputs": [
    {
     "data": {
      "image/png": "[encoded data removed]",
      "text/plain": [
       "<Figure size 864x432 with 1 Axes>"
      ]
     },
     "metadata": {
      "needs_background": "light"
     },
     "output_type": "display_data"
    }
   ],
   "source": [
    "data.groupby('year_of_release')['name'].count().plot(kind='line',grid=True,figsize=(12,6))\n",
    "plt.title('Release games per year')\n",
    "plt.xlabel('Year of Realease')\n",
    "plt.ylabel('Number of Games')\n",
    "plt.show()"
   ]
  },
  {
   "cell_type": "markdown",
   "id": "893064a7",
   "metadata": {},
   "source": [
    "<div class=\"alert alert-warning\">\n",
    "<b>⚠️ Comentario del revisor:</b> Podrias agregar conclusiones intermedias a partir del grafico\n",
    "\n",
    "</div>"
   ]
  },
  {
   "cell_type": "markdown",
   "id": "27d70f4d",
   "metadata": {},
   "source": [
    "### Ventas por plataforma por año"
   ]
  },
  {
   "cell_type": "code",
   "execution_count": 27,
   "id": "a25bd2ba",
   "metadata": {},
   "outputs": [],
   "source": [
    "most_sold_platforms = list(\n",
    "    data\n",
    "    .groupby('platform')['total_sales']\n",
    "    .sum()\n",
    "    .reset_index()\n",
    "    .sort_values(by='total_sales', ascending=False)\n",
    "    .head(10)['platform']\n",
    ")"
   ]
  },
  {
   "cell_type": "code",
   "execution_count": 28,
   "id": "45f93c07",
   "metadata": {},
   "outputs": [
    {
     "data": {
      "text/plain": [
       "['PS2', 'X360', 'PS3', 'Wii', 'DS', 'PS', 'GBA', 'PS4', 'PSP', 'PC']"
      ]
     },
     "execution_count": 28,
     "metadata": {},
     "output_type": "execute_result"
    }
   ],
   "source": [
    "most_sold_platforms"
   ]
  },
  {
   "cell_type": "code",
   "execution_count": 29,
   "id": "857ce57e",
   "metadata": {},
   "outputs": [
    {
     "data": {
      "image/png": "[encoded data removed]",
      "text/plain": [
       "<Figure size 864x1440 with 10 Axes>"
      ]
     },
     "metadata": {
      "needs_background": "light"
     },
     "output_type": "display_data"
    }
   ],
   "source": [
    "fig, ax = plt.subplots(ncols=2, nrows=5, figsize=(12, 20))\n",
    "\n",
    "for i, platform in enumerate(most_sold_platforms):\n",
    "    data_tmp = data.query(\"platform==@platform\")\n",
    "    \n",
    "    ax.flatten()[i].set_title(f\"Sales distribution of platform {platform}\")\n",
    "    ax.flatten()[i].set_xlim(-2.5,25)\n",
    "    \n",
    "    data_tmp['total_sales'].hist(bins=20, ax=ax.flatten()[i])\n",
    "    \n",
    "    fig.tight_layout(pad=2.0)"
   ]
  },
  {
   "cell_type": "code",
   "execution_count": 30,
   "id": "b13e2b45",
   "metadata": {
    "scrolled": false
   },
   "outputs": [
    {
     "data": {
      "image/png": "[encoded data removed]",
      "text/plain": [
       "<Figure size 1080x288 with 1 Axes>"
      ]
     },
     "metadata": {
      "needs_background": "light"
     },
     "output_type": "display_data"
    }
   ],
   "source": [
    "sales_by_popular_platform = (\n",
    "    data\n",
    "    .query(\"platform in @most_sold_platforms\")\n",
    "    .pivot_table(index=\"year_of_release\",columns='platform',values='total_sales', aggfunc='sum')\n",
    "    .sort_values(by='year_of_release',ascending=False)\n",
    ")\n",
    "sales_by_popular_platform.plot(kind='line', figsize=(15,4), grid=True)\n",
    "plt.show()"
   ]
  },
  {
   "cell_type": "markdown",
   "id": "1da4ac7d",
   "metadata": {},
   "source": [
    "<div class=\"alert alert-warning\">\n",
    "<b>⚠️ Comentario del revisor:</b> Recuerda, aca la ides es filtar el periodo de estudio, te recomiendo maximo 5 años.\n",
    "\n",
    "</div>"
   ]
  },
  {
   "cell_type": "markdown",
   "id": "aadcf162",
   "metadata": {},
   "source": [
    "De acuerdo con la gráfica presentada arriba, las plataformas pareciera que tiene un periodo de 10 años para mantener las ventas, siendo los primeros 5 años son los del incremento de ventas totales, hay casos en los que la vida de la plataforma se extiende por más años, como los es *PC* la cual sigue vigente desde 1985 a la fecha con caídas en ventas."
   ]
  },
  {
   "cell_type": "markdown",
   "id": "a022caa4",
   "metadata": {},
   "source": [
    "Tomando la gráfica anterior se trabajará con el período de 1994 a 2016.\n",
    "Por lo que las plataformas más prolificas al momento son *x360*, *PS3*, *DS* en base al tamaño de las ventas contra el tiempo que han estado en el mercado."
   ]
  },
  {
   "cell_type": "code",
   "execution_count": 31,
   "id": "b44543ba",
   "metadata": {},
   "outputs": [
    {
     "data": {
      "image/png": "[encoded data removed]",
      "text/plain": [
       "<Figure size 1080x432 with 1 Axes>"
      ]
     },
     "metadata": {
      "needs_background": "light"
     },
     "output_type": "display_data"
    }
   ],
   "source": [
    "(\n",
    "    data\n",
    "    .query(\"platform in @most_sold_platforms\")[['platform','total_sales']]\n",
    "    .boxplot(by='platform', figsize=(15,6))\n",
    ")\n",
    "plt.ylim(0,0.8)\n",
    "plt.show()\n"
   ]
  },
  {
   "cell_type": "markdown",
   "id": "c631bffd",
   "metadata": {},
   "source": [
    "De acuerdo con el diagrama de cajas, el promedio de ventas de todas las plataformas ronda desde 0.05 a cerca de 0.3 siendo la plataforma de *X360* como la que tiene el mayor promedio de ventas, y un cuartil superior más amplio.\n",
    "Cerca de *X360* se encuentra *PS3* que historicamente son las plataformas que más competencia entre ellos han tenido a la fecha."
   ]
  },
  {
   "cell_type": "markdown",
   "id": "9be0c05c",
   "metadata": {},
   "source": [
    "<div class=\"alert alert-warning\">\n",
    "<b>⚠️ Comentario del revisor:</b> Podrias mejorar la grafica de boxplot con seaborn. Tambien te recomiendo saccar el boxplot por genero. Nos dara una idea de los generos que mas venden.\n",
    "\n",
    "</div>"
   ]
  },
  {
   "cell_type": "markdown",
   "id": "55b47d0a",
   "metadata": {},
   "source": [
    "Se realiza el análisis de la influencia de las críticas de los expertos y los usuarios sobre las ventas en una plataforma, en este caso se hará con *X360*."
   ]
  },
  {
   "cell_type": "code",
   "execution_count": 32,
   "id": "f4579592",
   "metadata": {},
   "outputs": [
    {
     "data": {
      "image/png": "[encoded data removed]",
      "text/plain": [
       "<Figure size 432x288 with 9 Axes>"
      ]
     },
     "metadata": {
      "needs_background": "light"
     },
     "output_type": "display_data"
    }
   ],
   "source": [
    "pd.plotting.scatter_matrix(\n",
    "    data\n",
    "    .query(\"platform == 'X360'\")[['total_sales','critic_score','user_score']]\n",
    ")\n",
    "plt.show()"
   ]
  },
  {
   "cell_type": "code",
   "execution_count": 33,
   "id": "61b6e09f",
   "metadata": {},
   "outputs": [
    {
     "data": {
      "text/html": [
       "<div>\n",
       "<style scoped>\n",
       "    .dataframe tbody tr th:only-of-type {\n",
       "        vertical-align: middle;\n",
       "    }\n",
       "\n",
       "    .dataframe tbody tr th {\n",
       "        vertical-align: top;\n",
       "    }\n",
       "\n",
       "    .dataframe thead th {\n",
       "        text-align: right;\n",
       "    }\n",
       "</style>\n",
       "<table border=\"1\" class=\"dataframe\">\n",
       "  <thead>\n",
       "    <tr style=\"text-align: right;\">\n",
       "      <th></th>\n",
       "      <th>total_sales</th>\n",
       "      <th>critic_score</th>\n",
       "      <th>user_score</th>\n",
       "    </tr>\n",
       "  </thead>\n",
       "  <tbody>\n",
       "    <tr>\n",
       "      <th>total_sales</th>\n",
       "      <td>1.000000</td>\n",
       "      <td>0.205781</td>\n",
       "      <td>0.139921</td>\n",
       "    </tr>\n",
       "    <tr>\n",
       "      <th>critic_score</th>\n",
       "      <td>0.205781</td>\n",
       "      <td>1.000000</td>\n",
       "      <td>0.368715</td>\n",
       "    </tr>\n",
       "    <tr>\n",
       "      <th>user_score</th>\n",
       "      <td>0.139921</td>\n",
       "      <td>0.368715</td>\n",
       "      <td>1.000000</td>\n",
       "    </tr>\n",
       "  </tbody>\n",
       "</table>\n",
       "</div>"
      ],
      "text/plain": [
       "              total_sales  critic_score  user_score\n",
       "total_sales      1.000000      0.205781    0.139921\n",
       "critic_score     0.205781      1.000000    0.368715\n",
       "user_score       0.139921      0.368715    1.000000"
      ]
     },
     "execution_count": 33,
     "metadata": {},
     "output_type": "execute_result"
    }
   ],
   "source": [
    "data[['total_sales','critic_score','user_score']].corr()"
   ]
  },
  {
   "cell_type": "markdown",
   "id": "3a35c896",
   "metadata": {},
   "source": [
    "Las ventas totales de la plataforma *X360*, tienen una dependencia positiva respecto a las críticas de los expertos, al igual que con las críticas de los usuarios, es decir mientras mejores comentarios reciba un juego de parte de expertos y usuarios más probable que el juego tenga éxito en dicha plataforma. Y aún así la influencia de los comentarios de los usuarios tienen menor peso en la compra de los juegos por esta plataforma."
   ]
  },
  {
   "cell_type": "code",
   "execution_count": 34,
   "id": "d25716b7",
   "metadata": {},
   "outputs": [],
   "source": [
    "#Se filtran los juegos que fueron lanzados en diferentes plataformas\n",
    "\n",
    "platform_games = list(\n",
    "    data\n",
    "    .groupby(\"name\")['platform']\n",
    "    .nunique()\n",
    "    .reset_index()\n",
    "    .query(\"platform >1\")[\"name\"]\n",
    ")"
   ]
  },
  {
   "cell_type": "code",
   "execution_count": 35,
   "id": "18f7ea6c",
   "metadata": {},
   "outputs": [],
   "source": [
    "#Se filtran los juegos con mayor número de ventas en todas las plataformas\n",
    "\n",
    "most_sold_games = list(\n",
    "     data\n",
    "    .query(\"name in @platform_games\")\n",
    "    .groupby('name')['total_sales']\n",
    "    .sum()\n",
    "    .reset_index()\n",
    "    .sort_values(by='total_sales', ascending=False)\n",
    "    .head(5)['name']\n",
    ")"
   ]
  },
  {
   "cell_type": "code",
   "execution_count": 36,
   "id": "f3176261",
   "metadata": {},
   "outputs": [
    {
     "data": {
      "image/png": "[encoded data removed]",
      "text/plain": [
       "<Figure size 1080x576 with 1 Axes>"
      ]
     },
     "metadata": {
      "needs_background": "light"
     },
     "output_type": "display_data"
    }
   ],
   "source": [
    "(\n",
    "    data\n",
    "    .query('name in @most_sold_games')\n",
    "    .pivot_table(index='name', columns='platform', values='total_sales', aggfunc='sum')\n",
    "    .plot(kind='bar', figsize=(15,8))\n",
    ")\n",
    "plt.show()"
   ]
  },
  {
   "cell_type": "code",
   "execution_count": 37,
   "id": "0de7ac27",
   "metadata": {},
   "outputs": [],
   "source": [
    "most_sold_genre = list(\n",
    "    data\n",
    "    .groupby('genre')['total_sales']\n",
    "    .sum()\n",
    "    .reset_index()\n",
    "    .sort_values(by='total_sales', ascending=False)\n",
    "    .head(10)['genre']\n",
    ")"
   ]
  },
  {
   "cell_type": "code",
   "execution_count": 38,
   "id": "356698eb",
   "metadata": {},
   "outputs": [
    {
     "data": {
      "text/plain": [
       "['Action',\n",
       " 'Sports',\n",
       " 'Shooter',\n",
       " 'Role-Playing',\n",
       " 'Platform',\n",
       " 'Misc',\n",
       " 'Racing',\n",
       " 'Fighting',\n",
       " 'Simulation',\n",
       " 'Puzzle']"
      ]
     },
     "execution_count": 38,
     "metadata": {},
     "output_type": "execute_result"
    }
   ],
   "source": [
    "most_sold_genre"
   ]
  },
  {
   "cell_type": "code",
   "execution_count": 39,
   "id": "93bed8f7",
   "metadata": {},
   "outputs": [
    {
     "data": {
      "image/png": "[encoded data removed]",
      "text/plain": [
       "<Figure size 864x1440 with 10 Axes>"
      ]
     },
     "metadata": {
      "needs_background": "light"
     },
     "output_type": "display_data"
    }
   ],
   "source": [
    "fig, ax = plt.subplots(ncols=2, nrows=5, figsize=(12, 20))\n",
    "\n",
    "for i, genre in enumerate(most_sold_genre):\n",
    "    data_tmp = data.query(\"genre==@genre\")\n",
    "    \n",
    "    ax.flatten()[i].set_title(f\"Sales distribution of genre {genre}\")\n",
    "    ax.flatten()[i].set_xlim(-2.5,25)\n",
    "    \n",
    "    data_tmp['total_sales'].hist(bins=20, ax=ax.flatten()[i])\n",
    "    \n",
    "    fig.tight_layout(pad=2.0)"
   ]
  },
  {
   "cell_type": "markdown",
   "id": "74924661",
   "metadata": {},
   "source": [
    "## Perfil de usuario por región"
   ]
  },
  {
   "cell_type": "code",
   "execution_count": 40,
   "id": "40052ca5",
   "metadata": {},
   "outputs": [
    {
     "data": {
      "image/png": "[encoded data removed]",
      "text/plain": [
       "<Figure size 720x288 with 1 Axes>"
      ]
     },
     "metadata": {
      "needs_background": "light"
     },
     "output_type": "display_data"
    },
    {
     "data": {
      "image/png": "[encoded data removed]",
      "text/plain": [
       "<Figure size 720x288 with 1 Axes>"
      ]
     },
     "metadata": {
      "needs_background": "light"
     },
     "output_type": "display_data"
    },
    {
     "data": {
      "image/png": "[encoded data removed]",
      "text/plain": [
       "<Figure size 720x288 with 1 Axes>"
      ]
     },
     "metadata": {
      "needs_background": "light"
     },
     "output_type": "display_data"
    }
   ],
   "source": [
    "regions = ['na_sales', 'eu_sales','jp_sales']\n",
    "\n",
    "for region in regions:\n",
    "    sales_by_platform = ( \n",
    "        data\n",
    "        .groupby('platform')[region]\n",
    "        .sum()\n",
    "        .reset_index()\n",
    "    )\n",
    "    sales_by_platform[\"market_share\"] = sales_by_platform[region] / sales_by_platform[region].sum()\n",
    "    \n",
    "    sales_by_popular_platform = (\n",
    "        sales_by_platform\n",
    "        .sort_values(by=region, ascending=False)\n",
    "        .head(5)\n",
    "    )\n",
    "    plt.figure(figsize=(10,4))\n",
    "    sales_by_popular_platform.plot(kind='bar', x='platform', y= region, ax=plt.gca())\n",
    "    plt.show()"
   ]
  },
  {
   "cell_type": "code",
   "execution_count": 41,
   "id": "5f64e77c",
   "metadata": {
    "scrolled": false
   },
   "outputs": [
    {
     "data": {
      "image/png": "[encoded data removed]",
      "text/plain": [
       "<Figure size 720x288 with 1 Axes>"
      ]
     },
     "metadata": {
      "needs_background": "light"
     },
     "output_type": "display_data"
    },
    {
     "data": {
      "image/png": "[encoded data removed]",
      "text/plain": [
       "<Figure size 720x288 with 1 Axes>"
      ]
     },
     "metadata": {
      "needs_background": "light"
     },
     "output_type": "display_data"
    },
    {
     "data": {
      "image/png": "[encoded data removed]",
      "text/plain": [
       "<Figure size 720x288 with 1 Axes>"
      ]
     },
     "metadata": {
      "needs_background": "light"
     },
     "output_type": "display_data"
    }
   ],
   "source": [
    "regions = ['na_sales', 'eu_sales','jp_sales']\n",
    "\n",
    "for region in regions:\n",
    "    sales_by_genre = ( \n",
    "        data\n",
    "        .groupby('genre')[region]\n",
    "        .sum()\n",
    "        .reset_index()\n",
    "    )\n",
    "    sales_by_genre[\"market_share\"] = sales_by_genre[region] / sales_by_genre[region].sum()\n",
    "    \n",
    "    sales_by_popular_genre = (\n",
    "        sales_by_genre\n",
    "        .sort_values(by=region, ascending=False)\n",
    "        .head(5)\n",
    "    )\n",
    "    plt.figure(figsize=(10,4))\n",
    "    sales_by_popular_genre.plot(kind='bar', x='genre', y= region, ax=plt.gca())\n",
    "    plt.show()"
   ]
  },
  {
   "cell_type": "code",
   "execution_count": 42,
   "id": "91a7af5e",
   "metadata": {
    "scrolled": false
   },
   "outputs": [
    {
     "data": {
      "image/png": "[encoded data removed]",
      "text/plain": [
       "<Figure size 720x288 with 1 Axes>"
      ]
     },
     "metadata": {
      "needs_background": "light"
     },
     "output_type": "display_data"
    },
    {
     "data": {
      "image/png": "[encoded data removed]",
      "text/plain": [
       "<Figure size 720x288 with 1 Axes>"
      ]
     },
     "metadata": {
      "needs_background": "light"
     },
     "output_type": "display_data"
    },
    {
     "data": {
      "image/png": "[encoded data removed]",
      "text/plain": [
       "<Figure size 720x288 with 1 Axes>"
      ]
     },
     "metadata": {
      "needs_background": "light"
     },
     "output_type": "display_data"
    }
   ],
   "source": [
    "regions = ['na_sales', 'eu_sales','jp_sales']\n",
    "\n",
    "for region in regions:\n",
    "    sales_by_rating = ( \n",
    "        data\n",
    "        .groupby('rating')[region]\n",
    "        .mean()\n",
    "        .reset_index()\n",
    "        .sort_values(by=region, ascending=False)\n",
    "        .reset_index(drop=True)\n",
    "    )\n",
    "\n",
    "    plt.figure(figsize=(10,4))\n",
    "    sales_by_rating.plot(kind='bar', x='rating', y= region, ax=plt.gca())\n",
    "    plt.show()"
   ]
  },
  {
   "cell_type": "markdown",
   "id": "8733b43f",
   "metadata": {},
   "source": [
    "<div class=\"alert alert-warning\">\n",
    "<b>⚠️ Comentario del revisor:</b> Recuerda agregar conclsiones intermedias a todos las graficas, importante para comunicar lo que encontraste ! \n",
    "\n",
    "</div>"
   ]
  },
  {
   "cell_type": "markdown",
   "id": "ae8d11d6",
   "metadata": {},
   "source": [
    "## Pruebas de Hipótesis"
   ]
  },
  {
   "cell_type": "markdown",
   "id": "592c815e",
   "metadata": {},
   "source": [
    "<div class=\"alert alert-warning\">\n",
    "<b>⚠️ Comentario del revisor:</b> Podrias graficar ambas distribuciones para ver si te da una idea de lo que deberiamso esperar de la hipotesis\n",
    "\n",
    "</div>"
   ]
  },
  {
   "cell_type": "code",
   "execution_count": 43,
   "id": "3a690821",
   "metadata": {},
   "outputs": [
    {
     "name": "stdout",
     "output_type": "stream",
     "text": [
      "H0: Las calificaciones promedio de los usuarios para las plataformas Xbox One y PC son las mismas\n",
      "Ha: Las calificaciones son diferentes\n"
     ]
    }
   ],
   "source": [
    "print('H0: Las calificaciones promedio de los usuarios para las plataformas Xbox One y PC son las mismas')\n",
    "print('Ha: Las calificaciones son diferentes')\n",
    "alpha=0.05"
   ]
  },
  {
   "cell_type": "code",
   "execution_count": 44,
   "id": "0e584a6f",
   "metadata": {},
   "outputs": [
    {
     "name": "stdout",
     "output_type": "stream",
     "text": [
      "p-value: 0.006309849448515729\n",
      "Rechazamos la hipótesis nula\n"
     ]
    }
   ],
   "source": [
    "results = st.ttest_ind(\n",
    "    data.query(\"platform=='XOne'\")['user_score'],\n",
    "    data.query(\"platform=='PC'\")['user_score']\n",
    ")\n",
    "\n",
    "print(f\"p-value: {results.pvalue}\")\n",
    "\n",
    "if(results.pvalue < alpha):\n",
    "    print(\"Rechazamos la hipótesis nula\")\n",
    "else:\n",
    "    print(\"No rechazamos la hipótesis nula\")"
   ]
  },
  {
   "cell_type": "markdown",
   "id": "691592b4",
   "metadata": {},
   "source": [
    "**Conclusión**\n",
    "\n",
    "El promedio de las calificaciones de los usuarios de las plataformas XOne y PC son diferentes debido a la prueba de hipótesis de `t de student` ya que la población es grande."
   ]
  },
  {
   "cell_type": "code",
   "execution_count": 45,
   "id": "57f3b54e",
   "metadata": {},
   "outputs": [
    {
     "name": "stdout",
     "output_type": "stream",
     "text": [
      "H0: Las calificaciones promedio de los usuarios para los géneros de Acción y Deportes son iguales\n",
      "Ha: Las calificaciones promedio de los usuarios para los géneros de Acción y Deportes son diferentes\n"
     ]
    }
   ],
   "source": [
    "print('H0: Las calificaciones promedio de los usuarios para los géneros de Acción y Deportes son iguales')\n",
    "print('Ha: Las calificaciones promedio de los usuarios para los géneros de Acción y Deportes son diferentes')\n",
    "alpha1=0.05"
   ]
  },
  {
   "cell_type": "code",
   "execution_count": 46,
   "id": "7239cf9e",
   "metadata": {},
   "outputs": [
    {
     "name": "stdout",
     "output_type": "stream",
     "text": [
      "p-value: 0.006309849448515729\n",
      "Rechazamos la hipótesis nula\n"
     ]
    }
   ],
   "source": [
    "results1 = st.ttest_ind(\n",
    "    data.query(\"genre=='Action'\")['user_score'],\n",
    "    data.query(\"genre=='Sports'\")['user_score']\n",
    ")\n",
    "\n",
    "print(f\"p-value: {results.pvalue}\")\n",
    "\n",
    "if(results1.pvalue < alpha1):\n",
    "    print(\"Rechazamos la hipótesis nula\")\n",
    "else:\n",
    "    print(\"No rechazamos la hipótesis nula\")"
   ]
  },
  {
   "cell_type": "markdown",
   "id": "e166b9bd",
   "metadata": {},
   "source": [
    "**Conclisión**\n",
    "\n",
    "Se plantearon las hipótesis considernado la nula como la igualdad del promedio de las calificaciones de los usuarios de los géneros Acción y Deportes, con la prueba `t de student` se comprobo que los promedios no son iguales."
   ]
  },
  {
   "cell_type": "markdown",
   "id": "39d0fe6e",
   "metadata": {},
   "source": [
    "## Conclusión final"
   ]
  },
  {
   "cell_type": "markdown",
   "id": "32daff1b",
   "metadata": {},
   "source": [
    "En este ejercicio se está planteando un modelo de predicción para la venta de videojuegos.\n",
    "Lo que se trabajo fue el encontrar las plataformas que han tenido más éxito a lo largo de la historia, hasta el año 2016, y que videojuegos han sido los más vendidos.\n",
    "Se encontró que la plataforma más vendida al momento es la *PS2* con los datos que tenemos, con esta misma información encontramos que las plataformas actuales duran en promedio 10 años desde que salen al mercado hasta desaparecer o ya no presentar ventas de sus videojuegos.\n",
    "El videojuego con más ventas en la historia de acuerdo con los datos es `Super Mario Bros.` para la plataforma `NES` de la compañía Nintendo.\n",
    "De las distribuciones de las ventas por género de videojuego, los clasificados en *Acción* son los más vendidos, seguidos de los llamados de *Deportes*.\n",
    "Dentro del análisis de los datos se buscó las plataformas más vendidas por regiones, en Norteamérica la plataforma más vendida es *Xbox 360*, en Europa *PS2* y en Japón *DS*.\n",
    "Siguiendo con la clasificación de ventas por región el género de *Acción* es el más vendido en Norteamérica y Europa, mientras que en Japón son los *Juegos de Rol*.\n",
    "En cuanto a las clasificaciones de ESRB en Norteamérica y Europa los juegos *AO* o Solo adultos son los más vendidos y en Japón la clasificación *K-A* o Kids to Adults (Everyone).\n",
    "Con las pruebas de hipótesis se encontró que las calificaciones promedio de los usuarios de las plataformas *Xbox One* y *PC* son diferentes así como las calificaciones promedio para los juegos de *Acción* y *Deportes* también son diferentes."
   ]
  },
  {
   "cell_type": "markdown",
   "id": "652d7971",
   "metadata": {},
   "source": [
    "<div class=\"alert alert-success\">\n",
    "<b>✔️ Comentario del revisor:</b> Muchas gracias por tu proyecto! Te pido mostrar los resultados despues de cada code-block para que yo veo los resultados. Gracias :)"
   ]
  },
  {
   "cell_type": "markdown",
   "id": "a6c94a5d",
   "metadata": {},
   "source": [
    "<div class=\"alert alert-info\"> <b>Comentario del estudiante:</b> Gracias Maria, ya revise el por que no corrió mi código, ingrese mal la ruta, ya lo corregí</div>"
   ]
  }
 ],
 "metadata": {
  "kernelspec": {
   "display_name": "Python 3 (ipykernel)",
   "language": "python",
   "name": "python3"
  },
  "language_info": {
   "codemirror_mode": {
    "name": "ipython",
    "version": 3
   },
   "file_extension": ".py",
   "mimetype": "text/x-python",
   "name": "python",
   "nbconvert_exporter": "python",
   "pygments_lexer": "ipython3",
   "version": "3.9.5"
  },
  "toc": {
   "base_numbering": 1,
   "nav_menu": {},
   "number_sections": true,
   "sideBar": true,
   "skip_h1_title": true,
   "title_cell": "Table of Contents",
   "title_sidebar": "Contents",
   "toc_cell": false,
   "toc_position": {},
   "toc_section_display": true,
   "toc_window_display": false
  },
  "widgets": {
   "application/vnd.jupyter.widget-state+json": {
    "state": {},
    "version_major": 2,
    "version_minor": 0
   }
  }
 },
 "nbformat": 4,
 "nbformat_minor": 5
}
