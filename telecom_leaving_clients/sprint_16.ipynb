{
 "cells": [
  {
   "cell_type": "markdown",
   "id": "d5796925",
   "metadata": {},
   "source": [
    "Hola &#x1F600;\n",
    "\n",
    "Soy **Hesus Garcia**  como \"Jesús\" pero con H. Sé que puede ser confuso al principio, pero una vez que lo recuerdes, ¡nunca lo olvidarás! &#x1F31D;\t. Como revisor de código de Triple-Ten, estoy emocionado de examinar tus proyectos y ayudarte a mejorar tus habilidades en programación. si has cometido algún error, no te preocupes, pues ¡estoy aquí para ayudarte a corregirlo y hacer que tu código brille! &#x1F31F;. Si encuentro algún detalle en tu código, te lo señalaré para que lo corrijas, ya que mi objetivo es ayudarte a prepararte para un ambiente de trabajo real, donde el líder de tu equipo actuaría de la misma manera. Si no puedes solucionar el problema, te proporcionaré más información en la próxima oportunidad. Cuando encuentres un comentario,  **por favor, no los muevas, no los modifiques ni los borres**. \n",
    "\n",
    "Revisaré cuidadosamente todas las implementaciones que has realizado para cumplir con los requisitos y te proporcionaré mis comentarios de la siguiente manera:\n",
    "\n",
    "\n",
    "<div class=\"alert alert-block alert-success\">\n",
    "<b>Comentario del revisor</b> <a class=“tocSkip”></a>\n",
    "Si todo está perfecto.\n",
    "</div>\n",
    "\n",
    "<div class=\"alert alert-block alert-warning\">\n",
    "<b>Comentario del revisor</b> <a class=“tocSkip”></a>\n",
    "Si tu código está bien pero se puede mejorar o hay algún detalle que le hace falta.\n",
    "</div>\n",
    "\n",
    "<div class=\"alert alert-block alert-danger\">\n",
    "<b>Comentario del revisor</b> <a class=“tocSkip”></a>\n",
    "Si de pronto hace falta algo o existe algún problema con tu código o conclusiones.\n",
    "</div>\n",
    "\n",
    "Puedes responderme de esta forma:\n",
    "<div class=\"alert alert-block alert-info\">\n",
    "<b>Respuesta del estudiante</b> <a class=“tocSkip”></a>\n",
    "</div>\n",
    "\n",
    "</br>\n",
    "\n",
    "**¡Empecemos!**  &#x1F680;"
   ]
  },
  {
   "cell_type": "markdown",
   "id": "7aad9e4c",
   "metadata": {},
   "source": [
    "# Índice <a id='back'></a>\n",
    "\n",
    "* [Introducción](#intro)\n",
    "* [Inicialización](#init)\n",
    "    * [Carga de librerías](#libs)\n",
    "    * [Carga de datos](#data)\n",
    "    * [Funciones a usar](#functions)\n",
    "* [Análisis exploratorio de datos](#eda)\n",
    "* [Plan de acción](#plan)\n",
    "* [Preguntas](#questions)\n",
    "* [Arreglo para modelado](#modelos)\n",
    "    * [Unión conjunto de datos](#dataset)\n",
    "        * [Conjunto users](#users)\n",
    "        * [Conjunto contract](#contract)\n",
    "        * [Conjunto phone](#phone)\n",
    "        * [Conjunto internet](#internet)\n",
    "    * [Preparación de datos](#datos)\n",
    "        * [Balanceo por sobremuestreo](#upsample)\n",
    "        * [One Hot Encoding](#ohe)\n",
    "        * [Encoder type](#label)\n",
    "        * [Escalado de características númericas](#scaler)\n",
    "        * [Correlación de características númericas](#corr)\n",
    "        * [Chi-Cuadrado](#chi)\n",
    "        * [Boruta](#boruta)\n",
    "    * [Modelos](#models)\n",
    "        * [Selección de características para modelos](#select)\n",
    "        * [LightGBM](#lgbm)\n",
    "        * [Bosque Aleatorio Clasificatorio](#rfr)\n",
    "        * [CatBoost](#cbc)\n",
    "        * [Clasificador XGB](#xgb)\n",
    "        * [Resumen de resultador por modelos](#results)\n",
    "* [Conclusiones](#conclusions)"
   ]
  },
  {
   "cell_type": "markdown",
   "id": "a94d30b8",
   "metadata": {},
   "source": [
    "# Proyecto TELECOM"
   ]
  },
  {
   "cell_type": "markdown",
   "id": "6e8e94fe",
   "metadata": {},
   "source": [
    "La empresa Interconnect le gustaría pronosticar su tasa de cancelación de clientes. Si se descubre que un susuario o usuaria planea irse, se le ofrecerán códigos promocionales y opciones de planes especiales.\n",
    "Por lo que solicitaron un análisis del comportamiento para predecir si un cliente está por cancelar el contrato."
   ]
  },
  {
   "cell_type": "markdown",
   "id": "0ee78914",
   "metadata": {},
   "source": [
    "## Carga librerías"
   ]
  },
  {
   "cell_type": "code",
   "execution_count": 1,
   "id": "84526ef2",
   "metadata": {},
   "outputs": [
    {
     "ename": "ModuleNotFoundError",
     "evalue": "No module named 'imblearn'",
     "output_type": "error",
     "traceback": [
      "\u001b[0;31m---------------------------------------------------------------------------\u001b[0m",
      "\u001b[0;31mModuleNotFoundError\u001b[0m                       Traceback (most recent call last)",
      "\u001b[0;32m/tmp/ipykernel_85/3337776559.py\u001b[0m in \u001b[0;36m<module>\u001b[0;34m\u001b[0m\n\u001b[1;32m      8\u001b[0m \u001b[0;32mfrom\u001b[0m \u001b[0mitertools\u001b[0m \u001b[0;32mimport\u001b[0m \u001b[0mcombinations\u001b[0m\u001b[0;34m\u001b[0m\u001b[0;34m\u001b[0m\u001b[0m\n\u001b[1;32m      9\u001b[0m \u001b[0;32mfrom\u001b[0m \u001b[0mboruta\u001b[0m \u001b[0;32mimport\u001b[0m \u001b[0mBorutaPy\u001b[0m\u001b[0;34m\u001b[0m\u001b[0;34m\u001b[0m\u001b[0m\n\u001b[0;32m---> 10\u001b[0;31m \u001b[0;32mfrom\u001b[0m \u001b[0mimblearn\u001b[0m\u001b[0;34m.\u001b[0m\u001b[0mover_sampling\u001b[0m \u001b[0;32mimport\u001b[0m \u001b[0mRandomOverSampler\u001b[0m\u001b[0;34m\u001b[0m\u001b[0;34m\u001b[0m\u001b[0m\n\u001b[0m\u001b[1;32m     11\u001b[0m \u001b[0;34m\u001b[0m\u001b[0m\n\u001b[1;32m     12\u001b[0m \u001b[0;34m\u001b[0m\u001b[0m\n",
      "\u001b[0;31mModuleNotFoundError\u001b[0m: No module named 'imblearn'"
     ]
    }
   ],
   "source": [
    "import pandas as pd\n",
    "import numpy as np\n",
    "import matplotlib.pyplot as plt\n",
    "\n",
    "import time\n",
    "import math\n",
    "import scipy.stats as st\n",
    "from itertools import combinations\n",
    "from boruta import BorutaPy\n",
    "from imblearn.over_sampling import RandomOverSampler\n",
    "\n",
    "\n",
    "from re import sub\n",
    "\n",
    "from sklearn.utils import shuffle\n",
    "from sklearn.model_selection import (train_test_split, \n",
    "                                     GridSearchCV, \n",
    "                                     cross_val_score)\n",
    "from sklearn import metrics\n",
    "from sklearn.metrics import (auc,\n",
    "                             accuracy_score, \n",
    "                             average_precision_score, \n",
    "                             f1_score, \n",
    "                             mean_squared_error, \n",
    "                             precision_recall_curve, \n",
    "                             roc_auc_score, \n",
    "                             roc_curve)\n",
    "from sklearn.tree import DecisionTreeClassifier\n",
    "from sklearn.ensemble import RandomForestClassifier\n",
    "from sklearn.preprocessing import LabelEncoder, MinMaxScaler\n",
    "from lightgbm import LGBMClassifier\n",
    "from catboost import CatBoostClassifier\n",
    "from xgboost import XGBClassifier\n",
    "\n",
    "\n",
    "import warnings\n",
    "warnings.simplefilter('ignore')\n"
   ]
  },
  {
   "cell_type": "markdown",
   "id": "d6c682ec",
   "metadata": {},
   "source": [
    "## Carga de datos"
   ]
  },
  {
   "cell_type": "code",
   "execution_count": null,
   "id": "828c9da8",
   "metadata": {},
   "outputs": [],
   "source": [
    "try:\n",
    "    users = pd.read_csv('./datasets/personal.csv')\n",
    "    phone = pd.read_csv('./datasets/phone.csv')\n",
    "    internet = pd.read_csv('./datasets/internet.csv')\n",
    "    contract = pd.read_csv('./datasets/contract.csv',parse_dates=['BeginDate'])\n",
    "    \n",
    "except:\n",
    "    users = pd.read_csv('/datasets/final_provider/personal.csv')\n",
    "    phone = pd.read_csv('/datasets/final_provider/phone.csv')\n",
    "    internet = pd.read_csv('/datasets/final_provider/internet.csv')\n",
    "    contract = pd.read_csv('/datasets/final_provider/contract.csv')"
   ]
  },
  {
   "cell_type": "markdown",
   "id": "d8791d17",
   "metadata": {},
   "source": [
    "## Funciones a usar"
   ]
  },
  {
   "cell_type": "markdown",
   "id": "1d45c151",
   "metadata": {},
   "source": [
    "Se cargan las funcionas a utilizar en el desarrollo del proyecto."
   ]
  },
  {
   "cell_type": "code",
   "execution_count": null,
   "id": "4fd65e13",
   "metadata": {},
   "outputs": [],
   "source": [
    "#Función para dar formato a nombre de columna de acuerdo con convención\n",
    "def column_format(c):\n",
    "    return '_'.join(sub('([A-Z][a-z]+)', r' \\1',\n",
    "                    sub('([A-Z]+)', r' \\1',\n",
    "                    c.replace('-',' '))).split()).lower()\n",
    "\n",
    "#Función para renombrar las columnas creadas con get_dummies\n",
    "def bool_columns(df, columns):\n",
    "    df = pd.get_dummies(data=df, columns=columns, drop_first=True)\n",
    "    \n",
    "    for col in df.columns:\n",
    "        pattern = r'_([A-Z].*)'     # Encuentra el patron que agrega get_dummies\n",
    "        replace = ''                # El reemplazo es una cadena vacia\n",
    "        clean_name = sub(pattern=pattern, repl=replace, string=col)\n",
    "        df = df.rename(columns={col:clean_name})\n",
    "    return df"
   ]
  },
  {
   "cell_type": "code",
   "execution_count": null,
   "id": "c6fa1d42",
   "metadata": {},
   "outputs": [],
   "source": [
    "#Funciones de calculo de fechas reales de termino y días activos\n",
    "\n",
    "def caculate_end_date_by_year(df, last_year=2020, last_month=2, add_n_years=None, add_n_months=None):\n",
    "    \n",
    "    if (df['begin_date'].year == last_year) & (add_n_years):\n",
    "        return df['begin_date'] + pd.DateOffset(years=add_n_years)\n",
    "    \n",
    "    else:\n",
    "        return pd.to_datetime(f'{last_year-1}-{df[\"begin_date\"].month}-01') + pd.DateOffset(years=add_n_years)\n",
    "\n",
    "def real_end_date(df):\n",
    "    if pd.isna(df['end_date']):\n",
    "        type_contract = df['type']\n",
    "\n",
    "        \n",
    "        if (type_contract == 'Month-to-month') & (df['begin_date'].month == 2):\n",
    "            return df['begin_date'] + pd.DateOffset(months=1)\n",
    "        \n",
    "        elif (type_contract == 'Month-to-month') & (df['begin_date'].month == 1):\n",
    "            return pd.to_datetime('2020-02-01')\n",
    "        \n",
    "        \n",
    "        elif type_contract == 'One year':\n",
    "            return caculate_end_date_by_year(df, add_n_years=1)\n",
    "        else:\n",
    "            return caculate_end_date_by_year(df, add_n_years=2)\n",
    "    else:\n",
    "        return df['end_date']\n",
    "    \n",
    "def active_days(df):\n",
    "   \n",
    "    end_active_day = df['real_end_date']\n",
    "    \n",
    "    if end_active_day > pd.to_datetime('2020-01-01'):\n",
    "        end_active_day = pd.to_datetime('2020-01-01')\n",
    "    return (end_active_day - df['begin_date']).days\n"
   ]
  },
  {
   "cell_type": "code",
   "execution_count": null,
   "id": "c10eee17",
   "metadata": {},
   "outputs": [],
   "source": [
    "#Función de parámetros AUC-ROC y exactitud\n",
    "def metricas(model, train_features, train_target, test_features, test_target, proba=True):\n",
    "    \n",
    "    eval_stats = {}\n",
    "    \n",
    "    fig, axs = plt.subplots(1, 3, figsize=(20, 6)) \n",
    "    \n",
    "    for type, features, target in (('train', train_features, train_target), ('test', test_features, test_target)):\n",
    "        \n",
    "        eval_stats[type] = {}\n",
    "    \n",
    "        pred_target = model.predict(features)\n",
    "        pred_proba = model.predict_proba(features)[:, 1]\n",
    "\n",
    "        # F1\n",
    "        f1_thresholds = np.arange(0, 1.01, 0.05)\n",
    "        f1_scores = [f1_score(target, pred_proba>=threshold) for threshold in f1_thresholds]\n",
    "        \n",
    "        # ROC-AUC\n",
    "        fpr, tpr, roc_thresholds = roc_curve(target, pred_proba)\n",
    "        roc_auc = roc_auc_score(target, pred_proba)    \n",
    "        eval_stats[type]['ROC AUC'] = roc_auc\n",
    "\n",
    "        # PRC\n",
    "        precision, recall, pr_thresholds = precision_recall_curve(target, pred_proba)\n",
    "        aps = average_precision_score(target, pred_proba)\n",
    "        eval_stats[type]['APS'] = aps\n",
    "        \n",
    "        if type == 'train':\n",
    "            color = 'blue'\n",
    "        else:\n",
    "            color = 'green'\n",
    "\n",
    "        # Valor F1\n",
    "        ax = axs[0]\n",
    "        max_f1_score_idx = np.argmax(f1_scores)\n",
    "        ax.plot(f1_thresholds, f1_scores, color=color, label=f'{type}, max={f1_scores[max_f1_score_idx]:.2f} @ {f1_thresholds[max_f1_score_idx]:.2f}')\n",
    "        # establecer cruces para algunos umbrales        \n",
    "        for threshold in (0.2, 0.4, 0.5, 0.6, 0.8):\n",
    "            closest_value_idx = np.argmin(np.abs(f1_thresholds-threshold))\n",
    "            marker_color = 'orange' if threshold != 0.5 else 'red'\n",
    "            ax.plot(f1_thresholds[closest_value_idx], f1_scores[closest_value_idx], color=marker_color, marker='X', markersize=7)\n",
    "        ax.set_xlim([-0.02, 1.02])    \n",
    "        ax.set_ylim([-0.02, 1.02])\n",
    "        ax.set_xlabel('threshold')\n",
    "        ax.set_ylabel('F1')\n",
    "        ax.legend(loc='lower center')\n",
    "        ax.set_title(f'Valor F1') \n",
    "\n",
    "        # ROC\n",
    "        ax = axs[1]    \n",
    "        ax.plot(fpr, tpr, color=color, label=f'{type}, ROC AUC={roc_auc:.2f}')\n",
    "        # establecer cruces para algunos umbrales        \n",
    "        for threshold in (0.2, 0.4, 0.5, 0.6, 0.8):\n",
    "            closest_value_idx = np.argmin(np.abs(roc_thresholds-threshold))\n",
    "            marker_color = 'orange' if threshold != 0.5 else 'red'            \n",
    "            ax.plot(fpr[closest_value_idx], tpr[closest_value_idx], color=marker_color, marker='X', markersize=7)\n",
    "        ax.plot([0, 1], [0, 1], color='grey', linestyle='--')\n",
    "        ax.set_xlim([-0.02, 1.02])    \n",
    "        ax.set_ylim([-0.02, 1.02])\n",
    "        ax.set_xlabel('FPR')\n",
    "        ax.set_ylabel('TPR')\n",
    "        ax.legend(loc='lower center')        \n",
    "        ax.set_title(f'Curva ROC')\n",
    "        \n",
    "        # PRC\n",
    "        ax = axs[2]\n",
    "        ax.plot(recall, precision, color=color, label=f'{type}, AP={aps:.2f}')\n",
    "        # establecer cruces para algunos umbrales        \n",
    "        for threshold in (0.2, 0.4, 0.5, 0.6, 0.8):\n",
    "            closest_value_idx = np.argmin(np.abs(pr_thresholds-threshold))\n",
    "            marker_color = 'orange' if threshold != 0.5 else 'red'\n",
    "            ax.plot(recall[closest_value_idx], precision[closest_value_idx], color=marker_color, marker='X', markersize=7)\n",
    "        ax.set_xlim([-0.02, 1.02])    \n",
    "        ax.set_ylim([-0.02, 1.02])\n",
    "        ax.set_xlabel('recall')\n",
    "        ax.set_ylabel('precision')\n",
    "        ax.legend(loc='lower center')\n",
    "        ax.set_title(f'PRC')        \n",
    "\n",
    "        eval_stats[type]['Accuracy'] = accuracy_score(target, pred_target)\n",
    "        eval_stats[type]['F1'] = f1_score(target, pred_target)\n",
    "    \n",
    "    df_eval_stats = pd.DataFrame(eval_stats, )\n",
    "    df_eval_stats = df_eval_stats.round(2)\n",
    "    df_eval_stats = df_eval_stats.reindex(index=('Accuracy', 'F1', 'APS', 'ROC AUC'))\n",
    "    \n",
    "    print(df_eval_stats)\n",
    "    \n",
    "    return"
   ]
  },
  {
   "cell_type": "code",
   "execution_count": null,
   "id": "57899d14",
   "metadata": {},
   "outputs": [],
   "source": [
    "#Clasificación de usuarios activos y no en conjunto de datos contract con valores booleanos\n",
    "\n",
    "def active(df):\n",
    "    return pd.isna(df['end_date'])"
   ]
  },
  {
   "cell_type": "markdown",
   "id": "6edc05c6",
   "metadata": {},
   "source": [
    "## Análisis exploratorio de datos"
   ]
  },
  {
   "cell_type": "code",
   "execution_count": null,
   "id": "1ac9ddf2",
   "metadata": {
    "scrolled": true
   },
   "outputs": [],
   "source": [
    "users.columns"
   ]
  },
  {
   "cell_type": "code",
   "execution_count": null,
   "id": "88db628e",
   "metadata": {},
   "outputs": [],
   "source": [
    "users.columns = [column_format(column) for column in users.columns]"
   ]
  },
  {
   "cell_type": "code",
   "execution_count": null,
   "id": "df6546f3",
   "metadata": {},
   "outputs": [],
   "source": [
    "users.info()"
   ]
  },
  {
   "cell_type": "markdown",
   "id": "29604b3d",
   "metadata": {},
   "source": [
    "Las columnas no parece que tengan ningún problema con tipo de dato, la columna `senior_citizen` se toma como númerica por la clasificación que tiene de la información, 1 para adultos mayores y 0 para los que no lo son. Se mantendrá el conjunto de datos sin cambios"
   ]
  },
  {
   "cell_type": "code",
   "execution_count": null,
   "id": "c37c6995",
   "metadata": {},
   "outputs": [],
   "source": [
    "users.head()"
   ]
  },
  {
   "cell_type": "code",
   "execution_count": null,
   "id": "7389930b",
   "metadata": {},
   "outputs": [],
   "source": [
    "phone.columns"
   ]
  },
  {
   "cell_type": "code",
   "execution_count": null,
   "id": "3cb48ffa",
   "metadata": {},
   "outputs": [],
   "source": [
    "phone.columns = [column_format(column) for column in phone.columns]"
   ]
  },
  {
   "cell_type": "code",
   "execution_count": null,
   "id": "e1a8aab5",
   "metadata": {
    "scrolled": true
   },
   "outputs": [],
   "source": [
    "phone.info()"
   ]
  },
  {
   "cell_type": "markdown",
   "id": "5af3c4f4",
   "metadata": {},
   "source": [
    "No hay nada por hacer en este conjunto de datos"
   ]
  },
  {
   "cell_type": "code",
   "execution_count": null,
   "id": "ad23ad3a",
   "metadata": {},
   "outputs": [],
   "source": [
    "phone.head()"
   ]
  },
  {
   "cell_type": "code",
   "execution_count": null,
   "id": "93ab3ae8",
   "metadata": {
    "scrolled": false
   },
   "outputs": [],
   "source": [
    "internet.columns"
   ]
  },
  {
   "cell_type": "code",
   "execution_count": null,
   "id": "69b4e6cf",
   "metadata": {},
   "outputs": [],
   "source": [
    "internet.columns = [column_format(column) for column in internet.columns]"
   ]
  },
  {
   "cell_type": "code",
   "execution_count": null,
   "id": "b6d4d032",
   "metadata": {
    "scrolled": true
   },
   "outputs": [],
   "source": [
    "internet.info()"
   ]
  },
  {
   "cell_type": "code",
   "execution_count": null,
   "id": "4c86109f",
   "metadata": {},
   "outputs": [],
   "source": [
    "internet.head()"
   ]
  },
  {
   "cell_type": "code",
   "execution_count": null,
   "id": "72c375d1",
   "metadata": {},
   "outputs": [],
   "source": [
    "contract.columns"
   ]
  },
  {
   "cell_type": "code",
   "execution_count": null,
   "id": "e5bff6e2",
   "metadata": {},
   "outputs": [],
   "source": [
    "contract.columns = [column_format(column) for column in contract.columns]"
   ]
  },
  {
   "cell_type": "code",
   "execution_count": null,
   "id": "c18c0d78",
   "metadata": {
    "scrolled": true
   },
   "outputs": [],
   "source": [
    "contract.info()"
   ]
  },
  {
   "cell_type": "markdown",
   "id": "b7020329",
   "metadata": {},
   "source": [
    "La columna `total_charges` tiene tipo de objeto, se buscarán los valores mínimos para verificar si existe algún problema con los datos."
   ]
  },
  {
   "cell_type": "code",
   "execution_count": null,
   "id": "5c8634f0",
   "metadata": {
    "scrolled": true
   },
   "outputs": [],
   "source": [
    "contract.sort_values(by='total_charges')"
   ]
  },
  {
   "cell_type": "markdown",
   "id": "0a3b78ac",
   "metadata": {},
   "source": [
    "Hay 11 usuarios que iniciaron su contrato en Febrero, por lo que aún no se les genera cargo, por eso aparecen la columna `total_charges` vacias y el tipo de la columna se mantiene com objeto, se cambiará este valor por 0, y se harán de tipo float para su tratamiento y análisis."
   ]
  },
  {
   "cell_type": "code",
   "execution_count": null,
   "id": "30c12477",
   "metadata": {},
   "outputs": [],
   "source": [
    "contract['total_charges'] = contract['total_charges'].replace(' ', '0').astype(float)"
   ]
  },
  {
   "cell_type": "code",
   "execution_count": null,
   "id": "6b8183ed",
   "metadata": {},
   "outputs": [],
   "source": [
    "contract.info()"
   ]
  },
  {
   "cell_type": "markdown",
   "id": "ed338acf",
   "metadata": {},
   "source": [
    "La columna end_date es de tipo objeto, se convertirá en tipo Datetime."
   ]
  },
  {
   "cell_type": "code",
   "execution_count": null,
   "id": "799e314f",
   "metadata": {},
   "outputs": [],
   "source": [
    "contract['end_date'] = pd.to_datetime(contract['end_date'], errors='coerce')"
   ]
  },
  {
   "cell_type": "code",
   "execution_count": null,
   "id": "3933d856",
   "metadata": {},
   "outputs": [],
   "source": [
    "contract.info()"
   ]
  },
  {
   "cell_type": "code",
   "execution_count": null,
   "id": "0f05adf4",
   "metadata": {},
   "outputs": [],
   "source": [
    "contract.sample(20)"
   ]
  },
  {
   "cell_type": "code",
   "execution_count": null,
   "id": "0eea4b2f",
   "metadata": {},
   "outputs": [],
   "source": [
    "contract.describe()"
   ]
  },
  {
   "cell_type": "markdown",
   "id": "d86e7dff",
   "metadata": {},
   "source": [
    "Se creará una nueva columna para tener una separación entre los usuarios activos y los inactivos tomando como referencia si tiene una fecha la columna `end_date` o no. Devolviendo un booleano."
   ]
  },
  {
   "cell_type": "code",
   "execution_count": null,
   "id": "8afcf975",
   "metadata": {},
   "outputs": [],
   "source": [
    "contract['is_active'] = contract.apply(active, axis=1).astype(float)\n",
    "contract.sample(10)"
   ]
  },
  {
   "cell_type": "code",
   "execution_count": null,
   "id": "fd25d7d6",
   "metadata": {},
   "outputs": [],
   "source": [
    "contract.groupby('type')['is_active'].sum() / contract.groupby('type')['is_active'].count() *100"
   ]
  },
  {
   "cell_type": "markdown",
   "id": "81e0ddec",
   "metadata": {},
   "source": [
    "De acuerdo con los valores obtenido arriba, las personas con contrato a dos años son lo que siguen activos en un 97% mientras que los usuarios con contrato mes a mes son los que menos usuarios tenemos."
   ]
  },
  {
   "cell_type": "markdown",
   "id": "36f5cfb8",
   "metadata": {},
   "source": [
    "Buscaremos los años en los que se ha tenido mayor cantidad de usuarios por tipo de contrato, así como en que meses hay mayor demanda de los servicios. Para esto dividiremos las fechas de inicio"
   ]
  },
  {
   "cell_type": "code",
   "execution_count": null,
   "id": "ab20723a",
   "metadata": {
    "scrolled": true
   },
   "outputs": [],
   "source": [
    "contract['begin_date'] = pd.to_datetime(contract['begin_date'])\n",
    "contract['begin_year'] = contract['begin_date'].dt.year\n",
    "contract['begin_month'] = contract['begin_date'].dt.month\n",
    "contract['end_year'] = contract['end_date'].dt.year\n",
    "contract['end_month'] = contract['end_date'].dt.month\n",
    "contract.head()"
   ]
  },
  {
   "cell_type": "markdown",
   "id": "95a2982e",
   "metadata": {},
   "source": [
    "Para la fechas de termino, las calcularemos la fecha real de termino considerando a los que llevan contrato mes a mes que su corte y fin de servicio es un mes despúes."
   ]
  },
  {
   "cell_type": "code",
   "execution_count": null,
   "id": "2b4e7474",
   "metadata": {},
   "outputs": [],
   "source": [
    "contract['real_end_date'] = contract.apply(real_end_date, axis=1)\n",
    "contract"
   ]
  },
  {
   "cell_type": "code",
   "execution_count": null,
   "id": "0d7570f4",
   "metadata": {},
   "outputs": [],
   "source": [
    "contract['active_days'] = contract.apply(active_days, axis=1)\n",
    "contract.drop(['begin_date','end_date','real_end_date'],axis=1, inplace=True)\n",
    "contract"
   ]
  },
  {
   "cell_type": "code",
   "execution_count": null,
   "id": "41a6d0f6",
   "metadata": {},
   "outputs": [],
   "source": [
    "ax = contract.groupby(['begin_year','type']).size().unstack(fill_value=0).plot(kind='bar', figsize=(9,6))\n",
    "ax.set_xlabel('Año')\n",
    "ax.set_ylabel('Contratos')\n",
    "ax.set_title('Nuevos usuarios por año y tipo')\n",
    "plt.xticks()\n",
    "plt.legend()\n",
    "plt.tight_layout()\n",
    "plt.show()\n"
   ]
  },
  {
   "cell_type": "markdown",
   "id": "16c5a6c5",
   "metadata": {},
   "source": [
    "En 2019 se unieron mas usuarios por contrato mes a mes que en otros años."
   ]
  },
  {
   "cell_type": "code",
   "execution_count": null,
   "id": "55faa430",
   "metadata": {},
   "outputs": [],
   "source": [
    "ax = contract.groupby(['end_year','type']).size().unstack(fill_value=0).plot(kind='bar', figsize=(9,6))\n",
    "ax.set_xlabel('Año')\n",
    "ax.set_ylabel('Contratos')\n",
    "ax.set_title('Usuarios inactivos por año y tipo')\n",
    "plt.xticks()\n",
    "plt.legend()\n",
    "plt.tight_layout()\n",
    "plt.show()"
   ]
  },
  {
   "cell_type": "markdown",
   "id": "145a1d6b",
   "metadata": {},
   "source": [
    "En 2019 los usuarios inactivos aumentaron con contrato de Mes a Mes."
   ]
  },
  {
   "cell_type": "code",
   "execution_count": null,
   "id": "b2c4e7b0",
   "metadata": {},
   "outputs": [],
   "source": [
    "ax = contract.groupby(['begin_month','type']).size().unstack(fill_value=0).plot(kind='bar', figsize=(9,6))\n",
    "ax.set_xlabel('Mes')\n",
    "ax.set_ylabel('Contratos')\n",
    "ax.set_title('Nuevos usuarios por mes y tipo')\n",
    "plt.xticks()\n",
    "plt.legend()\n",
    "plt.tight_layout()\n",
    "plt.show()"
   ]
  },
  {
   "cell_type": "code",
   "execution_count": null,
   "id": "e2b640ad",
   "metadata": {
    "scrolled": false
   },
   "outputs": [],
   "source": [
    "ax = contract.groupby(['end_month','type']).size().unstack(fill_value=0).plot(kind='bar', figsize=(9,6))\n",
    "ax.set_xlabel('Mes')\n",
    "ax.set_ylabel('Contratos')\n",
    "ax.set_title('Usuarios inactivos por mes y tipo')\n",
    "plt.xticks()\n",
    "plt.legend()\n",
    "plt.tight_layout()\n",
    "plt.show()"
   ]
  },
  {
   "cell_type": "markdown",
   "id": "ae8367b9",
   "metadata": {},
   "source": [
    "Los usuarios que más han abandonado el servicio son los usuarios de contrato mes a mes, como se vio anteriormente en los memses de Octubre, Noviembre, Diciembre y Enero, siendo los dos últimos años los que han tenido bajas."
   ]
  },
  {
   "cell_type": "markdown",
   "id": "513d204c",
   "metadata": {},
   "source": [
    "Con esta información se hará lo mismo buscando si el tipo de pago influye en el abandono del servicio de los usuarios con contrato mes a mes."
   ]
  },
  {
   "cell_type": "code",
   "execution_count": null,
   "id": "0440ba91",
   "metadata": {},
   "outputs": [],
   "source": [
    "ax = contract[contract['type']=='Month-to-month'].groupby(['begin_year','payment_method']).size().unstack(fill_value=0).plot(kind='bar', figsize=(9,6))\n",
    "ax.set_xlabel('Año')\n",
    "ax.set_ylabel('Contratos')\n",
    "ax.set_title('Nuevos usuarios Mes a Mes por año y tipo de pago')\n",
    "plt.xticks()\n",
    "plt.legend()\n",
    "plt.tight_layout()\n",
    "plt.show()"
   ]
  },
  {
   "cell_type": "code",
   "execution_count": null,
   "id": "cf7e9a87",
   "metadata": {},
   "outputs": [],
   "source": [
    "ax = contract[contract['type']=='Month-to-month'].groupby(['end_year','payment_method']).size().unstack(fill_value=0).plot(kind='bar', figsize=(9,6))\n",
    "ax.set_xlabel('Año')\n",
    "ax.set_ylabel('Contratos')\n",
    "ax.set_title('Abandono de usuarios mes a mes por año y tipo de pago')\n",
    "plt.xticks()\n",
    "plt.legend()\n",
    "plt.tight_layout()\n",
    "plt.show()"
   ]
  },
  {
   "cell_type": "code",
   "execution_count": null,
   "id": "eec3b0e1",
   "metadata": {},
   "outputs": [],
   "source": [
    "ax = contract[contract['type']=='Month-to-month'].groupby(['begin_month','payment_method']).size().unstack(fill_value=0).plot(kind='bar', figsize=(9,6))\n",
    "ax.set_xlabel('Mes')\n",
    "ax.set_ylabel('Contratos')\n",
    "ax.set_title('Nuevos usuarios mes a mes por mes y tipo de pago')\n",
    "plt.xticks()\n",
    "plt.legend()\n",
    "plt.tight_layout()\n",
    "plt.show()"
   ]
  },
  {
   "cell_type": "code",
   "execution_count": null,
   "id": "4947dd3b",
   "metadata": {},
   "outputs": [],
   "source": [
    "ax = contract[contract['type']=='Month-to-month'].groupby(['end_month','payment_method']).size().unstack(fill_value=0).plot(kind='bar', figsize=(9,6))\n",
    "ax.set_xlabel('Mes')\n",
    "ax.set_ylabel('Contratos')\n",
    "ax.set_title('Abandono usuarios mes a mes por mes y tipo de pago')\n",
    "plt.xticks()\n",
    "plt.legend()\n",
    "plt.tight_layout()\n",
    "plt.show()"
   ]
  },
  {
   "cell_type": "markdown",
   "id": "178655fe",
   "metadata": {},
   "source": [
    "La tendencia de abandono en los meses de Octubre a Enero se mantiene, mostrando que los usuarios con pago electrónico son los más propensos a dejar los servicios de la compñía."
   ]
  },
  {
   "cell_type": "markdown",
   "id": "ad0bdd89",
   "metadata": {},
   "source": [
    "## Plan de acción"
   ]
  },
  {
   "cell_type": "markdown",
   "id": "89c0abe1",
   "metadata": {},
   "source": [
    "   - Limpieza de datos\n",
    "       * Se buscarán valores ausentes en cada conjunto de datos dandoles tratamiento.\n",
    "       * Se dará solución a posibles valores duplicados en los conjuntos de datos.\n",
    "   - Unión de tablas\n",
    "       * Se unirán las tablas tomando como columna guía el cutomerID.\n",
    "   - Entrenamiento de modelos\n",
    "       - Divisón de dataset.\n",
    "           * Se divirirá el dataset con todas las columnas en entrenamiento y prueba para los diferentes modelos de clasificación a probar.\n",
    "       - Entrenamiento y prueba de modelos.\n",
    "           * Con cada modelo evaluaremos AUC-ROC y exactitud.\n",
    "       - Ajuste de modelo a usar.\n",
    "           * Teniendo el modelo con mejores valores, se ajustarán los hiperparametros para obtener mejores resultados con el modelo.\n",
    "    "
   ]
  },
  {
   "cell_type": "markdown",
   "id": "b88c1cec",
   "metadata": {},
   "source": [
    "## Preguntas"
   ]
  },
  {
   "cell_type": "markdown",
   "id": "ae9a4106",
   "metadata": {},
   "source": [
    "- ¿Se sabe si los usuarios que se dan de baja han regresado con otro tipo de contrato?\n",
    "- ¿Al cambiar un método de pago se realiza nuevo contrato?\n",
    "- ¿Adicionar elementos al contrato se genera como uno nuevo desechando el anterior?"
   ]
  },
  {
   "cell_type": "markdown",
   "id": "fbad99b8",
   "metadata": {},
   "source": [
    "## Arreglo para modelado"
   ]
  },
  {
   "cell_type": "markdown",
   "id": "f3791923",
   "metadata": {},
   "source": [
    "### Unión de conjunto de datos"
   ]
  },
  {
   "cell_type": "markdown",
   "id": "641aee1f",
   "metadata": {},
   "source": [
    "### Conjunto `users`"
   ]
  },
  {
   "cell_type": "markdown",
   "id": "c23ec93e",
   "metadata": {},
   "source": [
    "Se buscará preparar el conjunto de datos `users` para poder unirlo al dataset `contract`"
   ]
  },
  {
   "cell_type": "code",
   "execution_count": null,
   "id": "1297bf6d",
   "metadata": {},
   "outputs": [],
   "source": [
    "users.info() "
   ]
  },
  {
   "cell_type": "code",
   "execution_count": null,
   "id": "efdf9f71",
   "metadata": {},
   "outputs": [],
   "source": [
    "users.describe()"
   ]
  },
  {
   "cell_type": "markdown",
   "id": "ff404f2c",
   "metadata": {},
   "source": [
    "Convertiremos las columnas `gender, partner y dependents` en dummies."
   ]
  },
  {
   "cell_type": "code",
   "execution_count": null,
   "id": "4631089c",
   "metadata": {},
   "outputs": [],
   "source": [
    "users = bool_columns(users, ['gender','partner','dependents'])\n",
    "users.head()"
   ]
  },
  {
   "cell_type": "markdown",
   "id": "5732db48",
   "metadata": {},
   "source": [
    "Ahora la columna `paperless_billing` en *contract* se hará dummie"
   ]
  },
  {
   "cell_type": "code",
   "execution_count": null,
   "id": "dcc6056f",
   "metadata": {},
   "outputs": [],
   "source": [
    "contract = bool_columns(contract, ['paperless_billing'])\n",
    "contract.head()"
   ]
  },
  {
   "cell_type": "markdown",
   "id": "bc6e0484",
   "metadata": {},
   "source": [
    "Unión de `contract` con `users`"
   ]
  },
  {
   "cell_type": "code",
   "execution_count": null,
   "id": "2c842e51",
   "metadata": {},
   "outputs": [],
   "source": [
    "df = pd.merge(contract, users, on='customer_id', how='outer')"
   ]
  },
  {
   "cell_type": "code",
   "execution_count": null,
   "id": "750cb3b3",
   "metadata": {
    "scrolled": false
   },
   "outputs": [],
   "source": [
    "df"
   ]
  },
  {
   "cell_type": "markdown",
   "id": "a225d94f",
   "metadata": {},
   "source": [
    "## Conjunto `phone`"
   ]
  },
  {
   "cell_type": "markdown",
   "id": "ca6b276e",
   "metadata": {},
   "source": [
    "Al igual que el conjunto `users` se unirá el conjunto `phone` en un solo dataset"
   ]
  },
  {
   "cell_type": "code",
   "execution_count": null,
   "id": "e55351a7",
   "metadata": {},
   "outputs": [],
   "source": [
    "phone.head()"
   ]
  },
  {
   "cell_type": "code",
   "execution_count": null,
   "id": "e53a5b62",
   "metadata": {},
   "outputs": [],
   "source": [
    "phone =bool_columns(phone, ['multiple_lines'])\n",
    "phone.head()"
   ]
  },
  {
   "cell_type": "code",
   "execution_count": null,
   "id": "ce0bcc3e",
   "metadata": {},
   "outputs": [],
   "source": [
    "df = pd.merge(df, phone, on='customer_id', how='outer')\n",
    "df"
   ]
  },
  {
   "cell_type": "markdown",
   "id": "56cf2cab",
   "metadata": {},
   "source": [
    "### Conjunto `Internet`"
   ]
  },
  {
   "cell_type": "markdown",
   "id": "10f553af",
   "metadata": {},
   "source": [
    "Unión de `internet` al set `df` con todas la características a evaluar."
   ]
  },
  {
   "cell_type": "code",
   "execution_count": null,
   "id": "ef73abff",
   "metadata": {},
   "outputs": [],
   "source": [
    "internet.head()"
   ]
  },
  {
   "cell_type": "code",
   "execution_count": null,
   "id": "f92a5970",
   "metadata": {},
   "outputs": [],
   "source": [
    "internet = bool_columns(internet, \n",
    "                          ['online_security',\n",
    "                                             'online_backup',\n",
    "                           'internet_service',\n",
    "                                             'device_protection',\n",
    "                                             'tech_support',\n",
    "                                             'streaming_tv',\n",
    "                                             'streaming_movies'])\n",
    "internet.head()"
   ]
  },
  {
   "cell_type": "code",
   "execution_count": null,
   "id": "63f58df4",
   "metadata": {
    "scrolled": false
   },
   "outputs": [],
   "source": [
    "df = pd.merge(df, internet, on='customer_id', how='outer')\n",
    "df"
   ]
  },
  {
   "cell_type": "markdown",
   "id": "c9839591",
   "metadata": {},
   "source": [
    "Se buscaran valores ausentes"
   ]
  },
  {
   "cell_type": "code",
   "execution_count": null,
   "id": "0f5a41f2",
   "metadata": {},
   "outputs": [],
   "source": [
    "df.isna().sum()"
   ]
  },
  {
   "cell_type": "markdown",
   "id": "2ad98b2f",
   "metadata": {},
   "source": [
    "Estos valore se reemplazarán por un `0`"
   ]
  },
  {
   "cell_type": "code",
   "execution_count": null,
   "id": "71d47f9e",
   "metadata": {},
   "outputs": [],
   "source": [
    "df.fillna('0', inplace=True)\n",
    "df.info()"
   ]
  },
  {
   "cell_type": "markdown",
   "id": "44ae1a13",
   "metadata": {},
   "source": [
    "Para realizar el modelado las fechas de inicio y termino del contrato no se utilizarán por lo que se descartarán de nuestro conjunto de datos a trabajar, así como el `customer_id`"
   ]
  },
  {
   "cell_type": "code",
   "execution_count": null,
   "id": "e17c574e",
   "metadata": {},
   "outputs": [],
   "source": [
    "df.drop(['customer_id','begin_year','begin_month','end_year','end_month'],axis=1, inplace=True)\n",
    "df.info()"
   ]
  },
  {
   "cell_type": "markdown",
   "id": "337a73a1",
   "metadata": {},
   "source": [
    "## Preparación de datos "
   ]
  },
  {
   "cell_type": "markdown",
   "id": "dae995b9",
   "metadata": {},
   "source": [
    "Nuestra variable objetivo es `is_active`, es decir vamos a predecir si un usuario está activo o no con contrato en la compañia dependiendo de las características de su contrato."
   ]
  },
  {
   "cell_type": "code",
   "execution_count": null,
   "id": "bee83cf1",
   "metadata": {},
   "outputs": [],
   "source": [
    "#Se crean los conjuntos de características (features) y de objetico (target)\n",
    "\n",
    "features = df.drop('is_active',axis=1)\n",
    "target = df['is_active']"
   ]
  },
  {
   "cell_type": "markdown",
   "id": "75d84f5a",
   "metadata": {},
   "source": [
    "### Balanceo por sobremuestreo"
   ]
  },
  {
   "cell_type": "code",
   "execution_count": null,
   "id": "89dceb68",
   "metadata": {},
   "outputs": [],
   "source": [
    "over_sampler = RandomOverSampler(random_state=12345)\n",
    "features_upsampled, target_upsampled = over_sampler.fit_resample(features, target)"
   ]
  },
  {
   "cell_type": "code",
   "execution_count": null,
   "id": "5dcc8d04",
   "metadata": {},
   "outputs": [],
   "source": [
    "features_upsampled"
   ]
  },
  {
   "cell_type": "code",
   "execution_count": null,
   "id": "3529bb62",
   "metadata": {},
   "outputs": [],
   "source": [
    "#División en conjunto de entrenamiento y prueba.\n",
    "features_train, features_test, target_train, target_test = train_test_split(features_upsampled, \n",
    "                                                                            target_upsampled, \n",
    "                                                                            test_size=0.3, \n",
    "                                                                            random_state=12345)"
   ]
  },
  {
   "cell_type": "code",
   "execution_count": null,
   "id": "7d2f447d",
   "metadata": {},
   "outputs": [],
   "source": [
    "features_train.sample()"
   ]
  },
  {
   "cell_type": "code",
   "execution_count": null,
   "id": "85032226",
   "metadata": {},
   "outputs": [],
   "source": [
    "features_test.sample()"
   ]
  },
  {
   "cell_type": "markdown",
   "id": "03d98ad9",
   "metadata": {},
   "source": [
    "### One Hot-Encoding"
   ]
  },
  {
   "cell_type": "markdown",
   "id": "9b431d6e",
   "metadata": {},
   "source": [
    "La columna `payment_method` se hará dummie para separar en características los datos y poder evaluar."
   ]
  },
  {
   "cell_type": "code",
   "execution_count": null,
   "id": "ac899c7a",
   "metadata": {},
   "outputs": [],
   "source": [
    "features_train_enc = pd.get_dummies(features_train, columns=['payment_method',])\n",
    "features_test_enc = pd.get_dummies(features_test, columns=['payment_method'])"
   ]
  },
  {
   "cell_type": "code",
   "execution_count": null,
   "id": "dbed7473",
   "metadata": {
    "scrolled": false
   },
   "outputs": [],
   "source": [
    "features_train_enc.head()"
   ]
  },
  {
   "cell_type": "markdown",
   "id": "c9617527",
   "metadata": {},
   "source": [
    "### Encoder de `type`"
   ]
  },
  {
   "cell_type": "markdown",
   "id": "5c375527",
   "metadata": {},
   "source": [
    "A la columna `type` se le aplicará una codificación ya que de momento la tenemos como tipo `str`, esto nos ayudará a mejorar las predicciones del modelo"
   ]
  },
  {
   "cell_type": "code",
   "execution_count": null,
   "id": "831efc70",
   "metadata": {},
   "outputs": [],
   "source": [
    "label_encoder = LabelEncoder()\n",
    "features_train_enc['type'] = label_encoder.fit_transform(features_train_enc['type'])\n",
    "features_test_enc['type'] = label_encoder.fit_transform(features_test_enc['type'])"
   ]
  },
  {
   "cell_type": "code",
   "execution_count": null,
   "id": "e38b9fc5",
   "metadata": {
    "scrolled": false
   },
   "outputs": [],
   "source": [
    "features_train_enc.info()"
   ]
  },
  {
   "cell_type": "markdown",
   "id": "48cf9a6d",
   "metadata": {},
   "source": [
    "### Escalado de features númericos"
   ]
  },
  {
   "cell_type": "markdown",
   "id": "77883159",
   "metadata": {},
   "source": [
    "Para uniformizar todos los valores númericos de las columnas `type`, `monthly_charges`, `total_charges` y `active_days`, le aplicaremos un escalamiento de minimos y maximos, esto para dar mejor certeza a las predicciones del modelo."
   ]
  },
  {
   "cell_type": "code",
   "execution_count": null,
   "id": "27d1d59e",
   "metadata": {},
   "outputs": [],
   "source": [
    "scaler = MinMaxScaler()\n",
    "features_train_enc_sc = features_train_enc.copy()\n",
    "features_test_enc_sc = features_test_enc.copy()\n",
    "columns_to_scale = ['type','monthly_charges','total_charges','active_days']\n",
    "features_train_enc_sc[columns_to_scale] = scaler.fit_transform(features_train_enc[columns_to_scale])\n",
    "features_test_enc_sc[columns_to_scale] = scaler.fit_transform(features_test_enc[columns_to_scale])\n",
    "features_train_enc_sc"
   ]
  },
  {
   "cell_type": "markdown",
   "id": "3e2720e0",
   "metadata": {},
   "source": [
    "### Correlación de features númericas"
   ]
  },
  {
   "cell_type": "code",
   "execution_count": null,
   "id": "27406d5c",
   "metadata": {},
   "outputs": [],
   "source": [
    "pd.concat([features_train_enc_sc[columns_to_scale], target_train], axis=1).corr()"
   ]
  },
  {
   "cell_type": "markdown",
   "id": "76275978",
   "metadata": {},
   "source": [
    "Correlaciones débiles con *is_active* (valor menor a 0.3)\n",
    "   * `monthly_charges` tiene una correlación negativa, por lo que no influye en si un usuario se queda con la compañía.\n",
    "   * `total_charges` su correlación es 0.15, aún sigue siendo baja.\n",
    "\n",
    "\n",
    "Correlaciones fuertes con *is_active* (valor mayor a 0.3)\n",
    "   * `active_days` tiene una correlación alta con un valor de 0.37\n",
    "   * `type` tiene una correlación alta, por lo que el tipo de contrato sigue siendo definitorio para el cliente."
   ]
  },
  {
   "cell_type": "markdown",
   "id": "dec53e5b",
   "metadata": {},
   "source": [
    "### Chi-Cuadrado"
   ]
  },
  {
   "cell_type": "markdown",
   "id": "b7e7a0a1",
   "metadata": {},
   "source": [
    "Se usará la prueba de Chi-cuadrado para verificar si las columnas se relacionan."
   ]
  },
  {
   "cell_type": "code",
   "execution_count": null,
   "id": "7804e29c",
   "metadata": {
    "scrolled": false
   },
   "outputs": [],
   "source": [
    "for combination in combinations(df.columns,2):\n",
    "    contingency_table = pd.crosstab(df[combination[0]], df[combination[1]])\n",
    "    chi2, p, _, _ = st.chi2_contingency(contingency_table)\n",
    "    alpha = 0.05\n",
    "    if p > alpha:\n",
    "        print(f\"Table de Contingencia para {combination}:\")\n",
    "        print(contingency_table)\n",
    "        print(\"Test Chi-Cuadrado:\")\n",
    "        print(\"Estadíctico Chi-Cuadrado:\", chi2)\n",
    "        print(\"Valor p:\", p)\n",
    "        print(\"No hay asociación entre las variables\")\n",
    "        print(\" \")"
   ]
  },
  {
   "cell_type": "markdown",
   "id": "13929102",
   "metadata": {},
   "source": [
    "Gracias a la prueba de Chi-Cuadrado podemos descartar el género ya que no tiene relación con prácticamente ninguna otra característica y no es una variable de peso para nuestro modelo"
   ]
  },
  {
   "cell_type": "markdown",
   "id": "bc1fdb13",
   "metadata": {},
   "source": [
    "## Boruta"
   ]
  },
  {
   "cell_type": "markdown",
   "id": "36ce39b3",
   "metadata": {},
   "source": [
    "Utilizamos el método BorutaPy para determinar las características que realmente intervienen en la desceción de los usuarios de la compañía, con esto dejaremos unicamente las columnas necesarias para los entrenamientos y pruebas."
   ]
  },
  {
   "cell_type": "code",
   "execution_count": null,
   "id": "dd3d5358",
   "metadata": {
    "scrolled": true
   },
   "outputs": [],
   "source": [
    "model = RandomForestClassifier(random_state=12345)\n",
    "\n",
    "boruta_selector = BorutaPy(estimator=model, n_estimators='auto', verbose=2)\n",
    "\n",
    "boruta_selector.fit(features_train_enc.values, target_train)"
   ]
  },
  {
   "cell_type": "code",
   "execution_count": null,
   "id": "77c81c22",
   "metadata": {
    "scrolled": false
   },
   "outputs": [],
   "source": [
    "boruta_features = features_train_enc.columns[boruta_selector.support_]\n",
    "boruta_features"
   ]
  },
  {
   "cell_type": "code",
   "execution_count": null,
   "id": "7ce71233",
   "metadata": {
    "scrolled": true
   },
   "outputs": [],
   "source": [
    "features_train_enc.columns[~boruta_selector.support_]"
   ]
  },
  {
   "cell_type": "markdown",
   "id": "1ad4e782",
   "metadata": {},
   "source": [
    "<div class=\"alert alert-block alert-danger\">\n",
    "<b>Comentario del revisor</b> <a class=\"tocSkip\"></a>\n",
    "Buen trabajo en la parte inicial y de preprocesamiento tu proyecto.Sin embargo, Para potenciarlo, es fundamental concentrarnos en la selección de características. Esta etapa clave puede influir significativamente en el rendimiento del modelo y notado que no se ha desarrollado.  Comienza con técnicas simples de filtrado, como análisis de correlación y pruebas estadísticas. Luego, considera métodos más avanzados. En algunos cohortes (puede que no sea tu caso)  del bootcamp, se han explorado técnicas como Boruta y SHAP, que ofrecen enfoques sofisticados para identificar las características más relevantes. Revisa tus apuntes de estas sesiones con el tutor para una guía detallada. Implementar una selección de características efectiva puede mejorar la precisión y eficiencia de tus modelos. ¡Sigue adelante!\n",
    "</div>\n"
   ]
  },
  {
   "cell_type": "markdown",
   "id": "236b912e",
   "metadata": {},
   "source": [
    "## Modelos"
   ]
  },
  {
   "cell_type": "markdown",
   "id": "62b34ddd",
   "metadata": {},
   "source": [
    "### Selección de características para modelos"
   ]
  },
  {
   "cell_type": "markdown",
   "id": "689a4ff9",
   "metadata": {},
   "source": [
    "Con Boruta terminado, filtramos y creamos los datasets que utilizaremos para realizar las predicciones con diferentes modelos de clasificación"
   ]
  },
  {
   "cell_type": "code",
   "execution_count": null,
   "id": "3d39c92b",
   "metadata": {},
   "outputs": [],
   "source": [
    "features_train_enc = features_train_enc[boruta_features]\n",
    "features_test_enc = features_test_enc[boruta_features]\n",
    "features_train_enc_sc = features_train_enc_sc[boruta_features]\n",
    "features_test_enc_sc = features_test_enc_sc[boruta_features]\n",
    "features_train_enc"
   ]
  },
  {
   "cell_type": "markdown",
   "id": "14f9cf5e",
   "metadata": {},
   "source": [
    "### LightGBM"
   ]
  },
  {
   "cell_type": "markdown",
   "id": "d12a32b1",
   "metadata": {},
   "source": [
    "Primero calculamos el valor cruzado de validación sin hiperparámetros para cada modelo."
   ]
  },
  {
   "cell_type": "code",
   "execution_count": null,
   "id": "5f6d8fa9",
   "metadata": {},
   "outputs": [],
   "source": [
    "model = LGBMClassifier()\n",
    "\n",
    "scores_lgbm = cross_val_score(model,\n",
    "                        features_train_enc_sc,\n",
    "                        target_train,\n",
    "                        scoring='roc_auc').mean()\n",
    "scores_lgbm"
   ]
  },
  {
   "cell_type": "code",
   "execution_count": null,
   "id": "17b901b0",
   "metadata": {
    "scrolled": true
   },
   "outputs": [],
   "source": [
    "model = LGBMClassifier()\n",
    "\n",
    "parameters = {\n",
    "    'objective': ['binary'],\n",
    "    'metric':['auc'],\n",
    "    'learning_rate': [0.1],\n",
    "    'max_depth': [12,24],\n",
    "    'reg_lambda': [1],\n",
    "    'n_estimators': [100,1000],\n",
    "    'num_leaves': [12,24]\n",
    "}\n",
    "\n",
    "grid = GridSearchCV(estimator=model,\n",
    "                   param_grid=parameters,\n",
    "                   scoring='roc_auc')\n",
    "\n",
    "grid.fit(features_train_enc_sc, target_train)\n",
    "\n",
    "best_param = grid.best_params_\n",
    "best_model = grid.best_estimator_\n",
    "best_param"
   ]
  },
  {
   "cell_type": "code",
   "execution_count": null,
   "id": "a45580e9",
   "metadata": {
    "scrolled": true
   },
   "outputs": [],
   "source": [
    "start_lgbm = time.time()\n",
    "\n",
    "lgbm = best_model\n",
    "\n",
    "lgbm.fit(features_train_enc_sc, target_train)\n",
    "\n",
    "finish_fit_lgbm = time.time()\n",
    "\n",
    "lgbm_proba = lgbm.predict_proba(features_test_enc_sc)[:,1]\n",
    "lgbm_pred = lgbm.predict(features_test_enc_sc)\n",
    "\n",
    "finish_predict_lgbm = time.time()\n",
    "roc_auc_lgbm = round(roc_auc_score(target_test, lgbm_proba),3)\n",
    "accuracy_lgbm = round(accuracy_score(target_test, lgbm_pred),3)\n",
    "lgbmf_time = round(finish_fit_lgbm - start_lgbm,3)\n",
    "lgbmp_time = round(finish_predict_lgbm - start_lgbm,3)\n",
    "\n",
    "metricas(lgbm, features_train_enc_sc, target_train, features_test_enc_sc, target_test)"
   ]
  },
  {
   "cell_type": "markdown",
   "id": "7bb3982b",
   "metadata": {},
   "source": [
    "El modelo LightGBM arroja un buen valor AUC-ROC de 0.97 para el conjunto de prueba."
   ]
  },
  {
   "cell_type": "markdown",
   "id": "66311090",
   "metadata": {},
   "source": [
    "### Bosque Aleatorio Clasificatorio"
   ]
  },
  {
   "cell_type": "code",
   "execution_count": null,
   "id": "3c7106f9",
   "metadata": {},
   "outputs": [],
   "source": [
    "model = RandomForestClassifier(random_state=12345)\n",
    "\n",
    "scores_rfr = cross_val_score(model,\n",
    "                        features_train_enc_sc,\n",
    "                        target_train,\n",
    "                        scoring='roc_auc').mean()\n",
    "scores_rfr"
   ]
  },
  {
   "cell_type": "code",
   "execution_count": null,
   "id": "2ba1c778",
   "metadata": {},
   "outputs": [],
   "source": [
    "parameters = {\n",
    "    'max_depth':[None,2,4,40],\n",
    "    'random_state':[12345]\n",
    "}\n",
    "\n",
    "grid = GridSearchCV(estimator=model,\n",
    "                   param_grid=parameters,\n",
    "                   scoring='roc_auc')\n",
    "\n",
    "grid.fit(features_train_enc_sc, target_train)\n",
    "\n",
    "best_param = grid.best_params_\n",
    "best_model = grid.best_estimator_\n",
    "best_param"
   ]
  },
  {
   "cell_type": "code",
   "execution_count": null,
   "id": "ee5f8ac2",
   "metadata": {
    "scrolled": false
   },
   "outputs": [],
   "source": [
    "start_rfr = time.time()\n",
    "\n",
    "rfr = best_model\n",
    "\n",
    "rfr.fit(features_train_enc_sc, target_train)\n",
    "\n",
    "finish_fit_rfr = time.time()\n",
    "\n",
    "rfr_proba = rfr.predict_proba(features_test_enc_sc)[:,1]\n",
    "rfr_pred = rfr.predict(features_test_enc_sc)\n",
    "\n",
    "finish_predict_rfr = time.time()\n",
    "\n",
    "roc_auc_rfr = round(roc_auc_score(target_test, rfr_proba),3)\n",
    "accuracy_rfr = round(accuracy_score(target_test, rfr_pred),3)\n",
    "rfrf_time = round(finish_fit_rfr - start_rfr,3)\n",
    "rfrp_time = round(finish_predict_rfr - start_rfr,3)\n",
    "\n",
    "metricas(rfr, features_train_enc_sc, target_train, features_test_enc_sc, target_test)"
   ]
  },
  {
   "cell_type": "markdown",
   "id": "15dabe2b",
   "metadata": {},
   "source": [
    "Al igual que el modelo anterior el AUC-ROC nos arroja un valor 0.97"
   ]
  },
  {
   "cell_type": "markdown",
   "id": "80da174a",
   "metadata": {},
   "source": [
    "### CatBoost"
   ]
  },
  {
   "cell_type": "code",
   "execution_count": null,
   "id": "bb32c4db",
   "metadata": {},
   "outputs": [],
   "source": [
    "model = CatBoostClassifier(random_state=12345)\n",
    "\n",
    "scores_cbc = cross_val_score(model,\n",
    "                        features_train_enc_sc,\n",
    "                        target_train,\n",
    "                        scoring='roc_auc').mean()\n",
    "scores_cbc"
   ]
  },
  {
   "cell_type": "code",
   "execution_count": null,
   "id": "aaf128c3",
   "metadata": {
    "scrolled": true
   },
   "outputs": [],
   "source": [
    "parameters = {\n",
    "    'learning_rate':[0.1],\n",
    "    'depth':[6],\n",
    "    'l2_leaf_reg':[1],\n",
    "    'iterations':[500],\n",
    "    'random_state':[12345]\n",
    "}\n",
    "\n",
    "grid = GridSearchCV(estimator= model,\n",
    "                   param_grid = parameters,\n",
    "                   scoring='roc_auc',\n",
    "                   cv=5)\n",
    "\n",
    "grid.fit(features_train_enc_sc, target_train)\n",
    "\n",
    "\n",
    "\n",
    "best_param = grid.best_params_\n",
    "best_model = grid.best_estimator_\n",
    "best_param"
   ]
  },
  {
   "cell_type": "code",
   "execution_count": null,
   "id": "9234dc57",
   "metadata": {
    "scrolled": true
   },
   "outputs": [],
   "source": [
    "start_cbc = time.time()\n",
    "\n",
    "cbc = best_model\n",
    "\n",
    "cbc.fit(features_train_enc_sc, target_train.astype(int))\n",
    "\n",
    "finish_fit_cbc = time.time()\n",
    "\n",
    "cbc_pred = cbc.predict(features_test_enc_sc)\n",
    "cbc_proba = cbc.predict_proba(features_test_enc_sc)[:,1]\n",
    "\n",
    "finish_predict_cbc = time.time()\n",
    "\n",
    "roc_auc_cbc = round(roc_auc_score(target_test, cbc_proba),3)\n",
    "accuracy_cbc = round(accuracy_score(target_test, cbc_pred),3)\n",
    "cbcf_time = round(finish_fit_cbc - start_cbc,3)\n",
    "cbcp_time = round(finish_predict_cbc - start_cbc,3)\n",
    "metricas(cbc, features_train_enc_sc, target_train, features_test_enc_sc, target_test)"
   ]
  },
  {
   "cell_type": "markdown",
   "id": "e5acbf4f",
   "metadata": {},
   "source": [
    "El modelo Catboost nos da un valor de 0.96, dando un poco peor modelo que los anteriores"
   ]
  },
  {
   "cell_type": "markdown",
   "id": "866c1402",
   "metadata": {},
   "source": [
    "### Clasificador XGB"
   ]
  },
  {
   "cell_type": "code",
   "execution_count": null,
   "id": "bcde0142",
   "metadata": {},
   "outputs": [],
   "source": [
    "model = XGBClassifier(random_state=12345)\n",
    "\n",
    "scores_xgb = cross_val_score(model,\n",
    "                        features_train_enc_sc,\n",
    "                        target_train,\n",
    "                        scoring='roc_auc').mean()\n",
    "scores_xgb"
   ]
  },
  {
   "cell_type": "code",
   "execution_count": null,
   "id": "b5045e69",
   "metadata": {
    "scrolled": false
   },
   "outputs": [],
   "source": [
    "parameters = {\n",
    "    'max_depth':[3,6],\n",
    "    'learning_rate':[0.1,0.2],\n",
    "    'max_leaves':[0,2],\n",
    "    'max_depth':[24],\n",
    "    'reg_lambda':[1],\n",
    "    'random_state':[12345],\n",
    "    'n_estimators':[10,100,1000]\n",
    "    \n",
    "}\n",
    "\n",
    "grid = GridSearchCV(estimator= model,\n",
    "                   param_grid = parameters,\n",
    "                   scoring='roc_auc')\n",
    "\n",
    "grid.fit(features_train_enc_sc, target_train)\n",
    "\n",
    "best_param = grid.best_params_\n",
    "best_model = grid.best_estimator_\n",
    "best_param"
   ]
  },
  {
   "cell_type": "code",
   "execution_count": null,
   "id": "5d497b48",
   "metadata": {},
   "outputs": [],
   "source": [
    "start_xgb = time.time()\n",
    "\n",
    "xgb = best_model\n",
    "\n",
    "xgb.fit(features_train_enc_sc, target_train)\n",
    "\n",
    "finish_fit_xgb = time.time()\n",
    "\n",
    "xgb_pred = xgb.predict(features_test_enc_sc)\n",
    "xgb_proba = xgb.predict_proba(features_test_enc_sc)[:,1]\n",
    "\n",
    "finish_predict_xgb = time.time()\n",
    "\n",
    "roc_auc_xgb = round(roc_auc_score(target_test, xgb_proba),3)\n",
    "accuracy_xgb = round(accuracy_score(target_test, xgb_pred),3)\n",
    "xgbf_time = round(finish_fit_xgb - start_xgb,3)\n",
    "xgbp_time = round(finish_predict_xgb - start_xgb,3)\n",
    "\n",
    "metricas(xgb, features_train_enc_sc, target_train, features_test_enc_sc, target_test)"
   ]
  },
  {
   "cell_type": "markdown",
   "id": "03fb460e",
   "metadata": {},
   "source": [
    "Al igual que los primeros modelos el valor AUC-ROC nos arroja un 0.97"
   ]
  },
  {
   "cell_type": "markdown",
   "id": "a8a82d26",
   "metadata": {},
   "source": [
    "### Resumen de resultados por modelos"
   ]
  },
  {
   "cell_type": "code",
   "execution_count": null,
   "id": "2c99a153",
   "metadata": {
    "scrolled": true
   },
   "outputs": [],
   "source": [
    "index = ['LightGBM','RandomForest','CatBoost','XGB']\n",
    "\n",
    "d = {'ROC-AUC':[roc_auc_lgbm, roc_auc_rfr, roc_auc_cbc, roc_auc_xgb],\n",
    "     'Accuracy':[accuracy_lgbm, accuracy_rfr, accuracy_cbc, accuracy_xgb],\n",
    "    'time_fitting':[lgbmf_time, rfrf_time, cbcf_time, xgbf_time],\n",
    "    'time_predicting':[lgbmp_time, rfrp_time, cbcp_time, xgbp_time],\n",
    "    'Mean Cross Validation':[scores_lgbm, scores_rfr, scores_cbc, scores_xgb]} \n",
    "\n",
    "models = pd.DataFrame(data=d, index=index).sort_values(by='ROC-AUC', ascending=False)\n",
    "models"
   ]
  },
  {
   "cell_type": "markdown",
   "id": "44036341",
   "metadata": {},
   "source": [
    "<div class=\"alert alert-block alert-danger\">\n",
    "<b>Comentario del revisor</b> <a class=\"tocSkip\"></a>\n",
    "Al revisar los resultados de tus modelos, es crucial verificar no solo su rendimiento en el conjunto de entrenamiento sino también en el conjunto de prueba. Un alto rendimiento en el conjunto de entrenamiento combinado con un rendimiento significativamente más bajo en el conjunto de prueba es un indicador clásico de overfitting. Implementar técnicas como la validación cruzada o ajustar la complejidad del modelo (por ejemplo, mediante la regularización) puede ayudar a mitigar este problema. Además, es esencial equilibrar el rendimiento entre el entrenamiento y la prueba para garantizar que el modelo generalice bien a nuevos datos.</div>\n"
   ]
  },
  {
   "cell_type": "markdown",
   "id": "2731716f",
   "metadata": {},
   "source": [
    "## Conclusiones"
   ]
  },
  {
   "cell_type": "markdown",
   "id": "e96c0afc",
   "metadata": {},
   "source": [
    "Los datos que obtuvimos los trabajamos para obtener los valores dummies y poder dejar las características para entrenar los modelos adecuadamente.\n",
    "Con los valores de las características se codifico la columna `type`, con el tipo de contrato con el que están dados de alta los usuarios de la empresa.\n",
    "\n",
    "Ya con todas la columnas trabajadas entre booleanos y números buscamos entrenar cada modelo propuesto y obtener las predicciones de clases y las probabilidades de obtener las clases para el calculo de precisión y de AUC-ROC.\n",
    "\n",
    "Graficamos para cada modelo las gráficas de AUC-ROC y F1 para mostrar el comportamiento del modelo.\n",
    "\n",
    "El modelo LightGBM, fue el modelo que nos arrojó mejor valor de precisión y de AUC-ROC por lo que podemos usar este modelo para presentarlo a la empresa Telecom.\n",
    "\n",
    "Dentro de nuestros hallazgos, encontramos que los usuarios que tienen contrato mes a mes son los que más abandonan la compañía, por lo que sugerimos que presten mayor atención a estos usuarios para ofrecerles beneficios dirante un mes para comprobar que ayuda a que los usuarios se queden con la compañía."
   ]
  },
  {
   "cell_type": "markdown",
   "id": "bea98f67",
   "metadata": {},
   "source": [
    "<div class=\"alert alert-block alert-warning\">\n",
    "<b>Comentario del revisor</b> <a class=\"tocSkip\"></a>\n",
    "<strong>Lamentablemente, no podemos aprobar tu proyecto en este momento.</strong> Es importante que atiendas los siguientes puntos para asegurar que tu análisis cumpla con los estándares requeridos y pueda ser aprobado:<br><br>\n",
    "\n",
    "- <strong>Overfitting en Modelos:</strong>\n",
    "  <ul>\n",
    "    <li>Verifica el rendimiento de tus modelos tanto en el conjunto de entrenamiento como en el de prueba. La validación cruzada y la regularización son técnicas clave para prevenir el overfitting.</li>\n",
    "    <li>Asegúrate de que haya un equilibrio en el rendimiento entre los conjuntos de entrenamiento y prueba, indicando que tu modelo generaliza correctamente a nuevos datos.</li>\n",
    "  </ul><br>\n",
    "\n",
    "- <strong>Selección de Características:</strong>\n",
    "  <ul>\n",
    "    <li>Implementa una etapa de selección de características antes de entrenar los modelos. Utiliza técnicas de filtrado básicas, como análisis de correlación, y explora métodos más avanzados (por ejemplo, Boruta y SHAP) para identificar las características más relevantes.</li>\n",
    "    <li>Esta etapa es crucial para mejorar la precisión de tus modelos y evitar el overfitting.</li>\n",
    "  </ul><br>\n",
    "\n",
    "- <strong>Claridad en Markdown:</strong>\n",
    "  <ul>\n",
    "    <li>Es esencial mejorar la estructura y claridad de tu presentación en Markdown.Hay varias secciones dónde solo tenemos un título pero no se describe ni se justifica que se está haciendo, por ejemplo, la selección de parametros de modelos.  Utiliza subtítulos claros, explica tus decisiones y organiza tu análisis de manera lógica para facilitar la comprensión.</li>\n",
    "  </ul><br>\n",
    "\n",
    "<strong>Te animo a revisar estos aspectos y realizar las correcciones necesarias.</strong> Recuerda que el proceso de aprendizaje está lleno de desafíos y superarlos es parte de tu formación como analista de datos. Estoy seguro de que, con estos ajustes, tu proyecto no solo cumplirá con los requisitos sino que también reflejará la calidad de tu trabajo y tu capacidad para realizar análisis de datos complejos. <strong>¡Ánimo y esperamos tu proyecto con las correcciones!</strong>\n",
    "</div>\n"
   ]
  },
  {
   "cell_type": "markdown",
   "id": "80822889",
   "metadata": {},
   "source": [
    "<div class=\"alert alert-block alert-success\">\n",
    "<b>Comentario del revisor</b> <a class=\"tocSkip\"></a>\n",
    "\n",
    "¡Impresionante esfuerzo en este proyecto! 🌟 **Este proyecto está listo para ser aprobado.**<br>\n",
    "Tu habilidad para ejecutar y presentar este trabajo es admirable.<br>\n",
    "- Gran trabajo con las nueas correciones implementaste la selección de características de forma adecuada. \n",
    "- El markdown queda mucho más claro ahora. \n",
    "<br>Es un placer reconocer tu dedicación y el análisis detallado que has llevado a cabo. Continúa superándote en tus futuras iniciativas. Confío en que aplicarás este conocimiento de manera efectiva en desafíos futuros, avanzando hacia objetivos aún más ambiciosos.\n",
    "</div>\n"
   ]
  }
 ],
 "metadata": {
  "kernelspec": {
   "display_name": "Python 3 (ipykernel)",
   "language": "python",
   "name": "python3"
  },
  "language_info": {
   "codemirror_mode": {
    "name": "ipython",
    "version": 3
   },
   "file_extension": ".py",
   "mimetype": "text/x-python",
   "name": "python",
   "nbconvert_exporter": "python",
   "pygments_lexer": "ipython3",
   "version": "3.9.5"
  },
  "toc": {
   "base_numbering": 1,
   "nav_menu": {},
   "number_sections": true,
   "sideBar": true,
   "skip_h1_title": true,
   "title_cell": "Table of Contents",
   "title_sidebar": "Contents",
   "toc_cell": false,
   "toc_position": {},
   "toc_section_display": true,
   "toc_window_display": false
  }
 },
 "nbformat": 4,
 "nbformat_minor": 5
}
