{
 "cells": [
  {
   "cell_type": "markdown",
   "metadata": {},
   "source": [
    " # Contenido\n",
    "\n",
    "* [Introducción](#intro)\n",
    "    * [Inicialización](#inicio)\n",
    "        * [Cargar los datos](#charge)\n",
    "        * [Preprocesamiento de datos](#datasets)\n",
    "* [Preparación datos para entrenamiento](#preparation)\n",
    "    * [One-Hot](#ohe)\n",
    "    * [Escala estándar](#scalar)\n",
    "* [Modelo Árbol de decisión](#tree)\n",
    "    * [Validación de Modelo](#validation)\n",
    "        * [Exactitud](#exact)\n",
    "        * [Prueba de Cordura](#cord)\n",
    "        * [Matriz de Confusión](#confusion)\n",
    "        * [Recall](#recall)\n",
    "        * [Precisión](#precision)\n",
    "        * [Valor F1](#f1)\n",
    "     * [Mejorar de modelo](#mejor)\n",
    "        * [Mejor Hiperpárametro max_depth](#max_depth)\n",
    "        * [Balance de clases](#balance)\n",
    "        * [Sobremuestreo](#upsample)\n",
    "        * [Submuestreo](#downsample)\n",
    "* [Bosque aleatorio](#tree)\n",
    "    * [Validación de Modelo](#validation)\n",
    "        * [Exactitud](#exact)\n",
    "        * [Prueba de Cordura](#cord)\n",
    "        * [Matriz de Confusión](#confusion)\n",
    "        * [Recall](#recall)\n",
    "        * [Precisión](#precision)\n",
    "        * [Valor F1](#f1)\n",
    "     * [Mejorar de modelo](#mejor)\n",
    "        * [Mejor Hiperpárametro max_depth](#max_depth)\n",
    "        * [Balance de clases](#balance)\n",
    "        * [Sobremuestreo](#upsample)\n",
    "        * [Submuestreo](#downsample)\n",
    "* [Regresión Logística](#tree)\n",
    "    * [Validación de Modelo](#validation)\n",
    "        * [Exactitud](#exact)\n",
    "        * [Prueba de Cordura](#cord)\n",
    "        * [Matriz de Confusión](#confusion)\n",
    "        * [Recall](#recall)\n",
    "    * [Mejorar de modelo](#mejor)\n",
    "        * [Balance de clases](#balance)\n",
    "    * [Umbral de clasificación](#umbral)\n",
    "    * [Curva ROC](#roc)\n",
    "* [Conclusión](#conclusion)"
   ]
  },
  {
   "cell_type": "markdown",
   "metadata": {},
   "source": [
    "## Introducción <a id='intro'></a>"
   ]
  },
  {
   "cell_type": "markdown",
   "metadata": {},
   "source": [
    "Los clientes de Beta Bank se están yendo cada mes, por lo que quieren predecir si un cliente dejará el banco pronto, esto con el objetivo de buscar las estrategias de mantener a los clientes actuales en lugar de buscar nuevos."
   ]
  },
  {
   "cell_type": "markdown",
   "metadata": {},
   "source": [
    "### Inicialización <a id='inicio'></a>\n",
    "\n",
    "Se cargan las librerias a usar en el desarrollo de este producto."
   ]
  },
  {
   "cell_type": "code",
   "execution_count": 1,
   "metadata": {},
   "outputs": [],
   "source": [
    "import pandas as pd\n",
    "import numpy as np\n",
    "import matplotlib.pyplot as plt\n",
    "from sklearn.tree import DecisionTreeClassifier\n",
    "from sklearn.ensemble import RandomForestClassifier\n",
    "from sklearn.linear_model import LogisticRegression\n",
    "from sklearn.metrics import accuracy_score\n",
    "from sklearn.model_selection import train_test_split\n",
    "from sklearn.preprocessing import OrdinalEncoder\n",
    "from sklearn.preprocessing import StandardScaler\n",
    "from sklearn.metrics import confusion_matrix\n",
    "from sklearn.metrics import recall_score\n",
    "from sklearn.metrics import precision_score\n",
    "from sklearn.metrics import f1_score\n",
    "from sklearn.metrics import r2_score\n",
    "from sklearn.metrics import mean_absolute_error\n",
    "from sklearn.metrics import roc_curve\n",
    "from sklearn.metrics import roc_auc_score\n",
    "from sklearn.metrics import precision_recall_curve\n",
    "from sklearn.metrics import roc_curve\n",
    "from sklearn.utils import shuffle\n",
    "from sklearn.model_selection import GridSearchCV\n",
    "import warnings"
   ]
  },
  {
   "cell_type": "code",
   "execution_count": 2,
   "metadata": {},
   "outputs": [],
   "source": [
    "warnings.simplefilter('ignore')"
   ]
  },
  {
   "cell_type": "markdown",
   "metadata": {},
   "source": [
    "#### Cargar los datos <a id='charge'></a>"
   ]
  },
  {
   "cell_type": "code",
   "execution_count": 3,
   "metadata": {},
   "outputs": [],
   "source": [
    "try:\n",
    "    data = pd.read_csv('Churn.csv')\n",
    "except:\n",
    "    data = pd.read_csv('/datasets/Churn.csv')"
   ]
  },
  {
   "cell_type": "code",
   "execution_count": 4,
   "metadata": {},
   "outputs": [
    {
     "data": {
      "text/html": [
       "<div>\n",
       "<style scoped>\n",
       "    .dataframe tbody tr th:only-of-type {\n",
       "        vertical-align: middle;\n",
       "    }\n",
       "\n",
       "    .dataframe tbody tr th {\n",
       "        vertical-align: top;\n",
       "    }\n",
       "\n",
       "    .dataframe thead th {\n",
       "        text-align: right;\n",
       "    }\n",
       "</style>\n",
       "<table border=\"1\" class=\"dataframe\">\n",
       "  <thead>\n",
       "    <tr style=\"text-align: right;\">\n",
       "      <th></th>\n",
       "      <th>RowNumber</th>\n",
       "      <th>CustomerId</th>\n",
       "      <th>CreditScore</th>\n",
       "      <th>Age</th>\n",
       "      <th>Tenure</th>\n",
       "      <th>Balance</th>\n",
       "      <th>NumOfProducts</th>\n",
       "      <th>HasCrCard</th>\n",
       "      <th>IsActiveMember</th>\n",
       "      <th>EstimatedSalary</th>\n",
       "      <th>Exited</th>\n",
       "    </tr>\n",
       "  </thead>\n",
       "  <tbody>\n",
       "    <tr>\n",
       "      <th>count</th>\n",
       "      <td>10000.00000</td>\n",
       "      <td>1.000000e+04</td>\n",
       "      <td>10000.000000</td>\n",
       "      <td>10000.000000</td>\n",
       "      <td>9091.000000</td>\n",
       "      <td>10000.000000</td>\n",
       "      <td>10000.000000</td>\n",
       "      <td>10000.00000</td>\n",
       "      <td>10000.000000</td>\n",
       "      <td>10000.000000</td>\n",
       "      <td>10000.000000</td>\n",
       "    </tr>\n",
       "    <tr>\n",
       "      <th>mean</th>\n",
       "      <td>5000.50000</td>\n",
       "      <td>1.569094e+07</td>\n",
       "      <td>650.528800</td>\n",
       "      <td>38.921800</td>\n",
       "      <td>4.997690</td>\n",
       "      <td>76485.889288</td>\n",
       "      <td>1.530200</td>\n",
       "      <td>0.70550</td>\n",
       "      <td>0.515100</td>\n",
       "      <td>100090.239881</td>\n",
       "      <td>0.203700</td>\n",
       "    </tr>\n",
       "    <tr>\n",
       "      <th>std</th>\n",
       "      <td>2886.89568</td>\n",
       "      <td>7.193619e+04</td>\n",
       "      <td>96.653299</td>\n",
       "      <td>10.487806</td>\n",
       "      <td>2.894723</td>\n",
       "      <td>62397.405202</td>\n",
       "      <td>0.581654</td>\n",
       "      <td>0.45584</td>\n",
       "      <td>0.499797</td>\n",
       "      <td>57510.492818</td>\n",
       "      <td>0.402769</td>\n",
       "    </tr>\n",
       "    <tr>\n",
       "      <th>min</th>\n",
       "      <td>1.00000</td>\n",
       "      <td>1.556570e+07</td>\n",
       "      <td>350.000000</td>\n",
       "      <td>18.000000</td>\n",
       "      <td>0.000000</td>\n",
       "      <td>0.000000</td>\n",
       "      <td>1.000000</td>\n",
       "      <td>0.00000</td>\n",
       "      <td>0.000000</td>\n",
       "      <td>11.580000</td>\n",
       "      <td>0.000000</td>\n",
       "    </tr>\n",
       "    <tr>\n",
       "      <th>25%</th>\n",
       "      <td>2500.75000</td>\n",
       "      <td>1.562853e+07</td>\n",
       "      <td>584.000000</td>\n",
       "      <td>32.000000</td>\n",
       "      <td>2.000000</td>\n",
       "      <td>0.000000</td>\n",
       "      <td>1.000000</td>\n",
       "      <td>0.00000</td>\n",
       "      <td>0.000000</td>\n",
       "      <td>51002.110000</td>\n",
       "      <td>0.000000</td>\n",
       "    </tr>\n",
       "    <tr>\n",
       "      <th>50%</th>\n",
       "      <td>5000.50000</td>\n",
       "      <td>1.569074e+07</td>\n",
       "      <td>652.000000</td>\n",
       "      <td>37.000000</td>\n",
       "      <td>5.000000</td>\n",
       "      <td>97198.540000</td>\n",
       "      <td>1.000000</td>\n",
       "      <td>1.00000</td>\n",
       "      <td>1.000000</td>\n",
       "      <td>100193.915000</td>\n",
       "      <td>0.000000</td>\n",
       "    </tr>\n",
       "    <tr>\n",
       "      <th>75%</th>\n",
       "      <td>7500.25000</td>\n",
       "      <td>1.575323e+07</td>\n",
       "      <td>718.000000</td>\n",
       "      <td>44.000000</td>\n",
       "      <td>7.000000</td>\n",
       "      <td>127644.240000</td>\n",
       "      <td>2.000000</td>\n",
       "      <td>1.00000</td>\n",
       "      <td>1.000000</td>\n",
       "      <td>149388.247500</td>\n",
       "      <td>0.000000</td>\n",
       "    </tr>\n",
       "    <tr>\n",
       "      <th>max</th>\n",
       "      <td>10000.00000</td>\n",
       "      <td>1.581569e+07</td>\n",
       "      <td>850.000000</td>\n",
       "      <td>92.000000</td>\n",
       "      <td>10.000000</td>\n",
       "      <td>250898.090000</td>\n",
       "      <td>4.000000</td>\n",
       "      <td>1.00000</td>\n",
       "      <td>1.000000</td>\n",
       "      <td>199992.480000</td>\n",
       "      <td>1.000000</td>\n",
       "    </tr>\n",
       "  </tbody>\n",
       "</table>\n",
       "</div>"
      ],
      "text/plain": [
       "         RowNumber    CustomerId   CreditScore           Age       Tenure  \\\n",
       "count  10000.00000  1.000000e+04  10000.000000  10000.000000  9091.000000   \n",
       "mean    5000.50000  1.569094e+07    650.528800     38.921800     4.997690   \n",
       "std     2886.89568  7.193619e+04     96.653299     10.487806     2.894723   \n",
       "min        1.00000  1.556570e+07    350.000000     18.000000     0.000000   \n",
       "25%     2500.75000  1.562853e+07    584.000000     32.000000     2.000000   \n",
       "50%     5000.50000  1.569074e+07    652.000000     37.000000     5.000000   \n",
       "75%     7500.25000  1.575323e+07    718.000000     44.000000     7.000000   \n",
       "max    10000.00000  1.581569e+07    850.000000     92.000000    10.000000   \n",
       "\n",
       "             Balance  NumOfProducts    HasCrCard  IsActiveMember  \\\n",
       "count   10000.000000   10000.000000  10000.00000    10000.000000   \n",
       "mean    76485.889288       1.530200      0.70550        0.515100   \n",
       "std     62397.405202       0.581654      0.45584        0.499797   \n",
       "min         0.000000       1.000000      0.00000        0.000000   \n",
       "25%         0.000000       1.000000      0.00000        0.000000   \n",
       "50%     97198.540000       1.000000      1.00000        1.000000   \n",
       "75%    127644.240000       2.000000      1.00000        1.000000   \n",
       "max    250898.090000       4.000000      1.00000        1.000000   \n",
       "\n",
       "       EstimatedSalary        Exited  \n",
       "count     10000.000000  10000.000000  \n",
       "mean     100090.239881      0.203700  \n",
       "std       57510.492818      0.402769  \n",
       "min          11.580000      0.000000  \n",
       "25%       51002.110000      0.000000  \n",
       "50%      100193.915000      0.000000  \n",
       "75%      149388.247500      0.000000  \n",
       "max      199992.480000      1.000000  "
      ]
     },
     "execution_count": 4,
     "metadata": {},
     "output_type": "execute_result"
    }
   ],
   "source": [
    "data.describe()"
   ]
  },
  {
   "cell_type": "code",
   "execution_count": 5,
   "metadata": {},
   "outputs": [
    {
     "name": "stdout",
     "output_type": "stream",
     "text": [
      "<class 'pandas.core.frame.DataFrame'>\n",
      "RangeIndex: 10000 entries, 0 to 9999\n",
      "Data columns (total 14 columns):\n",
      " #   Column           Non-Null Count  Dtype  \n",
      "---  ------           --------------  -----  \n",
      " 0   RowNumber        10000 non-null  int64  \n",
      " 1   CustomerId       10000 non-null  int64  \n",
      " 2   Surname          10000 non-null  object \n",
      " 3   CreditScore      10000 non-null  int64  \n",
      " 4   Geography        10000 non-null  object \n",
      " 5   Gender           10000 non-null  object \n",
      " 6   Age              10000 non-null  int64  \n",
      " 7   Tenure           9091 non-null   float64\n",
      " 8   Balance          10000 non-null  float64\n",
      " 9   NumOfProducts    10000 non-null  int64  \n",
      " 10  HasCrCard        10000 non-null  int64  \n",
      " 11  IsActiveMember   10000 non-null  int64  \n",
      " 12  EstimatedSalary  10000 non-null  float64\n",
      " 13  Exited           10000 non-null  int64  \n",
      "dtypes: float64(3), int64(8), object(3)\n",
      "memory usage: 1.1+ MB\n"
     ]
    }
   ],
   "source": [
    "data.info()"
   ]
  },
  {
   "cell_type": "markdown",
   "metadata": {},
   "source": [
    "#### Preprocesamiento de datos <a id='datasets'></a>"
   ]
  },
  {
   "cell_type": "markdown",
   "metadata": {},
   "source": [
    "La columna `Tenure` contiene datos ausente, se buscará como rellenar esos datos o si es posible eliminarlos."
   ]
  },
  {
   "cell_type": "code",
   "execution_count": 6,
   "metadata": {
    "scrolled": true
   },
   "outputs": [
    {
     "data": {
      "text/html": [
       "<div>\n",
       "<style scoped>\n",
       "    .dataframe tbody tr th:only-of-type {\n",
       "        vertical-align: middle;\n",
       "    }\n",
       "\n",
       "    .dataframe tbody tr th {\n",
       "        vertical-align: top;\n",
       "    }\n",
       "\n",
       "    .dataframe thead th {\n",
       "        text-align: right;\n",
       "    }\n",
       "</style>\n",
       "<table border=\"1\" class=\"dataframe\">\n",
       "  <thead>\n",
       "    <tr style=\"text-align: right;\">\n",
       "      <th></th>\n",
       "      <th>RowNumber</th>\n",
       "      <th>CustomerId</th>\n",
       "      <th>Surname</th>\n",
       "      <th>CreditScore</th>\n",
       "      <th>Geography</th>\n",
       "      <th>Gender</th>\n",
       "      <th>Age</th>\n",
       "      <th>Tenure</th>\n",
       "      <th>Balance</th>\n",
       "      <th>NumOfProducts</th>\n",
       "      <th>HasCrCard</th>\n",
       "      <th>IsActiveMember</th>\n",
       "      <th>EstimatedSalary</th>\n",
       "      <th>Exited</th>\n",
       "    </tr>\n",
       "  </thead>\n",
       "  <tbody>\n",
       "    <tr>\n",
       "      <th>30</th>\n",
       "      <td>31</td>\n",
       "      <td>15589475</td>\n",
       "      <td>Azikiwe</td>\n",
       "      <td>591</td>\n",
       "      <td>Spain</td>\n",
       "      <td>Female</td>\n",
       "      <td>39</td>\n",
       "      <td>NaN</td>\n",
       "      <td>0.00</td>\n",
       "      <td>3</td>\n",
       "      <td>1</td>\n",
       "      <td>0</td>\n",
       "      <td>140469.38</td>\n",
       "      <td>1</td>\n",
       "    </tr>\n",
       "    <tr>\n",
       "      <th>48</th>\n",
       "      <td>49</td>\n",
       "      <td>15766205</td>\n",
       "      <td>Yin</td>\n",
       "      <td>550</td>\n",
       "      <td>Germany</td>\n",
       "      <td>Male</td>\n",
       "      <td>38</td>\n",
       "      <td>NaN</td>\n",
       "      <td>103391.38</td>\n",
       "      <td>1</td>\n",
       "      <td>0</td>\n",
       "      <td>1</td>\n",
       "      <td>90878.13</td>\n",
       "      <td>0</td>\n",
       "    </tr>\n",
       "    <tr>\n",
       "      <th>51</th>\n",
       "      <td>52</td>\n",
       "      <td>15768193</td>\n",
       "      <td>Trevisani</td>\n",
       "      <td>585</td>\n",
       "      <td>Germany</td>\n",
       "      <td>Male</td>\n",
       "      <td>36</td>\n",
       "      <td>NaN</td>\n",
       "      <td>146050.97</td>\n",
       "      <td>2</td>\n",
       "      <td>0</td>\n",
       "      <td>0</td>\n",
       "      <td>86424.57</td>\n",
       "      <td>0</td>\n",
       "    </tr>\n",
       "    <tr>\n",
       "      <th>53</th>\n",
       "      <td>54</td>\n",
       "      <td>15702298</td>\n",
       "      <td>Parkhill</td>\n",
       "      <td>655</td>\n",
       "      <td>Germany</td>\n",
       "      <td>Male</td>\n",
       "      <td>41</td>\n",
       "      <td>NaN</td>\n",
       "      <td>125561.97</td>\n",
       "      <td>1</td>\n",
       "      <td>0</td>\n",
       "      <td>0</td>\n",
       "      <td>164040.94</td>\n",
       "      <td>1</td>\n",
       "    </tr>\n",
       "    <tr>\n",
       "      <th>60</th>\n",
       "      <td>61</td>\n",
       "      <td>15651280</td>\n",
       "      <td>Hunter</td>\n",
       "      <td>742</td>\n",
       "      <td>Germany</td>\n",
       "      <td>Male</td>\n",
       "      <td>35</td>\n",
       "      <td>NaN</td>\n",
       "      <td>136857.00</td>\n",
       "      <td>1</td>\n",
       "      <td>0</td>\n",
       "      <td>0</td>\n",
       "      <td>84509.57</td>\n",
       "      <td>0</td>\n",
       "    </tr>\n",
       "    <tr>\n",
       "      <th>...</th>\n",
       "      <td>...</td>\n",
       "      <td>...</td>\n",
       "      <td>...</td>\n",
       "      <td>...</td>\n",
       "      <td>...</td>\n",
       "      <td>...</td>\n",
       "      <td>...</td>\n",
       "      <td>...</td>\n",
       "      <td>...</td>\n",
       "      <td>...</td>\n",
       "      <td>...</td>\n",
       "      <td>...</td>\n",
       "      <td>...</td>\n",
       "      <td>...</td>\n",
       "    </tr>\n",
       "    <tr>\n",
       "      <th>9944</th>\n",
       "      <td>9945</td>\n",
       "      <td>15703923</td>\n",
       "      <td>Cameron</td>\n",
       "      <td>744</td>\n",
       "      <td>Germany</td>\n",
       "      <td>Male</td>\n",
       "      <td>41</td>\n",
       "      <td>NaN</td>\n",
       "      <td>190409.34</td>\n",
       "      <td>2</td>\n",
       "      <td>1</td>\n",
       "      <td>1</td>\n",
       "      <td>138361.48</td>\n",
       "      <td>0</td>\n",
       "    </tr>\n",
       "    <tr>\n",
       "      <th>9956</th>\n",
       "      <td>9957</td>\n",
       "      <td>15707861</td>\n",
       "      <td>Nucci</td>\n",
       "      <td>520</td>\n",
       "      <td>France</td>\n",
       "      <td>Female</td>\n",
       "      <td>46</td>\n",
       "      <td>NaN</td>\n",
       "      <td>85216.61</td>\n",
       "      <td>1</td>\n",
       "      <td>1</td>\n",
       "      <td>0</td>\n",
       "      <td>117369.52</td>\n",
       "      <td>1</td>\n",
       "    </tr>\n",
       "    <tr>\n",
       "      <th>9964</th>\n",
       "      <td>9965</td>\n",
       "      <td>15642785</td>\n",
       "      <td>Douglas</td>\n",
       "      <td>479</td>\n",
       "      <td>France</td>\n",
       "      <td>Male</td>\n",
       "      <td>34</td>\n",
       "      <td>NaN</td>\n",
       "      <td>117593.48</td>\n",
       "      <td>2</td>\n",
       "      <td>0</td>\n",
       "      <td>0</td>\n",
       "      <td>113308.29</td>\n",
       "      <td>0</td>\n",
       "    </tr>\n",
       "    <tr>\n",
       "      <th>9985</th>\n",
       "      <td>9986</td>\n",
       "      <td>15586914</td>\n",
       "      <td>Nepean</td>\n",
       "      <td>659</td>\n",
       "      <td>France</td>\n",
       "      <td>Male</td>\n",
       "      <td>36</td>\n",
       "      <td>NaN</td>\n",
       "      <td>123841.49</td>\n",
       "      <td>2</td>\n",
       "      <td>1</td>\n",
       "      <td>0</td>\n",
       "      <td>96833.00</td>\n",
       "      <td>0</td>\n",
       "    </tr>\n",
       "    <tr>\n",
       "      <th>9999</th>\n",
       "      <td>10000</td>\n",
       "      <td>15628319</td>\n",
       "      <td>Walker</td>\n",
       "      <td>792</td>\n",
       "      <td>France</td>\n",
       "      <td>Female</td>\n",
       "      <td>28</td>\n",
       "      <td>NaN</td>\n",
       "      <td>130142.79</td>\n",
       "      <td>1</td>\n",
       "      <td>1</td>\n",
       "      <td>0</td>\n",
       "      <td>38190.78</td>\n",
       "      <td>0</td>\n",
       "    </tr>\n",
       "  </tbody>\n",
       "</table>\n",
       "<p>909 rows × 14 columns</p>\n",
       "</div>"
      ],
      "text/plain": [
       "      RowNumber  CustomerId    Surname  CreditScore Geography  Gender  Age  \\\n",
       "30           31    15589475    Azikiwe          591     Spain  Female   39   \n",
       "48           49    15766205        Yin          550   Germany    Male   38   \n",
       "51           52    15768193  Trevisani          585   Germany    Male   36   \n",
       "53           54    15702298   Parkhill          655   Germany    Male   41   \n",
       "60           61    15651280     Hunter          742   Germany    Male   35   \n",
       "...         ...         ...        ...          ...       ...     ...  ...   \n",
       "9944       9945    15703923    Cameron          744   Germany    Male   41   \n",
       "9956       9957    15707861      Nucci          520    France  Female   46   \n",
       "9964       9965    15642785    Douglas          479    France    Male   34   \n",
       "9985       9986    15586914     Nepean          659    France    Male   36   \n",
       "9999      10000    15628319     Walker          792    France  Female   28   \n",
       "\n",
       "      Tenure    Balance  NumOfProducts  HasCrCard  IsActiveMember  \\\n",
       "30       NaN       0.00              3          1               0   \n",
       "48       NaN  103391.38              1          0               1   \n",
       "51       NaN  146050.97              2          0               0   \n",
       "53       NaN  125561.97              1          0               0   \n",
       "60       NaN  136857.00              1          0               0   \n",
       "...      ...        ...            ...        ...             ...   \n",
       "9944     NaN  190409.34              2          1               1   \n",
       "9956     NaN   85216.61              1          1               0   \n",
       "9964     NaN  117593.48              2          0               0   \n",
       "9985     NaN  123841.49              2          1               0   \n",
       "9999     NaN  130142.79              1          1               0   \n",
       "\n",
       "      EstimatedSalary  Exited  \n",
       "30          140469.38       1  \n",
       "48           90878.13       0  \n",
       "51           86424.57       0  \n",
       "53          164040.94       1  \n",
       "60           84509.57       0  \n",
       "...               ...     ...  \n",
       "9944        138361.48       0  \n",
       "9956        117369.52       1  \n",
       "9964        113308.29       0  \n",
       "9985         96833.00       0  \n",
       "9999         38190.78       0  \n",
       "\n",
       "[909 rows x 14 columns]"
      ]
     },
     "execution_count": 6,
     "metadata": {},
     "output_type": "execute_result"
    }
   ],
   "source": [
    "data[data['Tenure'].isna()]"
   ]
  },
  {
   "cell_type": "markdown",
   "metadata": {},
   "source": [
    "Dado que requerimos más información sobre por que estas filas aparecen con datos ausentes, sustituiremos estos por 0. \n",
    "Tomando en consideración que la columna `Tenure` habla del período de maduración del depósito."
   ]
  },
  {
   "cell_type": "code",
   "execution_count": 7,
   "metadata": {},
   "outputs": [],
   "source": [
    "condition = ['Geography','Gender']"
   ]
  },
  {
   "cell_type": "code",
   "execution_count": 8,
   "metadata": {},
   "outputs": [],
   "source": [
    "data['Tenure'] = data['Tenure'].fillna(data.groupby(condition)['Tenure'].transform('mean'))"
   ]
  },
  {
   "cell_type": "code",
   "execution_count": 9,
   "metadata": {},
   "outputs": [
    {
     "data": {
      "text/plain": [
       "RowNumber          0\n",
       "CustomerId         0\n",
       "Surname            0\n",
       "CreditScore        0\n",
       "Geography          0\n",
       "Gender             0\n",
       "Age                0\n",
       "Tenure             0\n",
       "Balance            0\n",
       "NumOfProducts      0\n",
       "HasCrCard          0\n",
       "IsActiveMember     0\n",
       "EstimatedSalary    0\n",
       "Exited             0\n",
       "dtype: int64"
      ]
     },
     "execution_count": 9,
     "metadata": {},
     "output_type": "execute_result"
    }
   ],
   "source": [
    "data.isna().sum()"
   ]
  },
  {
   "cell_type": "code",
   "execution_count": 10,
   "metadata": {},
   "outputs": [
    {
     "name": "stdout",
     "output_type": "stream",
     "text": [
      "<class 'pandas.core.frame.DataFrame'>\n",
      "RangeIndex: 10000 entries, 0 to 9999\n",
      "Data columns (total 14 columns):\n",
      " #   Column           Non-Null Count  Dtype  \n",
      "---  ------           --------------  -----  \n",
      " 0   RowNumber        10000 non-null  int64  \n",
      " 1   CustomerId       10000 non-null  int64  \n",
      " 2   Surname          10000 non-null  object \n",
      " 3   CreditScore      10000 non-null  int64  \n",
      " 4   Geography        10000 non-null  object \n",
      " 5   Gender           10000 non-null  object \n",
      " 6   Age              10000 non-null  int64  \n",
      " 7   Tenure           10000 non-null  float64\n",
      " 8   Balance          10000 non-null  float64\n",
      " 9   NumOfProducts    10000 non-null  int64  \n",
      " 10  HasCrCard        10000 non-null  int64  \n",
      " 11  IsActiveMember   10000 non-null  int64  \n",
      " 12  EstimatedSalary  10000 non-null  float64\n",
      " 13  Exited           10000 non-null  int64  \n",
      "dtypes: float64(3), int64(8), object(3)\n",
      "memory usage: 1.1+ MB\n"
     ]
    }
   ],
   "source": [
    "data.info()"
   ]
  },
  {
   "cell_type": "code",
   "execution_count": 11,
   "metadata": {},
   "outputs": [],
   "source": [
    "data = data.rename(columns={\n",
    "    'RowNumber':'row_number',\n",
    "    'CustomerId':'customer_id',\n",
    "    'Surname':'surname',\n",
    "    'CreditScore':'credit_score',\n",
    "    'Geography':'greography',\n",
    "    'Gender':'gender',\n",
    "    'Age':'age',\n",
    "    'Tenure':'tenure',\n",
    "    'Balance':'balance',\n",
    "    'NumOfProducts':'num_of_products',\n",
    "    'HasCrCard':'has_cr_card',\n",
    "    'IsActiveMember':'is_active_member',\n",
    "    'EstimatedSalary':'estimated_salary',\n",
    "    'Exited':'exited'\n",
    "})"
   ]
  },
  {
   "cell_type": "code",
   "execution_count": 12,
   "metadata": {},
   "outputs": [
    {
     "data": {
      "text/plain": [
       "Index(['row_number', 'customer_id', 'surname', 'credit_score', 'greography',\n",
       "       'gender', 'age', 'tenure', 'balance', 'num_of_products', 'has_cr_card',\n",
       "       'is_active_member', 'estimated_salary', 'exited'],\n",
       "      dtype='object')"
      ]
     },
     "execution_count": 12,
     "metadata": {},
     "output_type": "execute_result"
    }
   ],
   "source": [
    "data.columns"
   ]
  },
  {
   "cell_type": "markdown",
   "metadata": {},
   "source": [
    "## Preparación datos para entrenamiento <a id='preparation'></a>\n",
    "\n",
    "Para inicar se entrenarán modelos pilotos para inicar la preparación para modelo final."
   ]
  },
  {
   "cell_type": "markdown",
   "metadata": {},
   "source": [
    "Antes de realizar esto, se eliminará la columna ´Surname´, esto debido a que no influye el apellido de los clientes con saber si dejarán el banco"
   ]
  },
  {
   "cell_type": "code",
   "execution_count": 13,
   "metadata": {},
   "outputs": [],
   "source": [
    "df = data.drop(['surname'], axis=1)"
   ]
  },
  {
   "cell_type": "markdown",
   "metadata": {},
   "source": [
    "Para el uso de árboles de decisión o bosques aleatorios utilizaremos `Ordinal Encoder` para las variables categóricas asignarles un valor númerico y podamos procesar los datos dentro de estos modelos."
   ]
  },
  {
   "cell_type": "markdown",
   "metadata": {},
   "source": [
    "### One-Hot <a id='ohe'></a>"
   ]
  },
  {
   "cell_type": "code",
   "execution_count": 14,
   "metadata": {},
   "outputs": [],
   "source": [
    "data_ohe = pd.get_dummies(df, drop_first=True)"
   ]
  },
  {
   "cell_type": "code",
   "execution_count": 15,
   "metadata": {},
   "outputs": [],
   "source": [
    "target = data_ohe['exited']\n",
    "features = data_ohe.drop(['exited'], axis=1)"
   ]
  },
  {
   "cell_type": "code",
   "execution_count": 16,
   "metadata": {},
   "outputs": [],
   "source": [
    "features_train, features_valid, target_train, target_valid = (\n",
    "    train_test_split(features, target, test_size = 0.5, random_state = 12345))"
   ]
  },
  {
   "cell_type": "code",
   "execution_count": 17,
   "metadata": {},
   "outputs": [],
   "source": [
    "features_valid, features_test, target_valid, target_test = (\n",
    "    train_test_split(features_valid, target_valid, test_size=0.4, random_state = 12345))"
   ]
  },
  {
   "cell_type": "code",
   "execution_count": 18,
   "metadata": {},
   "outputs": [
    {
     "data": {
      "text/plain": [
       "(5000, 13)"
      ]
     },
     "execution_count": 18,
     "metadata": {},
     "output_type": "execute_result"
    }
   ],
   "source": [
    "features_train.shape"
   ]
  },
  {
   "cell_type": "code",
   "execution_count": 19,
   "metadata": {},
   "outputs": [
    {
     "data": {
      "text/html": [
       "<div>\n",
       "<style scoped>\n",
       "    .dataframe tbody tr th:only-of-type {\n",
       "        vertical-align: middle;\n",
       "    }\n",
       "\n",
       "    .dataframe tbody tr th {\n",
       "        vertical-align: top;\n",
       "    }\n",
       "\n",
       "    .dataframe thead th {\n",
       "        text-align: right;\n",
       "    }\n",
       "</style>\n",
       "<table border=\"1\" class=\"dataframe\">\n",
       "  <thead>\n",
       "    <tr style=\"text-align: right;\">\n",
       "      <th></th>\n",
       "      <th>row_number</th>\n",
       "      <th>customer_id</th>\n",
       "      <th>credit_score</th>\n",
       "      <th>age</th>\n",
       "      <th>tenure</th>\n",
       "      <th>balance</th>\n",
       "      <th>num_of_products</th>\n",
       "      <th>has_cr_card</th>\n",
       "      <th>is_active_member</th>\n",
       "      <th>estimated_salary</th>\n",
       "      <th>greography_Germany</th>\n",
       "      <th>greography_Spain</th>\n",
       "      <th>gender_Male</th>\n",
       "    </tr>\n",
       "  </thead>\n",
       "  <tbody>\n",
       "    <tr>\n",
       "      <th>0</th>\n",
       "      <td>1</td>\n",
       "      <td>15634602</td>\n",
       "      <td>619</td>\n",
       "      <td>42</td>\n",
       "      <td>2.0</td>\n",
       "      <td>0.00</td>\n",
       "      <td>1</td>\n",
       "      <td>1</td>\n",
       "      <td>1</td>\n",
       "      <td>101348.88</td>\n",
       "      <td>0</td>\n",
       "      <td>0</td>\n",
       "      <td>0</td>\n",
       "    </tr>\n",
       "    <tr>\n",
       "      <th>1</th>\n",
       "      <td>2</td>\n",
       "      <td>15647311</td>\n",
       "      <td>608</td>\n",
       "      <td>41</td>\n",
       "      <td>1.0</td>\n",
       "      <td>83807.86</td>\n",
       "      <td>1</td>\n",
       "      <td>0</td>\n",
       "      <td>1</td>\n",
       "      <td>112542.58</td>\n",
       "      <td>0</td>\n",
       "      <td>1</td>\n",
       "      <td>0</td>\n",
       "    </tr>\n",
       "    <tr>\n",
       "      <th>3</th>\n",
       "      <td>4</td>\n",
       "      <td>15701354</td>\n",
       "      <td>699</td>\n",
       "      <td>39</td>\n",
       "      <td>1.0</td>\n",
       "      <td>0.00</td>\n",
       "      <td>2</td>\n",
       "      <td>0</td>\n",
       "      <td>0</td>\n",
       "      <td>93826.63</td>\n",
       "      <td>0</td>\n",
       "      <td>0</td>\n",
       "      <td>0</td>\n",
       "    </tr>\n",
       "    <tr>\n",
       "      <th>4</th>\n",
       "      <td>5</td>\n",
       "      <td>15737888</td>\n",
       "      <td>850</td>\n",
       "      <td>43</td>\n",
       "      <td>2.0</td>\n",
       "      <td>125510.82</td>\n",
       "      <td>1</td>\n",
       "      <td>1</td>\n",
       "      <td>1</td>\n",
       "      <td>79084.10</td>\n",
       "      <td>0</td>\n",
       "      <td>1</td>\n",
       "      <td>0</td>\n",
       "    </tr>\n",
       "    <tr>\n",
       "      <th>5</th>\n",
       "      <td>6</td>\n",
       "      <td>15574012</td>\n",
       "      <td>645</td>\n",
       "      <td>44</td>\n",
       "      <td>8.0</td>\n",
       "      <td>113755.78</td>\n",
       "      <td>2</td>\n",
       "      <td>1</td>\n",
       "      <td>0</td>\n",
       "      <td>149756.71</td>\n",
       "      <td>0</td>\n",
       "      <td>1</td>\n",
       "      <td>1</td>\n",
       "    </tr>\n",
       "  </tbody>\n",
       "</table>\n",
       "</div>"
      ],
      "text/plain": [
       "   row_number  customer_id  credit_score  age  tenure    balance  \\\n",
       "0           1     15634602           619   42     2.0       0.00   \n",
       "1           2     15647311           608   41     1.0   83807.86   \n",
       "3           4     15701354           699   39     1.0       0.00   \n",
       "4           5     15737888           850   43     2.0  125510.82   \n",
       "5           6     15574012           645   44     8.0  113755.78   \n",
       "\n",
       "   num_of_products  has_cr_card  is_active_member  estimated_salary  \\\n",
       "0                1            1                 1         101348.88   \n",
       "1                1            0                 1         112542.58   \n",
       "3                2            0                 0          93826.63   \n",
       "4                1            1                 1          79084.10   \n",
       "5                2            1                 0         149756.71   \n",
       "\n",
       "   greography_Germany  greography_Spain  gender_Male  \n",
       "0                   0                 0            0  \n",
       "1                   0                 1            0  \n",
       "3                   0                 0            0  \n",
       "4                   0                 1            0  \n",
       "5                   0                 1            1  "
      ]
     },
     "execution_count": 19,
     "metadata": {},
     "output_type": "execute_result"
    }
   ],
   "source": [
    "features_train.sort_values(by='row_number').head(5)"
   ]
  },
  {
   "cell_type": "code",
   "execution_count": 20,
   "metadata": {},
   "outputs": [
    {
     "data": {
      "text/plain": [
       "(3000, 13)"
      ]
     },
     "execution_count": 20,
     "metadata": {},
     "output_type": "execute_result"
    }
   ],
   "source": [
    "features_valid.shape"
   ]
  },
  {
   "cell_type": "code",
   "execution_count": 21,
   "metadata": {},
   "outputs": [
    {
     "data": {
      "text/html": [
       "<div>\n",
       "<style scoped>\n",
       "    .dataframe tbody tr th:only-of-type {\n",
       "        vertical-align: middle;\n",
       "    }\n",
       "\n",
       "    .dataframe tbody tr th {\n",
       "        vertical-align: top;\n",
       "    }\n",
       "\n",
       "    .dataframe thead th {\n",
       "        text-align: right;\n",
       "    }\n",
       "</style>\n",
       "<table border=\"1\" class=\"dataframe\">\n",
       "  <thead>\n",
       "    <tr style=\"text-align: right;\">\n",
       "      <th></th>\n",
       "      <th>row_number</th>\n",
       "      <th>customer_id</th>\n",
       "      <th>credit_score</th>\n",
       "      <th>age</th>\n",
       "      <th>tenure</th>\n",
       "      <th>balance</th>\n",
       "      <th>num_of_products</th>\n",
       "      <th>has_cr_card</th>\n",
       "      <th>is_active_member</th>\n",
       "      <th>estimated_salary</th>\n",
       "      <th>greography_Germany</th>\n",
       "      <th>greography_Spain</th>\n",
       "      <th>gender_Male</th>\n",
       "    </tr>\n",
       "  </thead>\n",
       "  <tbody>\n",
       "    <tr>\n",
       "      <th>6</th>\n",
       "      <td>7</td>\n",
       "      <td>15592531</td>\n",
       "      <td>822</td>\n",
       "      <td>50</td>\n",
       "      <td>7.0</td>\n",
       "      <td>0.00</td>\n",
       "      <td>2</td>\n",
       "      <td>1</td>\n",
       "      <td>1</td>\n",
       "      <td>10062.80</td>\n",
       "      <td>0</td>\n",
       "      <td>0</td>\n",
       "      <td>1</td>\n",
       "    </tr>\n",
       "    <tr>\n",
       "      <th>8</th>\n",
       "      <td>9</td>\n",
       "      <td>15792365</td>\n",
       "      <td>501</td>\n",
       "      <td>44</td>\n",
       "      <td>4.0</td>\n",
       "      <td>142051.07</td>\n",
       "      <td>2</td>\n",
       "      <td>0</td>\n",
       "      <td>1</td>\n",
       "      <td>74940.50</td>\n",
       "      <td>0</td>\n",
       "      <td>0</td>\n",
       "      <td>1</td>\n",
       "    </tr>\n",
       "    <tr>\n",
       "      <th>13</th>\n",
       "      <td>14</td>\n",
       "      <td>15691483</td>\n",
       "      <td>549</td>\n",
       "      <td>25</td>\n",
       "      <td>5.0</td>\n",
       "      <td>0.00</td>\n",
       "      <td>2</td>\n",
       "      <td>0</td>\n",
       "      <td>0</td>\n",
       "      <td>190857.79</td>\n",
       "      <td>0</td>\n",
       "      <td>0</td>\n",
       "      <td>0</td>\n",
       "    </tr>\n",
       "    <tr>\n",
       "      <th>15</th>\n",
       "      <td>16</td>\n",
       "      <td>15643966</td>\n",
       "      <td>616</td>\n",
       "      <td>45</td>\n",
       "      <td>3.0</td>\n",
       "      <td>143129.41</td>\n",
       "      <td>2</td>\n",
       "      <td>0</td>\n",
       "      <td>1</td>\n",
       "      <td>64327.26</td>\n",
       "      <td>1</td>\n",
       "      <td>0</td>\n",
       "      <td>1</td>\n",
       "    </tr>\n",
       "    <tr>\n",
       "      <th>18</th>\n",
       "      <td>19</td>\n",
       "      <td>15661507</td>\n",
       "      <td>587</td>\n",
       "      <td>45</td>\n",
       "      <td>6.0</td>\n",
       "      <td>0.00</td>\n",
       "      <td>1</td>\n",
       "      <td>0</td>\n",
       "      <td>0</td>\n",
       "      <td>158684.81</td>\n",
       "      <td>0</td>\n",
       "      <td>1</td>\n",
       "      <td>1</td>\n",
       "    </tr>\n",
       "  </tbody>\n",
       "</table>\n",
       "</div>"
      ],
      "text/plain": [
       "    row_number  customer_id  credit_score  age  tenure    balance  \\\n",
       "6            7     15592531           822   50     7.0       0.00   \n",
       "8            9     15792365           501   44     4.0  142051.07   \n",
       "13          14     15691483           549   25     5.0       0.00   \n",
       "15          16     15643966           616   45     3.0  143129.41   \n",
       "18          19     15661507           587   45     6.0       0.00   \n",
       "\n",
       "    num_of_products  has_cr_card  is_active_member  estimated_salary  \\\n",
       "6                 2            1                 1          10062.80   \n",
       "8                 2            0                 1          74940.50   \n",
       "13                2            0                 0         190857.79   \n",
       "15                2            0                 1          64327.26   \n",
       "18                1            0                 0         158684.81   \n",
       "\n",
       "    greography_Germany  greography_Spain  gender_Male  \n",
       "6                    0                 0            1  \n",
       "8                    0                 0            1  \n",
       "13                   0                 0            0  \n",
       "15                   1                 0            1  \n",
       "18                   0                 1            1  "
      ]
     },
     "execution_count": 21,
     "metadata": {},
     "output_type": "execute_result"
    }
   ],
   "source": [
    "features_valid.sort_values(by='row_number').head(5)"
   ]
  },
  {
   "cell_type": "code",
   "execution_count": 22,
   "metadata": {
    "scrolled": true
   },
   "outputs": [
    {
     "data": {
      "text/plain": [
       "(2000, 13)"
      ]
     },
     "execution_count": 22,
     "metadata": {},
     "output_type": "execute_result"
    }
   ],
   "source": [
    "features_test.shape"
   ]
  },
  {
   "cell_type": "code",
   "execution_count": 23,
   "metadata": {},
   "outputs": [
    {
     "data": {
      "text/html": [
       "<div>\n",
       "<style scoped>\n",
       "    .dataframe tbody tr th:only-of-type {\n",
       "        vertical-align: middle;\n",
       "    }\n",
       "\n",
       "    .dataframe tbody tr th {\n",
       "        vertical-align: top;\n",
       "    }\n",
       "\n",
       "    .dataframe thead th {\n",
       "        text-align: right;\n",
       "    }\n",
       "</style>\n",
       "<table border=\"1\" class=\"dataframe\">\n",
       "  <thead>\n",
       "    <tr style=\"text-align: right;\">\n",
       "      <th></th>\n",
       "      <th>row_number</th>\n",
       "      <th>customer_id</th>\n",
       "      <th>credit_score</th>\n",
       "      <th>age</th>\n",
       "      <th>tenure</th>\n",
       "      <th>balance</th>\n",
       "      <th>num_of_products</th>\n",
       "      <th>has_cr_card</th>\n",
       "      <th>is_active_member</th>\n",
       "      <th>estimated_salary</th>\n",
       "      <th>greography_Germany</th>\n",
       "      <th>greography_Spain</th>\n",
       "      <th>gender_Male</th>\n",
       "    </tr>\n",
       "  </thead>\n",
       "  <tbody>\n",
       "    <tr>\n",
       "      <th>2</th>\n",
       "      <td>3</td>\n",
       "      <td>15619304</td>\n",
       "      <td>502</td>\n",
       "      <td>42</td>\n",
       "      <td>8.0</td>\n",
       "      <td>159660.8</td>\n",
       "      <td>3</td>\n",
       "      <td>1</td>\n",
       "      <td>0</td>\n",
       "      <td>113931.57</td>\n",
       "      <td>0</td>\n",
       "      <td>0</td>\n",
       "      <td>0</td>\n",
       "    </tr>\n",
       "    <tr>\n",
       "      <th>11</th>\n",
       "      <td>12</td>\n",
       "      <td>15737173</td>\n",
       "      <td>497</td>\n",
       "      <td>24</td>\n",
       "      <td>3.0</td>\n",
       "      <td>0.0</td>\n",
       "      <td>2</td>\n",
       "      <td>1</td>\n",
       "      <td>0</td>\n",
       "      <td>76390.01</td>\n",
       "      <td>0</td>\n",
       "      <td>1</td>\n",
       "      <td>1</td>\n",
       "    </tr>\n",
       "    <tr>\n",
       "      <th>14</th>\n",
       "      <td>15</td>\n",
       "      <td>15600882</td>\n",
       "      <td>635</td>\n",
       "      <td>35</td>\n",
       "      <td>7.0</td>\n",
       "      <td>0.0</td>\n",
       "      <td>2</td>\n",
       "      <td>1</td>\n",
       "      <td>1</td>\n",
       "      <td>65951.65</td>\n",
       "      <td>0</td>\n",
       "      <td>1</td>\n",
       "      <td>0</td>\n",
       "    </tr>\n",
       "    <tr>\n",
       "      <th>20</th>\n",
       "      <td>21</td>\n",
       "      <td>15577657</td>\n",
       "      <td>732</td>\n",
       "      <td>41</td>\n",
       "      <td>8.0</td>\n",
       "      <td>0.0</td>\n",
       "      <td>2</td>\n",
       "      <td>1</td>\n",
       "      <td>1</td>\n",
       "      <td>170886.17</td>\n",
       "      <td>0</td>\n",
       "      <td>0</td>\n",
       "      <td>1</td>\n",
       "    </tr>\n",
       "    <tr>\n",
       "      <th>23</th>\n",
       "      <td>24</td>\n",
       "      <td>15725737</td>\n",
       "      <td>669</td>\n",
       "      <td>46</td>\n",
       "      <td>3.0</td>\n",
       "      <td>0.0</td>\n",
       "      <td>2</td>\n",
       "      <td>0</td>\n",
       "      <td>1</td>\n",
       "      <td>8487.75</td>\n",
       "      <td>0</td>\n",
       "      <td>0</td>\n",
       "      <td>1</td>\n",
       "    </tr>\n",
       "  </tbody>\n",
       "</table>\n",
       "</div>"
      ],
      "text/plain": [
       "    row_number  customer_id  credit_score  age  tenure   balance  \\\n",
       "2            3     15619304           502   42     8.0  159660.8   \n",
       "11          12     15737173           497   24     3.0       0.0   \n",
       "14          15     15600882           635   35     7.0       0.0   \n",
       "20          21     15577657           732   41     8.0       0.0   \n",
       "23          24     15725737           669   46     3.0       0.0   \n",
       "\n",
       "    num_of_products  has_cr_card  is_active_member  estimated_salary  \\\n",
       "2                 3            1                 0         113931.57   \n",
       "11                2            1                 0          76390.01   \n",
       "14                2            1                 1          65951.65   \n",
       "20                2            1                 1         170886.17   \n",
       "23                2            0                 1           8487.75   \n",
       "\n",
       "    greography_Germany  greography_Spain  gender_Male  \n",
       "2                    0                 0            0  \n",
       "11                   0                 1            1  \n",
       "14                   0                 1            0  \n",
       "20                   0                 0            1  \n",
       "23                   0                 0            1  "
      ]
     },
     "execution_count": 23,
     "metadata": {},
     "output_type": "execute_result"
    }
   ],
   "source": [
    "features_test.sort_values(by='row_number').head(5)"
   ]
  },
  {
   "cell_type": "code",
   "execution_count": 24,
   "metadata": {},
   "outputs": [
    {
     "data": {
      "text/plain": [
       "0"
      ]
     },
     "execution_count": 24,
     "metadata": {},
     "output_type": "execute_result"
    }
   ],
   "source": [
    "len(set(features_train.sort_index().index).intersection(set(features_test.sort_index().index)))"
   ]
  },
  {
   "cell_type": "markdown",
   "metadata": {},
   "source": [
    "Ya con los datos separados en los datasets de entrenamiento y validación, se realizará un `Escalado estándar` a las columnas númericas"
   ]
  },
  {
   "cell_type": "markdown",
   "metadata": {},
   "source": [
    "### Escalado estándar <a id='scalar'></a>"
   ]
  },
  {
   "cell_type": "code",
   "execution_count": 25,
   "metadata": {},
   "outputs": [],
   "source": [
    "numeric = ['credit_score', 'age', 'balance', 'estimated_salary']"
   ]
  },
  {
   "cell_type": "code",
   "execution_count": 26,
   "metadata": {},
   "outputs": [
    {
     "data": {
      "text/plain": [
       "StandardScaler()"
      ]
     },
     "execution_count": 26,
     "metadata": {},
     "output_type": "execute_result"
    }
   ],
   "source": [
    "scaler = StandardScaler()\n",
    "scaler.fit(features_train[numeric])"
   ]
  },
  {
   "cell_type": "code",
   "execution_count": 27,
   "metadata": {
    "scrolled": false
   },
   "outputs": [],
   "source": [
    "features_train[numeric] = scaler.transform(features_train[numeric])"
   ]
  },
  {
   "cell_type": "code",
   "execution_count": 28,
   "metadata": {
    "scrolled": true
   },
   "outputs": [],
   "source": [
    "features_valid[numeric] = scaler.transform(features_valid[numeric])"
   ]
  },
  {
   "cell_type": "code",
   "execution_count": 29,
   "metadata": {},
   "outputs": [],
   "source": [
    "features_test[numeric] = scaler.transform(features_test[numeric])"
   ]
  },
  {
   "cell_type": "markdown",
   "metadata": {},
   "source": [
    "## Modelo Árbol de decisión <a id='tree'></a>"
   ]
  },
  {
   "cell_type": "code",
   "execution_count": 30,
   "metadata": {},
   "outputs": [
    {
     "data": {
      "text/plain": [
       "DecisionTreeClassifier(random_state=12345)"
      ]
     },
     "execution_count": 30,
     "metadata": {},
     "output_type": "execute_result"
    }
   ],
   "source": [
    "treemodel = DecisionTreeClassifier(random_state=12345)\n",
    "treemodel.fit(features_train, target_train)"
   ]
  },
  {
   "cell_type": "markdown",
   "metadata": {},
   "source": [
    "### Validación de modelo <a id='validation'></a>"
   ]
  },
  {
   "cell_type": "markdown",
   "metadata": {},
   "source": [
    "#### Valor F1 <a id='exact'></a>\n",
    "\n",
    "Se calculará la exactitud del modelo"
   ]
  },
  {
   "cell_type": "code",
   "execution_count": 31,
   "metadata": {},
   "outputs": [
    {
     "data": {
      "text/plain": [
       "0.4784313725490197"
      ]
     },
     "execution_count": 31,
     "metadata": {},
     "output_type": "execute_result"
    }
   ],
   "source": [
    "predicted_valid = treemodel.predict(features_valid)\n",
    "f1_score(target_valid, predicted_valid)\n"
   ]
  },
  {
   "cell_type": "code",
   "execution_count": 32,
   "metadata": {},
   "outputs": [
    {
     "data": {
      "text/plain": [
       "0.5023696682464455"
      ]
     },
     "execution_count": 32,
     "metadata": {},
     "output_type": "execute_result"
    }
   ],
   "source": [
    "predicted_test = treemodel.predict(features_test)\n",
    "f1_score(target_test, predicted_test)"
   ]
  },
  {
   "cell_type": "markdown",
   "metadata": {},
   "source": [
    "#### Recall <a id='recall'></a>"
   ]
  },
  {
   "cell_type": "code",
   "execution_count": 33,
   "metadata": {},
   "outputs": [
    {
     "data": {
      "text/plain": [
       "0.49432739059967584"
      ]
     },
     "execution_count": 33,
     "metadata": {},
     "output_type": "execute_result"
    }
   ],
   "source": [
    "recall_score(target_valid, predicted_valid)"
   ]
  },
  {
   "cell_type": "markdown",
   "metadata": {},
   "source": [
    "Nuestro modelo obtiene un 100% de datos correctos, este valor no es fiable ya que no se pueden determinar modelos exactos."
   ]
  },
  {
   "cell_type": "markdown",
   "metadata": {},
   "source": [
    "#### Precisión <a id='precision'></a>"
   ]
  },
  {
   "cell_type": "markdown",
   "metadata": {},
   "source": [
    "Mediremos la precisión de los valores \"positivos\", es decir los usuarios que han dejado de usar el banco"
   ]
  },
  {
   "cell_type": "code",
   "execution_count": 34,
   "metadata": {},
   "outputs": [
    {
     "data": {
      "text/plain": [
       "0.4635258358662614"
      ]
     },
     "execution_count": 34,
     "metadata": {},
     "output_type": "execute_result"
    }
   ],
   "source": [
    "precision_score(target_valid, predicted_valid)"
   ]
  },
  {
   "cell_type": "markdown",
   "metadata": {},
   "source": [
    "El valor de la precisión, al igual que recall, nos dan un valor de 100% de valores correctos, por lo que se puede mostrar un error en los datos"
   ]
  },
  {
   "cell_type": "markdown",
   "metadata": {},
   "source": [
    "Para poder modificar el modelo y aumentar los valores de las métricas se realizarán estudios para el balance de clases, ya que, como anteriormente se mostró los datos están cargados a los usuarios que se quedan en el banco."
   ]
  },
  {
   "cell_type": "markdown",
   "metadata": {},
   "source": [
    "### Mejorar modelo <a id='mejor'></a>"
   ]
  },
  {
   "cell_type": "markdown",
   "metadata": {},
   "source": [
    "#### Mejor hiperpárametro max_depth"
   ]
  },
  {
   "cell_type": "markdown",
   "metadata": {},
   "source": [
    "Se usará un bucle para encontrar los hiperparámetros que nos ayudan a mejorar el método"
   ]
  },
  {
   "cell_type": "code",
   "execution_count": 35,
   "metadata": {},
   "outputs": [
    {
     "name": "stdout",
     "output_type": "stream",
     "text": [
      "Valor F1 del mejor modelo en el conjunto de validación:  0.551257253384913\n",
      "El valor para max_depth es:  8\n"
     ]
    }
   ],
   "source": [
    "best_treemodel = None\n",
    "best_treeresult = 0\n",
    "best_depth = 0\n",
    "for depth in range(1,30):\n",
    "    treemodel = DecisionTreeClassifier(max_depth = depth, random_state=12345)\n",
    "    treemodel.fit(features_train, target_train)\n",
    "    \n",
    "    predictions_valid = treemodel.predict(features_valid)\n",
    "    result = f1_score(target_valid, predictions_valid)\n",
    "    if result > best_treeresult:\n",
    "        best_treemodel = treemodel\n",
    "        best_treeresult = result\n",
    "        best_depth = depth\n",
    "print(\"Valor F1 del mejor modelo en el conjunto de validación: \", best_treeresult)\n",
    "print(\"El valor para max_depth es: \", best_depth)"
   ]
  },
  {
   "cell_type": "code",
   "execution_count": 36,
   "metadata": {},
   "outputs": [
    {
     "data": {
      "text/plain": [
       "0.5834542815674891"
      ]
     },
     "execution_count": 36,
     "metadata": {},
     "output_type": "execute_result"
    }
   ],
   "source": [
    "predicted_test = best_treemodel.predict(features_test)\n",
    "f1_score(target_test, predicted_test)"
   ]
  },
  {
   "cell_type": "markdown",
   "metadata": {},
   "source": [
    "El valor F1 disminuyó en un 1.06 %, y la exactitud baja en 0.4286%, con lo que el modelo mejorado es mejor, esto debido a que no hay un modelo perfecto."
   ]
  },
  {
   "cell_type": "markdown",
   "metadata": {},
   "source": [
    "#### Balance de clases <a id='balance'></a>"
   ]
  },
  {
   "cell_type": "code",
   "execution_count": 37,
   "metadata": {},
   "outputs": [
    {
     "name": "stdout",
     "output_type": "stream",
     "text": [
      "Valor F1 del mejor modelo en el conjunto de validación:  0.5806896551724138\n",
      "El valor para max_depth es:  6\n"
     ]
    }
   ],
   "source": [
    "best_treemodelb = None\n",
    "best_treeresult = 0\n",
    "best_depth = 0\n",
    "for depth in range(1,30):\n",
    "    treemodelb = DecisionTreeClassifier(max_depth = depth, random_state=12345, class_weight='balanced')\n",
    "    treemodelb.fit(features_train, target_train)\n",
    "    \n",
    "    predictions_valid = treemodelb.predict(features_valid)\n",
    "    result = f1_score(target_valid, predictions_valid)\n",
    "    if result > best_treeresult:\n",
    "        best_treemodelb = treemodelb\n",
    "        best_treeresult = result\n",
    "        best_depth = depth\n",
    "print(\"Valor F1 del mejor modelo en el conjunto de validación: \", best_treeresult)\n",
    "print(\"El valor para max_depth es: \", best_depth)\n"
   ]
  },
  {
   "cell_type": "code",
   "execution_count": 38,
   "metadata": {},
   "outputs": [
    {
     "data": {
      "text/plain": [
       "0.6004228329809724"
      ]
     },
     "execution_count": 38,
     "metadata": {},
     "output_type": "execute_result"
    }
   ],
   "source": [
    "predicted_test = best_treemodelb.predict(features_test)\n",
    "f1_score(target_test, predicted_test)"
   ]
  },
  {
   "cell_type": "markdown",
   "metadata": {},
   "source": [
    "Con las pruebas de clases balanceadas y sin balancer, se encontró que el modelo más adecuado es el modelo sin balancear con una profundidad máxima de 19, por lo que se tomará el modelo `treemodel` para continuar."
   ]
  },
  {
   "cell_type": "markdown",
   "metadata": {},
   "source": [
    "####  Sobremuestreo <a id='upsample'></a>"
   ]
  },
  {
   "cell_type": "markdown",
   "metadata": {},
   "source": [
    "Función para unir el dataset:"
   ]
  },
  {
   "cell_type": "code",
   "execution_count": 39,
   "metadata": {},
   "outputs": [],
   "source": [
    "def upsample(features, target, repeat):\n",
    "    features_zeros = features[target==0]\n",
    "    features_ones = features[target==1]\n",
    "    target_zeros = target[target==0]\n",
    "    target_ones = target[target==1]\n",
    "    \n",
    "    features_upsampled = pd.concat([features_zeros] + [features_ones]*repeat)\n",
    "    target_upsampled = pd.concat([target_zeros] + [target_ones]*repeat)\n",
    "    \n",
    "    features_upsampled, target_upsampled = shuffle(\n",
    "        features_upsampled, target_upsampled, random_state=12345)\n",
    "    return features_upsampled, target_upsampled"
   ]
  },
  {
   "cell_type": "markdown",
   "metadata": {},
   "source": [
    "Se mandan los datos a la función `upsample`"
   ]
  },
  {
   "cell_type": "code",
   "execution_count": 40,
   "metadata": {},
   "outputs": [],
   "source": [
    "features_upsampled, target_upsampled = upsample(\n",
    "    features_train, target_train, 10)"
   ]
  },
  {
   "cell_type": "markdown",
   "metadata": {},
   "source": [
    "Se entrena nuevamente el modelo, con los datos de sobremuestreo buscando los hiperpárametros que nos den el mejor resultado de F1"
   ]
  },
  {
   "cell_type": "code",
   "execution_count": 41,
   "metadata": {},
   "outputs": [
    {
     "name": "stdout",
     "output_type": "stream",
     "text": [
      "Valor F1 del mejor modelo en el conjunto de validación:  0.48681541582150095\n",
      "El valor para max_depth es:  14\n"
     ]
    }
   ],
   "source": [
    "best_treemodel_upsam = None\n",
    "best_treeresult = 0\n",
    "best_depth = 0\n",
    "for depth in range(1,30):\n",
    "    treemodel_upsam = DecisionTreeClassifier(max_depth = depth, random_state=12345)\n",
    "    treemodel_upsam.fit(features_upsampled, target_upsampled)\n",
    "    \n",
    "    predict_valid = treemodel_upsam.predict(features_valid)\n",
    "    result = f1_score(target_valid, predict_valid)\n",
    "    if result > best_treeresult:\n",
    "        best_treemodel_upsam = treemodel_upsam\n",
    "        best_treeresult = result\n",
    "        best_depth = depth\n",
    "print(\"Valor F1 del mejor modelo en el conjunto de validación: \", best_treeresult)\n",
    "print(\"El valor para max_depth es: \", best_depth)"
   ]
  },
  {
   "cell_type": "code",
   "execution_count": 42,
   "metadata": {},
   "outputs": [
    {
     "data": {
      "text/plain": [
       "0.4748201438848921"
      ]
     },
     "execution_count": 42,
     "metadata": {},
     "output_type": "execute_result"
    }
   ],
   "source": [
    "predicted_test = best_treemodel_upsam.predict(features_test)\n",
    "f1_score(target_test, predicted_test)"
   ]
  },
  {
   "cell_type": "code",
   "execution_count": 43,
   "metadata": {},
   "outputs": [
    {
     "name": "stdout",
     "output_type": "stream",
     "text": [
      "Valor F1 del mejor modelo en el conjunto de validación:  0.5802894555478979\n",
      "El valor para max_depth es:  6\n"
     ]
    }
   ],
   "source": [
    "best_treemodel_upsamb = None\n",
    "best_treeresult = 0\n",
    "best_depth = 0\n",
    "for depth in range(1,30):\n",
    "    treemodel_upsamb = DecisionTreeClassifier(max_depth = depth, random_state=12345,class_weight='balanced')\n",
    "    treemodel_upsamb.fit(features_upsampled, target_upsampled)\n",
    "    \n",
    "    predict_valid = treemodel_upsamb.predict(features_valid)\n",
    "    result = f1_score(target_valid, predict_valid)\n",
    "    if result > best_treeresult:\n",
    "        best_treemodel_upsamb = treemodel_upsamb\n",
    "        best_treeresult = result\n",
    "        best_depth = depth\n",
    "print(\"Valor F1 del mejor modelo en el conjunto de validación: \", best_treeresult)\n",
    "print(\"El valor para max_depth es: \", best_depth)"
   ]
  },
  {
   "cell_type": "code",
   "execution_count": 44,
   "metadata": {},
   "outputs": [
    {
     "data": {
      "text/plain": [
       "0.6004228329809724"
      ]
     },
     "execution_count": 44,
     "metadata": {},
     "output_type": "execute_result"
    }
   ],
   "source": [
    "predicted_test = best_treemodel_upsamb.predict(features_test)\n",
    "f1_score(target_test, predicted_test)"
   ]
  },
  {
   "cell_type": "markdown",
   "metadata": {},
   "source": [
    "#### Submuestreo <a id='downsample'></a>"
   ]
  },
  {
   "cell_type": "markdown",
   "metadata": {},
   "source": [
    "Función para separa el dataset:"
   ]
  },
  {
   "cell_type": "code",
   "execution_count": 45,
   "metadata": {},
   "outputs": [],
   "source": [
    "def downsample(features, target, fraction):\n",
    "    features_zeros = features[target==0]\n",
    "    features_ones = features[target==1]\n",
    "    target_zeros = target[target==0]\n",
    "    target_ones = target[target==1]\n",
    "    \n",
    "    features_downsampled = pd.concat([features_zeros.sample(frac=fraction, random_state=12345)] + [features_ones])\n",
    "    target_downsampled = pd.concat([target_zeros.sample(frac=fraction, random_state=12345)]+[target_ones])\n",
    "    \n",
    "    features_downsampled, target_downsampled = shuffle(\n",
    "        features_downsampled, target_downsampled, random_state=12345)\n",
    "    \n",
    "    return features_downsampled, target_downsampled"
   ]
  },
  {
   "cell_type": "code",
   "execution_count": 46,
   "metadata": {},
   "outputs": [],
   "source": [
    "features_downsampled, target_downsampled = downsample(\n",
    "    features_train, target_train, 0.1)"
   ]
  },
  {
   "cell_type": "markdown",
   "metadata": {},
   "source": [
    "Se entrena nuevamente el modelo, con los datos de sobremuestreo buscando los hiperpárametros que nos den el mejor resultado de F1"
   ]
  },
  {
   "cell_type": "code",
   "execution_count": 47,
   "metadata": {},
   "outputs": [
    {
     "name": "stdout",
     "output_type": "stream",
     "text": [
      "Valor F1 del mejor modelo en el conjunto de validación:  0.48581560283687936\n",
      "El valor para max_depth es:  5\n"
     ]
    }
   ],
   "source": [
    "best_treemodel_subsam = None\n",
    "best_treeresult = 0\n",
    "best_depth = 0\n",
    "for depth in range(1,30):\n",
    "    treemodel_subsam = DecisionTreeClassifier(max_depth = depth, random_state=12345)\n",
    "    treemodel_subsam.fit(features_downsampled, target_downsampled)\n",
    "    \n",
    "    predict_valid = treemodel_subsam.predict(features_valid)\n",
    "    result = f1_score(target_valid, predict_valid)\n",
    "    if result > best_treeresult:\n",
    "        best_treemodel_subsam = treemodel_subsam\n",
    "        best_treeresult = result\n",
    "        best_depth = depth\n",
    "print(\"Valor F1 del mejor modelo en el conjunto de validación: \", best_treeresult)\n",
    "print(\"El valor para max_depth es: \", best_depth)"
   ]
  },
  {
   "cell_type": "code",
   "execution_count": 48,
   "metadata": {},
   "outputs": [
    {
     "data": {
      "text/plain": [
       "0.4738955823293173"
      ]
     },
     "execution_count": 48,
     "metadata": {},
     "output_type": "execute_result"
    }
   ],
   "source": [
    "predicted_test = best_treemodel_subsam.predict(features_test)\n",
    "f1_score(target_test, predicted_test)"
   ]
  },
  {
   "cell_type": "code",
   "execution_count": 49,
   "metadata": {},
   "outputs": [
    {
     "name": "stdout",
     "output_type": "stream",
     "text": [
      "Valor F1 del mejor modelo en el conjunto de validación:  0.5158587672052664\n",
      "El valor para max_depth es:  3\n"
     ]
    }
   ],
   "source": [
    "best_treemodel_subsamb = None\n",
    "best_treeresult = 0\n",
    "best_depth = 0\n",
    "for depth in range(1,30):\n",
    "    treemodel_subsamb = DecisionTreeClassifier(max_depth = depth, random_state=12345, class_weight='balanced')\n",
    "    treemodel_subsamb.fit(features_downsampled, target_downsampled)\n",
    "    \n",
    "    predict_valid = treemodel_subsamb.predict(features_valid)\n",
    "    result = f1_score(target_valid, predict_valid)\n",
    "    if result > best_treeresult:\n",
    "        best_treemodel_subsamb = treemodel_subsamb\n",
    "        best_treeresult = result\n",
    "        best_depth = depth\n",
    "print(\"Valor F1 del mejor modelo en el conjunto de validación: \", best_treeresult)\n",
    "print(\"El valor para max_depth es: \", best_depth)"
   ]
  },
  {
   "cell_type": "code",
   "execution_count": 50,
   "metadata": {},
   "outputs": [
    {
     "data": {
      "text/plain": [
       "0.5174311926605505"
      ]
     },
     "execution_count": 50,
     "metadata": {},
     "output_type": "execute_result"
    }
   ],
   "source": [
    "predicted_test = best_treemodel_subsamb.predict(features_test)\n",
    "f1_score(target_test, predicted_test)"
   ]
  },
  {
   "cell_type": "markdown",
   "metadata": {},
   "source": [
    "## Modelo Bosque Aleatorio <a id='forest'></a>"
   ]
  },
  {
   "cell_type": "code",
   "execution_count": 51,
   "metadata": {},
   "outputs": [
    {
     "data": {
      "text/plain": [
       "RandomForestClassifier(random_state=12345)"
      ]
     },
     "execution_count": 51,
     "metadata": {},
     "output_type": "execute_result"
    }
   ],
   "source": [
    "forestmodel = RandomForestClassifier(random_state=12345)\n",
    "forestmodel.fit(features_train, target_train)"
   ]
  },
  {
   "cell_type": "markdown",
   "metadata": {},
   "source": [
    "### Validación de modelo <a id='validation'></a>"
   ]
  },
  {
   "cell_type": "markdown",
   "metadata": {},
   "source": [
    "#### Recall <a id='recall'></a>"
   ]
  },
  {
   "cell_type": "code",
   "execution_count": 52,
   "metadata": {},
   "outputs": [
    {
     "data": {
      "text/plain": [
       "0.49432739059967584"
      ]
     },
     "execution_count": 52,
     "metadata": {},
     "output_type": "execute_result"
    }
   ],
   "source": [
    "recall_score(target_valid, predicted_valid)"
   ]
  },
  {
   "cell_type": "markdown",
   "metadata": {},
   "source": [
    "Nuestro modelo obtiene un 50% de datos correctos, este valor es muy poco para lo que busca el banco con los usuarios."
   ]
  },
  {
   "cell_type": "markdown",
   "metadata": {},
   "source": [
    "#### Precisión <a id='precision'></a>"
   ]
  },
  {
   "cell_type": "markdown",
   "metadata": {},
   "source": [
    "Mediremos la precisión de los valores \"positivos\", es decir los usuarios que han dejado de usar el banco"
   ]
  },
  {
   "cell_type": "code",
   "execution_count": 53,
   "metadata": {},
   "outputs": [
    {
     "data": {
      "text/plain": [
       "0.4635258358662614"
      ]
     },
     "execution_count": 53,
     "metadata": {},
     "output_type": "execute_result"
    }
   ],
   "source": [
    "precision_score(target_valid, predicted_valid)"
   ]
  },
  {
   "cell_type": "markdown",
   "metadata": {},
   "source": [
    "#### Valor F1 <a id='f1'></a>"
   ]
  },
  {
   "cell_type": "code",
   "execution_count": 54,
   "metadata": {},
   "outputs": [
    {
     "data": {
      "text/plain": [
       "0.4784313725490197"
      ]
     },
     "execution_count": 54,
     "metadata": {},
     "output_type": "execute_result"
    }
   ],
   "source": [
    "f1_score(target_valid, predicted_valid)"
   ]
  },
  {
   "cell_type": "code",
   "execution_count": 55,
   "metadata": {},
   "outputs": [
    {
     "data": {
      "text/plain": [
       "0.5383411580594679"
      ]
     },
     "execution_count": 55,
     "metadata": {},
     "output_type": "execute_result"
    }
   ],
   "source": [
    "predicted_test = forestmodel.predict(features_test)\n",
    "f1_score(target_test, predicted_test)"
   ]
  },
  {
   "cell_type": "markdown",
   "metadata": {},
   "source": [
    "Para poder modificar el modelo y aumentar los valores de las métricas se realizarán estudios para el balance de clases, ya que, como anteriormente se mostró los datos están cargados a los usuarios que se quedan en el banco."
   ]
  },
  {
   "cell_type": "markdown",
   "metadata": {},
   "source": [
    "### Mejorar modelo <a id='mejor'></a>"
   ]
  },
  {
   "cell_type": "markdown",
   "metadata": {},
   "source": [
    "#### Mejor hiperpámetro n_estimators"
   ]
  },
  {
   "cell_type": "markdown",
   "metadata": {},
   "source": [
    "Se usará un bucle para encontrar los hiperparámetros que nos ayudan a mejorar el método"
   ]
  },
  {
   "cell_type": "code",
   "execution_count": 56,
   "metadata": {},
   "outputs": [
    {
     "name": "stdout",
     "output_type": "stream",
     "text": [
      "(n_estimators = 19): F1= 0.5618661257606491\n"
     ]
    }
   ],
   "source": [
    "best_forestscore = 0\n",
    "best_forestest = 0\n",
    "best_forestmodel = None\n",
    "for est in range(1,29):\n",
    "    forestmodel = RandomForestClassifier(random_state=12345, n_estimators=est)\n",
    "    forestmodel.fit(features_train, target_train)\n",
    "    predict_valid = forestmodel.predict(features_valid)\n",
    "    forestscore = f1_score(target_valid, predict_valid)\n",
    "    if forestscore > best_forestscore:\n",
    "        best_forestscore = forestscore\n",
    "        best_forestest = est\n",
    "        best_forestmodel = forestmodel\n",
    "print(\"(n_estimators = {}): F1= {}\".format(best_forestest, best_forestscore))"
   ]
  },
  {
   "cell_type": "code",
   "execution_count": 57,
   "metadata": {},
   "outputs": [
    {
     "data": {
      "text/plain": [
       "0.5465465465465466"
      ]
     },
     "execution_count": 57,
     "metadata": {},
     "output_type": "execute_result"
    }
   ],
   "source": [
    "predicted_test = best_forestmodel.predict(features_test)\n",
    "f1_score(target_test, predicted_test)"
   ]
  },
  {
   "cell_type": "markdown",
   "metadata": {},
   "source": [
    "El valor F1 disminuyó en un 1.06 %, y la exactitud baja en 0.4286%, con lo que el modelo mejorado es mejor, esto debido a que no hay un modelo perfecto."
   ]
  },
  {
   "cell_type": "markdown",
   "metadata": {},
   "source": [
    "#### Balance de clases <a id='balance'></a>"
   ]
  },
  {
   "cell_type": "code",
   "execution_count": 58,
   "metadata": {},
   "outputs": [
    {
     "name": "stdout",
     "output_type": "stream",
     "text": [
      "(n_estimators = 25): F1= 0.5252960172228203\n"
     ]
    }
   ],
   "source": [
    "best_forestscore = 0\n",
    "best_forestest = 0\n",
    "best_forestmodelb = None\n",
    "for est in range(1,29):\n",
    "    forestmodelb = RandomForestClassifier(random_state=12345, n_estimators=est, class_weight='balanced')\n",
    "    forestmodelb.fit(features_train, target_train)\n",
    "    predict_valid = forestmodelb.predict(features_valid)\n",
    "    forestscore = f1_score(target_valid, predict_valid)\n",
    "    if forestscore > best_forestscore:\n",
    "        best_forestscore = forestscore\n",
    "        best_forestest = est\n",
    "        best_forestmodelb = forestmodelb\n",
    "print(\"(n_estimators = {}): F1= {}\".format(best_forestest, best_forestscore))"
   ]
  },
  {
   "cell_type": "code",
   "execution_count": 59,
   "metadata": {},
   "outputs": [
    {
     "data": {
      "text/plain": [
       "0.5518341307814992"
      ]
     },
     "execution_count": 59,
     "metadata": {},
     "output_type": "execute_result"
    }
   ],
   "source": [
    "predicted_test = best_forestmodelb.predict(features_test)\n",
    "f1_score(target_test, predicted_test)"
   ]
  },
  {
   "cell_type": "markdown",
   "metadata": {},
   "source": [
    "####  Sobremuestreo <a id='upsample'></a>"
   ]
  },
  {
   "cell_type": "markdown",
   "metadata": {},
   "source": [
    "Se usarán los datos de sobremuestreo anteriores"
   ]
  },
  {
   "cell_type": "markdown",
   "metadata": {},
   "source": [
    "Se entrena nuevamente el modelo, con los datos de sobremuestreo"
   ]
  },
  {
   "cell_type": "code",
   "execution_count": 60,
   "metadata": {},
   "outputs": [
    {
     "name": "stdout",
     "output_type": "stream",
     "text": [
      "(n_estimators = 27): F1= 0.5436363636363637\n"
     ]
    }
   ],
   "source": [
    "best_forestscore = 0\n",
    "best_forestest = 0\n",
    "best_forestmodel_upsam = None\n",
    "for est in range(1,29):\n",
    "    forestmodel_upsam = RandomForestClassifier(random_state=12345, n_estimators=est)\n",
    "    forestmodel_upsam.fit(features_upsampled, target_upsampled)\n",
    "    predict_valid = forestmodel_upsam.predict(features_valid)\n",
    "    forestscore = f1_score(target_valid, predict_valid)\n",
    "    if forestscore > best_forestscore:\n",
    "        best_forestscore = forestscore\n",
    "        best_forestest = est\n",
    "        best_forestmodel_upsam = forestmodel_upsam\n",
    "print(\"(n_estimators = {}): F1= {}\".format(best_forestest, best_forestscore))"
   ]
  },
  {
   "cell_type": "code",
   "execution_count": 61,
   "metadata": {},
   "outputs": [
    {
     "data": {
      "text/plain": [
       "0.5504087193460491"
      ]
     },
     "execution_count": 61,
     "metadata": {},
     "output_type": "execute_result"
    }
   ],
   "source": [
    "predicted_test = best_forestmodel_upsam.predict(features_test)\n",
    "f1_score(target_test, predicted_test)"
   ]
  },
  {
   "cell_type": "markdown",
   "metadata": {},
   "source": [
    "Con un sobremuestreo, el valor f1 nos da resultado de 1, hasta el momento es el modelo más exacto que se ha obtenido modificando los hiperpárametros."
   ]
  },
  {
   "cell_type": "code",
   "execution_count": 62,
   "metadata": {},
   "outputs": [
    {
     "name": "stdout",
     "output_type": "stream",
     "text": [
      "(n_estimators = 27): F1= 0.5701357466063348\n"
     ]
    }
   ],
   "source": [
    "best_forestscore = 0\n",
    "best_forestest = 0\n",
    "best_forestmodel_upsamb = None\n",
    "for est in range(1,29):\n",
    "    forestmodel_upsamb = RandomForestClassifier(random_state=12345, n_estimators=est, class_weight='balanced')\n",
    "    forestmodel_upsamb.fit(features_upsampled, target_upsampled)\n",
    "    predict_valid = forestmodel_upsamb.predict(features_valid)\n",
    "    forestscore = f1_score(target_valid, predict_valid)\n",
    "    if forestscore > best_forestscore:\n",
    "        best_forestscore = forestscore\n",
    "        best_forestest = est\n",
    "        best_forestmodel_upsamb = forestmodel_upsamb\n",
    "print(\"(n_estimators = {}): F1= {}\".format(best_forestest, best_forestscore))"
   ]
  },
  {
   "cell_type": "code",
   "execution_count": 63,
   "metadata": {},
   "outputs": [
    {
     "data": {
      "text/plain": [
       "0.5618915159944368"
      ]
     },
     "execution_count": 63,
     "metadata": {},
     "output_type": "execute_result"
    }
   ],
   "source": [
    "predicted_test = best_forestmodel_upsamb.predict(features_test)\n",
    "f1_score(target_test, predicted_test)"
   ]
  },
  {
   "cell_type": "markdown",
   "metadata": {},
   "source": [
    "#### Submuestreo <a id='downsample'></a>"
   ]
  },
  {
   "cell_type": "markdown",
   "metadata": {},
   "source": [
    "Se usarán los datasets de submuestreo creados anteriormente"
   ]
  },
  {
   "cell_type": "markdown",
   "metadata": {},
   "source": [
    "Se entrena el modelo buscando el mejor valor de F1"
   ]
  },
  {
   "cell_type": "code",
   "execution_count": 64,
   "metadata": {},
   "outputs": [
    {
     "name": "stdout",
     "output_type": "stream",
     "text": [
      "(n_estimators = 12): F1= 0.4664065886432597\n"
     ]
    }
   ],
   "source": [
    "best_forestscore = 0\n",
    "best_forestest = 0\n",
    "best_forestmodel_subsam = None\n",
    "for est in range(1,29):\n",
    "    forestmodel_subsam = RandomForestClassifier(random_state=12345, n_estimators=est)\n",
    "    forestmodel_subsam.fit(features_downsampled, target_downsampled)\n",
    "    predict_valid = forestmodel_subsam.predict(features_valid)\n",
    "    forestscore = f1_score(target_valid, predict_valid)\n",
    "    if forestscore > best_forestscore:\n",
    "        best_forestscore = forestscore\n",
    "        best_forestest = est\n",
    "        best_forestmodel_subsam = forestmodel_subsam\n",
    "print(\"(n_estimators = {}): F1= {}\".format(best_forestest, best_forestscore))"
   ]
  },
  {
   "cell_type": "code",
   "execution_count": 65,
   "metadata": {},
   "outputs": [
    {
     "data": {
      "text/plain": [
       "0.45933636955107354"
      ]
     },
     "execution_count": 65,
     "metadata": {},
     "output_type": "execute_result"
    }
   ],
   "source": [
    "predicted_test = best_forestmodel_subsam.predict(features_test)\n",
    "f1_score(target_test, predicted_test)"
   ]
  },
  {
   "cell_type": "markdown",
   "metadata": {},
   "source": [
    "El valor F1 obtenido con un submuestreo es cerca del 50% por lo que descartamos este modelo."
   ]
  },
  {
   "cell_type": "code",
   "execution_count": 66,
   "metadata": {},
   "outputs": [
    {
     "name": "stdout",
     "output_type": "stream",
     "text": [
      "(n_estimators = 14): F1= 0.46219564288765486\n"
     ]
    }
   ],
   "source": [
    "best_forestscore = 0\n",
    "best_forestest = 0\n",
    "best_forestmodel_subsamb = None\n",
    "for est in range(1,29):\n",
    "    forestmodel_subsamb = RandomForestClassifier(random_state=12345, n_estimators=est, class_weight='balanced')\n",
    "    forestmodel_subsamb.fit(features_downsampled, target_downsampled)\n",
    "    predict_valid = forestmodel_subsamb.predict(features_valid)\n",
    "    forestscore = f1_score(target_valid, predict_valid)\n",
    "    if forestscore > best_forestscore:\n",
    "        best_forestscore = forestscore\n",
    "        best_forestest = est\n",
    "        best_forestmodel_subsamb = forestmodel_subsamb\n",
    "print(\"(n_estimators = {}): F1= {}\".format(best_forestest, best_forestscore))"
   ]
  },
  {
   "cell_type": "code",
   "execution_count": 67,
   "metadata": {},
   "outputs": [
    {
     "data": {
      "text/plain": [
       "0.4702842377260982"
      ]
     },
     "execution_count": 67,
     "metadata": {},
     "output_type": "execute_result"
    }
   ],
   "source": [
    "predicted_test = best_forestmodel_subsamb.predict(features_test)\n",
    "f1_score(target_test, predicted_test)"
   ]
  },
  {
   "cell_type": "markdown",
   "metadata": {},
   "source": [
    "## Modelo Regresión Lógistica <a id='regresion'></a>"
   ]
  },
  {
   "cell_type": "code",
   "execution_count": 68,
   "metadata": {},
   "outputs": [
    {
     "data": {
      "text/plain": [
       "LogisticRegression(random_state=12345, solver='liblinear')"
      ]
     },
     "execution_count": 68,
     "metadata": {},
     "output_type": "execute_result"
    }
   ],
   "source": [
    "regresionmodel = LogisticRegression(random_state=12345, solver='liblinear')\n",
    "regresionmodel.fit(features_train, target_train)"
   ]
  },
  {
   "cell_type": "markdown",
   "metadata": {},
   "source": [
    "### Validación de modelo <a id='validation'></a>"
   ]
  },
  {
   "cell_type": "markdown",
   "metadata": {},
   "source": [
    "#### Recall <a id='recall'></a>"
   ]
  },
  {
   "cell_type": "code",
   "execution_count": 69,
   "metadata": {},
   "outputs": [
    {
     "data": {
      "text/plain": [
       "0.49432739059967584"
      ]
     },
     "execution_count": 69,
     "metadata": {},
     "output_type": "execute_result"
    }
   ],
   "source": [
    "recall_score(target_valid, predicted_valid)"
   ]
  },
  {
   "cell_type": "markdown",
   "metadata": {},
   "source": [
    "#### Precisión <a id='precision'></a>"
   ]
  },
  {
   "cell_type": "markdown",
   "metadata": {},
   "source": [
    "Al obtener un recall de 1, vamos a calcular la precisión y el valor F1"
   ]
  },
  {
   "cell_type": "markdown",
   "metadata": {},
   "source": [
    "Mediremos la precisión de los valores \"positivos\", es decir los usuarios que han dejado de usar el banco"
   ]
  },
  {
   "cell_type": "code",
   "execution_count": 70,
   "metadata": {},
   "outputs": [
    {
     "data": {
      "text/plain": [
       "0.4635258358662614"
      ]
     },
     "execution_count": 70,
     "metadata": {},
     "output_type": "execute_result"
    }
   ],
   "source": [
    "precision_score(target_valid, predicted_valid)"
   ]
  },
  {
   "cell_type": "markdown",
   "metadata": {},
   "source": [
    "#### Valor F1 <a id='f1'></a>"
   ]
  },
  {
   "cell_type": "code",
   "execution_count": 71,
   "metadata": {},
   "outputs": [
    {
     "data": {
      "text/plain": [
       "0.4784313725490197"
      ]
     },
     "execution_count": 71,
     "metadata": {},
     "output_type": "execute_result"
    }
   ],
   "source": [
    "f1_score(target_valid, predicted_valid)"
   ]
  },
  {
   "cell_type": "code",
   "execution_count": 72,
   "metadata": {},
   "outputs": [
    {
     "data": {
      "text/plain": [
       "0.0"
      ]
     },
     "execution_count": 72,
     "metadata": {},
     "output_type": "execute_result"
    }
   ],
   "source": [
    "predicted_test = regresionmodel.predict(features_test)\n",
    "f1_score(target_test, predicted_test)"
   ]
  },
  {
   "cell_type": "markdown",
   "metadata": {},
   "source": [
    "### Mejorar modelo"
   ]
  },
  {
   "cell_type": "markdown",
   "metadata": {},
   "source": [
    "Se usará el hiperpárametro class_weight con el valor `balanced`, para verificar si podemos usar el modelo de regresión lógistica"
   ]
  },
  {
   "cell_type": "markdown",
   "metadata": {},
   "source": [
    "#### Balance de clases"
   ]
  },
  {
   "cell_type": "code",
   "execution_count": 73,
   "metadata": {},
   "outputs": [
    {
     "data": {
      "text/plain": [
       "LogisticRegression(class_weight='balanced', random_state=12345,\n",
       "                   solver='liblinear')"
      ]
     },
     "execution_count": 73,
     "metadata": {},
     "output_type": "execute_result"
    }
   ],
   "source": [
    "best_regresionmodel = LogisticRegression(random_state=12345, solver='liblinear', class_weight='balanced')\n",
    "best_regresionmodel.fit(features_train, target_train)"
   ]
  },
  {
   "cell_type": "code",
   "execution_count": 74,
   "metadata": {},
   "outputs": [
    {
     "data": {
      "text/plain": [
       "0.2892249527410208"
      ]
     },
     "execution_count": 74,
     "metadata": {},
     "output_type": "execute_result"
    }
   ],
   "source": [
    "predicted_valid = best_regresionmodel.predict(features_valid)\n",
    "f1_score(target_valid, predicted_valid)"
   ]
  },
  {
   "cell_type": "code",
   "execution_count": 75,
   "metadata": {},
   "outputs": [
    {
     "data": {
      "text/plain": [
       "0.30735930735930733"
      ]
     },
     "execution_count": 75,
     "metadata": {},
     "output_type": "execute_result"
    }
   ],
   "source": [
    "predicted_test = best_regresionmodel.predict(features_test)\n",
    "f1_score(target_test, predicted_test)"
   ]
  },
  {
   "cell_type": "markdown",
   "metadata": {},
   "source": [
    "El modelo de regresión logística no es bueno para nuestros datos, por lo que lo descartamos."
   ]
  },
  {
   "cell_type": "markdown",
   "metadata": {},
   "source": [
    "## Conclusión modelos <a id='models'></a>"
   ]
  },
  {
   "cell_type": "markdown",
   "metadata": {},
   "source": [
    "Comparando los resultados de los modelos previos, se llega a la conclusión que el modelo `Bosque Aleatorio`, con número de estimaciones igual `16`, clases `balanceadas` y con `sobremuestreo` a es el más adecuado para continuar con este proyecto, esto debido a que obtiene el valor F1 más alto de todos (1.0)."
   ]
  },
  {
   "cell_type": "markdown",
   "metadata": {},
   "source": [
    "## Umbral de clasificación <a id='umbral'></a>"
   ]
  },
  {
   "cell_type": "markdown",
   "metadata": {},
   "source": [
    "Se realizará un ajuste al umbral al modelo, buscando ajustar y mejorar las métricas. Nuevamente se entrenará al modelo con los datasets *features_train* y *target_train*"
   ]
  },
  {
   "cell_type": "code",
   "execution_count": 76,
   "metadata": {},
   "outputs": [],
   "source": [
    "probabilities_valid = best_treemodel_upsamb.predict_proba(features_valid)\n",
    "probabilities_one_valid = probabilities_valid[:,1]"
   ]
  },
  {
   "cell_type": "code",
   "execution_count": 77,
   "metadata": {
    "scrolled": false
   },
   "outputs": [
    {
     "name": "stdout",
     "output_type": "stream",
     "text": [
      "Threshold = 0.00 | Precision = 0.204, Recall = 0.976\n",
      "Threshold = 0.05 | Precision = 0.247, Recall = 0.955\n",
      "Threshold = 0.10 | Precision = 0.247, Recall = 0.955\n",
      "Threshold = 0.15 | Precision = 0.260, Recall = 0.950\n",
      "Threshold = 0.20 | Precision = 0.326, Recall = 0.890\n",
      "Threshold = 0.25 | Precision = 0.326, Recall = 0.890\n",
      "Threshold = 0.30 | Precision = 0.337, Recall = 0.878\n",
      "Threshold = 0.35 | Precision = 0.342, Recall = 0.870\n",
      "Threshold = 0.40 | Precision = 0.398, Recall = 0.784\n",
      "Threshold = 0.45 | Precision = 0.462, Recall = 0.692\n",
      "Threshold = 0.50 | Precision = 0.505, Recall = 0.682\n",
      "Threshold = 0.55 | Precision = 0.505, Recall = 0.682\n",
      "Threshold = 0.60 | Precision = 0.507, Recall = 0.682\n",
      "Threshold = 0.65 | Precision = 0.535, Recall = 0.655\n",
      "Threshold = 0.70 | Precision = 0.681, Recall = 0.519\n",
      "Threshold = 0.75 | Precision = 0.719, Recall = 0.476\n",
      "Threshold = 0.80 | Precision = 0.719, Recall = 0.476\n",
      "Threshold = 0.85 | Precision = 0.791, Recall = 0.399\n",
      "Threshold = 0.90 | Precision = 0.831, Recall = 0.295\n",
      "Threshold = 0.95 | Precision = 0.831, Recall = 0.295\n"
     ]
    }
   ],
   "source": [
    "for threshold in np.arange(0, 1.0, 0.05):\n",
    "    predicted_valid = probabilities_one_valid > threshold\n",
    "    precision = precision_score(target_valid, predicted_valid)\n",
    "    recall = recall_score(target_valid, predicted_valid)\n",
    "    print(\n",
    "        'Threshold = {:.2f} | Precision = {:.3f}, Recall = {:.3f}'.format(\n",
    "            threshold, precision, recall\n",
    "        ))"
   ]
  },
  {
   "cell_type": "markdown",
   "metadata": {},
   "source": [
    "Se grafican estos valores"
   ]
  },
  {
   "cell_type": "code",
   "execution_count": 78,
   "metadata": {
    "scrolled": false
   },
   "outputs": [
    {
     "data": {
      "image/png": "[encoded data removed]",
      "text/plain": [
       "<Figure size 432x432 with 1 Axes>"
      ]
     },
     "metadata": {
      "needs_background": "light"
     },
     "output_type": "display_data"
    }
   ],
   "source": [
    "precision, recall, thresholds = precision_recall_curve(\n",
    "    target_valid, probabilities_valid[:, 1]\n",
    ")\n",
    "\n",
    "plt.figure(figsize=(6, 6))\n",
    "plt.step(recall, precision, where='post')\n",
    "plt.xlabel('Recall')\n",
    "plt.ylabel('Precision')\n",
    "plt.ylim([0.0, 1.05])\n",
    "plt.xlim([0.0, 1.0])\n",
    "plt.title('Precision-Recall Curve')\n",
    "plt.show() "
   ]
  },
  {
   "cell_type": "markdown",
   "metadata": {},
   "source": [
    "Gracias al gráfico de arriba podemos determinar que nuestro modelo funciona de manera correcta. La teoría nos define que entre mas elevada sea la curva mejor es el modelo.\n",
    "Con esto nuestro modelo entrenado con un árbol de decisiones funcionará correctamente para lo que busca el banco con sus clientes."
   ]
  },
  {
   "cell_type": "markdown",
   "metadata": {},
   "source": [
    "## Curva ROC <a id='roc'></a>"
   ]
  },
  {
   "cell_type": "code",
   "execution_count": 79,
   "metadata": {
    "scrolled": false
   },
   "outputs": [
    {
     "data": {
      "image/png": "[encoded data removed]",
      "text/plain": [
       "<Figure size 432x288 with 1 Axes>"
      ]
     },
     "metadata": {
      "needs_background": "light"
     },
     "output_type": "display_data"
    }
   ],
   "source": [
    "fpr, tpr, thresholds = roc_curve(target_valid, probabilities_one_valid)\n",
    "plt.figure()\n",
    "plt.plot(fpr, tpr)\n",
    "plt.plot([0,1],[0,1], linestyle='--')\n",
    "plt.xlim([0.0,1.0])\n",
    "plt.ylim([0.0,1.0])\n",
    "plt.xlabel('Tasa de falsos positivos')\n",
    "plt.ylabel('Tasa de verdadesor positivos')\n",
    "plt.title('Curva ROC')\n",
    "plt.show()"
   ]
  },
  {
   "cell_type": "code",
   "execution_count": 80,
   "metadata": {},
   "outputs": [
    {
     "data": {
      "text/plain": [
       "0.8237447723644862"
      ]
     },
     "execution_count": 80,
     "metadata": {},
     "output_type": "execute_result"
    }
   ],
   "source": [
    "roc_auc_score(target_valid, probabilities_one_valid)"
   ]
  },
  {
   "cell_type": "markdown",
   "metadata": {},
   "source": [
    "Para aclarar nuevamente si nuestro modelo es correcto, o podemos confiar en el se gráfico una curva ROC, también la teoría nos dice que entre mayor sea la curva presentada mejor calidad tiene el modelo entrenado."
   ]
  },
  {
   "cell_type": "markdown",
   "metadata": {},
   "source": [
    "## Prueba Test"
   ]
  },
  {
   "cell_type": "markdown",
   "metadata": {},
   "source": [
    "Con los dataset features_test y train_test se probará el modelo calculando el valor F1, Threshold y Roc_score"
   ]
  },
  {
   "cell_type": "code",
   "execution_count": 81,
   "metadata": {},
   "outputs": [],
   "source": [
    "predict_test = best_treemodel_upsamb.predict(features_test)"
   ]
  },
  {
   "cell_type": "code",
   "execution_count": 82,
   "metadata": {},
   "outputs": [
    {
     "data": {
      "text/plain": [
       "0.6004228329809724"
      ]
     },
     "execution_count": 82,
     "metadata": {},
     "output_type": "execute_result"
    }
   ],
   "source": [
    "f1_score(target_test,predict_test)"
   ]
  },
  {
   "cell_type": "code",
   "execution_count": 83,
   "metadata": {},
   "outputs": [],
   "source": [
    "model = DecisionTreeClassifier()"
   ]
  },
  {
   "cell_type": "code",
   "execution_count": 84,
   "metadata": {},
   "outputs": [],
   "source": [
    "param_grid = {\n",
    "    'random_state': [12345],\n",
    "    'max_depth' : [6,8,14],\n",
    "    'class_weight' :['balanced',None]\n",
    "}"
   ]
  },
  {
   "cell_type": "code",
   "execution_count": 85,
   "metadata": {},
   "outputs": [],
   "source": [
    "CV_tdc = GridSearchCV(estimator = model, param_grid = param_grid, cv = 3)"
   ]
  },
  {
   "cell_type": "code",
   "execution_count": 86,
   "metadata": {},
   "outputs": [
    {
     "data": {
      "text/plain": [
       "GridSearchCV(cv=3, estimator=DecisionTreeClassifier(),\n",
       "             param_grid={'class_weight': ['balanced', None],\n",
       "                         'max_depth': [6, 8, 14], 'random_state': [12345]})"
      ]
     },
     "execution_count": 86,
     "metadata": {},
     "output_type": "execute_result"
    }
   ],
   "source": [
    "CV_tdc.fit(features_train, target_train)"
   ]
  },
  {
   "cell_type": "code",
   "execution_count": 87,
   "metadata": {},
   "outputs": [
    {
     "data": {
      "text/plain": [
       "{'class_weight': None, 'max_depth': 6, 'random_state': 12345}"
      ]
     },
     "execution_count": 87,
     "metadata": {},
     "output_type": "execute_result"
    }
   ],
   "source": [
    "CV_tdc.best_params_"
   ]
  },
  {
   "cell_type": "code",
   "execution_count": 88,
   "metadata": {},
   "outputs": [],
   "source": [
    "model_best = DecisionTreeClassifier(class_weight=None, max_depth = 6, random_state = 12345)"
   ]
  },
  {
   "cell_type": "code",
   "execution_count": 89,
   "metadata": {},
   "outputs": [
    {
     "data": {
      "text/plain": [
       "DecisionTreeClassifier(max_depth=6, random_state=12345)"
      ]
     },
     "execution_count": 89,
     "metadata": {},
     "output_type": "execute_result"
    }
   ],
   "source": [
    "model_best.fit(features_train, target_train)"
   ]
  },
  {
   "cell_type": "code",
   "execution_count": 90,
   "metadata": {},
   "outputs": [
    {
     "data": {
      "text/plain": [
       "0.503954802259887"
      ]
     },
     "execution_count": 90,
     "metadata": {},
     "output_type": "execute_result"
    }
   ],
   "source": [
    "predict_valid = model_best.predict(features_valid)\n",
    "f1_score(target_valid,predict_valid)"
   ]
  },
  {
   "cell_type": "code",
   "execution_count": 91,
   "metadata": {},
   "outputs": [
    {
     "data": {
      "text/plain": [
       "0.499151103565365"
      ]
     },
     "execution_count": 91,
     "metadata": {},
     "output_type": "execute_result"
    }
   ],
   "source": [
    "predict_test = model_best.predict(features_test)\n",
    "f1_score(target_test,predict_test)"
   ]
  },
  {
   "cell_type": "markdown",
   "metadata": {},
   "source": [
    "## Conclusión <a id='conclusion'></a>"
   ]
  },
  {
   "cell_type": "markdown",
   "metadata": {},
   "source": [
    "En este proyecto se busca encontrar un modelo que pueda predecir si un cliente va a dejar de utilizar los servicios de un banco. Se nos proporcionaron datos de 10000 usuarios del banco, entre los que se encuentran usuarios activos y usuarios que dejaron el banco en definitiva.\n",
    "Para comenzar el proyecto se realizó, un análisis exploratorio, en el que se encontraron valores ausentes en una de las columnas, los cuales se sustituyeron por un valor de 0.\n",
    "\n",
    "Ya con los datos arreglados, se busco el preprocesamiento de los datos para poderlos ingresar a los modelos. En primer lugar, se utiliza la codificación One-Hot, con lo que usamos las columnas con valores categóricos se clasifican dejando columnas con valores númericos, despúes se uso la escalada estándar para las columnas númericas normalizarlas y el modelo pueda utilizarlas de mejor forma.\n",
    "\n",
    "Con los datos arreglados, se crean los datasets, feratures, target y test, en features se almacenan todas las columnas de las características que el modelo tomará en cuenta, y en target se almacena la variable objetivo, mientras que en test se almacenan filas de datos para hacer la prueba del modelo final. Estos datasets se dividen a su vez en train y valid.\n",
    "\n",
    "Tomando los datasets train, se entrena cada modelo (árbol de decisiones, bosque aleatorio y regresión logística) y se cálcula la exactitud del modelo, de inicio se dejan los valores de hiperparámetros por default, solo defininendo random_state. Con esta configuración se obtiene un valor de exactitud; también se calcularon los valores de recall, precisión y F1, para cada modelo obteniendo que el modelo de árbol de decisiones y bosque aleatorio obtuvieron los valores más altos con un F1=1.\n",
    "\n",
    "Con estos datos de base se mejoraron los modelos buscando la mejor configuración de los hiperparámetros, en este caso se busco modificar max_depth para árbol de decisiones, encontrando que con una produndidad de 19 se obtiene la exactitud mayor. Se recalcula la métrica F1, para verificar si hubo mejoría, encontrando que el valor cambio a 0.98933, lo cual incremento el valor y se determina que el modelo tiene mejor calidad que el anterior.\n",
    "\n",
    "Se realizó un estudio de balance de clases, con el hiperparámetro class_balance como `balanced`, buscando el mejor valor en max_depth con lo que el valor de F1 incrementó a un 0.9886, lo cual no mejora el modelo, por lo que continuamos con el anterior.\n",
    "\n",
    "Se buscó si con un sobremuestreo o un submuestreo podríamos mejorar los valores de las métricas, con estos análisis el valor de F1 disminuyé para el sobremuestreo obtenemos un valor de 0.937 y para el submuestreo fue de 0.5435, se omiten estos análisis debido a que no hubo mejora en el modelo.\n",
    "\n",
    "Se realizó lo antreior para cada uno de los modelos y se encontró que el modelo de bosque aleatorio con clases balanceadas y número de estimaciones de 17 nos da un valor F1 de 1.0\n",
    "\n",
    "Para finalizar se busca el umbral de clasificación, en el que se calcula el Threshold (límite), y se realiza el gráfico con los valores para revisar la calidad del modelo con las probabilidades de que se obtengan las clases. De igual forma se realiza el cálculo de ROC y se gráfica, con estos dos últimos gráficos podemos observar que nuestro modelo cumple con una buena calidad, y podemos estar seguros que obtendremos predicciones adecuadas a lo que solicita el banco.\n"
   ]
  }
 ],
 "metadata": {
  "kernelspec": {
   "display_name": "Python 3 (ipykernel)",
   "language": "python",
   "name": "python3"
  },
  "language_info": {
   "codemirror_mode": {
    "name": "ipython",
    "version": 3
   },
   "file_extension": ".py",
   "mimetype": "text/x-python",
   "name": "python",
   "nbconvert_exporter": "python",
   "pygments_lexer": "ipython3",
   "version": "3.9.5"
  },
  "toc": {
   "base_numbering": 1,
   "nav_menu": {},
   "number_sections": true,
   "sideBar": true,
   "skip_h1_title": true,
   "title_cell": "Table of Contents",
   "title_sidebar": "Contents",
   "toc_cell": false,
   "toc_position": {},
   "toc_section_display": true,
   "toc_window_display": false
  }
 },
 "nbformat": 4,
 "nbformat_minor": 2
}
