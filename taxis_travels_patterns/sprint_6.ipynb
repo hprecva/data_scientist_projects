{
 "cells": [
  {
   "cell_type": "markdown",
   "metadata": {},
   "source": [
    "# ¡Hola Hector!\n",
    "\n",
    "Mi nombre es Ezequiel Ferrario, soy code reviewer en Practicum y tengo el agrado de revisar el proyecto que entregaste.\n",
    "\n",
    "Para simular la dinámica de un ambiente de trabajo, si veo algún error, en primer instancia solo los señalaré, dándote la oportunidad de encontrarlos y corregirlos por tu cuenta. En un trabajo real, el líder de tu equipo hará una dinámica similar. En caso de que no puedas resolver la tarea, te daré una información más precisa en la próxima revisión.\n",
    "\n",
    "Encontrarás mis comentarios más abajo - *por favor, no los muevas, no los modifiques ni los borres*.\n",
    "\n",
    "¿Cómo lo voy a hacer? Voy a leer detenidamente cada una de las implementaciones que has llevado a cabo para cumplir con lo solicitado. Verás los comentarios de esta forma:\n",
    "\n",
    "<div class=\"alert alert-block alert-success\">\n",
    "<b>Comentario del revisor</b> <a class=\"tocSkip\"></a>\n",
    "\n",
    "Si todo está perfecto.\n",
    "</div>\n",
    "\n",
    "<div class=\"alert alert-block alert-warning\">\n",
    "<b>Comentario del revisor</b> <a class=\"tocSkip\"></a>\n",
    "\n",
    "Si tu código está bien pero se puede mejorar o hay algún detalle que le hace falta. Se aceptan uno o dos comentarios de este tipo en el borrador, pero si hay más, deberá hacer las correcciones. Es como una tarea de prueba al solicitar un trabajo: muchos pequeños errores pueden hacer que un candidato sea rechazado.\n",
    "</div>\n",
    "\n",
    "<div class=\"alert alert-block alert-danger\">\n",
    "\n",
    "<b>Comentario del revisor</b> <a class=\"tocSkip\"></a>\n",
    "\n",
    "Si de pronto hace falta algo o existe algún problema con tu código o conclusiones.\n",
    "</div>\n",
    "\n",
    "Puedes responderme de esta forma:\n",
    "\n",
    "<div class=\"alert alert-block alert-info\">\n",
    "<b>Respuesta del estudiante</b> <a class=\"tocSkip\"></a>\n",
    "\n",
    "Hola, muchas gracias por tus comentarios y la revisión.\n",
    "</div>\n",
    "\n",
    "¡Empecemos!"
   ]
  },
  {
   "cell_type": "markdown",
   "metadata": {},
   "source": [
    "# Contents <a id='back'></a>\n",
    "\n",
    "* [Introducción](#intro)\n",
    "* [Inicialización](#init)\n",
    "    * [Preparar datos](#prepatation)\n",
    "    * [Corrección de datos](#correction)\n",
    "* [Descripción de los datos](#data_review)\n",
    "* [Gráficos descriptivos](#graphics)\n",
    "    * [Conclusiones gráficos](#graphics_conclusions)\n",
    "* [Prueba de hipótesis](#hypotheses)\n",
    "    * [Declaraciones de hipótesis](#hypotheses_declaration)\n",
    "    * [Prueba Levene](#levene)\n",
    "        * [Conclusión Levene](#levene_conclusion)\n",
    "    * [Prueba T-student](#tstudent)\n",
    "    * [Conclusiones hipótesis](#conclusions)\n",
    "* [Conclusiones](#end)"
   ]
  },
  {
   "cell_type": "markdown",
   "metadata": {},
   "source": [
    "# Viajes en Taxi en la ciudad de Chicago <a id='intro'></a>\n",
    "\n",
    "Una empresa de viajes compartidos que se está lanzando en Chicago, busca patrones en la información disponible buscando las preferencias de los pasajeros y el impacto de factores externos (clima) en los viajes."
   ]
  },
  {
   "cell_type": "markdown",
   "metadata": {},
   "source": [
    "<div class=\"alert alert-block alert-danger\">\n",
    "<b>Comentario del revisor</b> <a class=\"tocSkip\"></a>\n",
    "\n",
    "Hector, recorda realizar una tabla de contenidos, esto hara que sea mas facil navegar por el trabajo ademas de saber que nos vamos a encontrar con el mismo.\n",
    "   \n",
    "</div>"
   ]
  },
  {
   "cell_type": "markdown",
   "metadata": {},
   "source": [
    "## Inicialización <a id='init'></a>"
   ]
  },
  {
   "cell_type": "code",
   "execution_count": 1,
   "metadata": {},
   "outputs": [],
   "source": [
    "import pandas as pd\n",
    "from scipy import stats as st\n",
    "import numpy as np\n",
    "import matplotlib.pyplot as plt"
   ]
  },
  {
   "cell_type": "markdown",
   "metadata": {},
   "source": [
    " ## Cargar los datos <a id='data_review'></a>\n",
    " \n",
    " Se cargan las tablas de datos"
   ]
  },
  {
   "cell_type": "code",
   "execution_count": 2,
   "metadata": {},
   "outputs": [],
   "source": [
    "try:\n",
    "    companies = pd.read_csv('moved_project_sql_result_01.csv')\n",
    "    trips = pd.read_csv('moved_project_sql_result_04.csv')\n",
    "    trips_weather = pd.read_csv('moved_project_sql_result_07.csv')\n",
    "except:\n",
    "    companies = pd.read_csv('/datasets/project_sql_result_01.csv')\n",
    "    trips = pd.read_csv('/datasets/project_sql_result_04.csv')\n",
    "    trips_weather = pd.read_csv('/datasets/project_sql_result_07.csv')"
   ]
  },
  {
   "cell_type": "markdown",
   "metadata": {},
   "source": [
    "### Preparación de datos <a id='preparation'></a>\n",
    "\n",
    "Se muestra la información y las primeras filas de cada tabla."
   ]
  },
  {
   "cell_type": "code",
   "execution_count": 3,
   "metadata": {},
   "outputs": [
    {
     "name": "stdout",
     "output_type": "stream",
     "text": [
      "<class 'pandas.core.frame.DataFrame'>\n",
      "RangeIndex: 64 entries, 0 to 63\n",
      "Data columns (total 2 columns):\n",
      " #   Column        Non-Null Count  Dtype \n",
      "---  ------        --------------  ----- \n",
      " 0   company_name  64 non-null     object\n",
      " 1   trips_amount  64 non-null     int64 \n",
      "dtypes: int64(1), object(1)\n",
      "memory usage: 1.1+ KB\n"
     ]
    }
   ],
   "source": [
    "companies.info()"
   ]
  },
  {
   "cell_type": "code",
   "execution_count": 4,
   "metadata": {},
   "outputs": [
    {
     "data": {
      "text/html": [
       "<div>\n",
       "<style scoped>\n",
       "    .dataframe tbody tr th:only-of-type {\n",
       "        vertical-align: middle;\n",
       "    }\n",
       "\n",
       "    .dataframe tbody tr th {\n",
       "        vertical-align: top;\n",
       "    }\n",
       "\n",
       "    .dataframe thead th {\n",
       "        text-align: right;\n",
       "    }\n",
       "</style>\n",
       "<table border=\"1\" class=\"dataframe\">\n",
       "  <thead>\n",
       "    <tr style=\"text-align: right;\">\n",
       "      <th></th>\n",
       "      <th>trips_amount</th>\n",
       "    </tr>\n",
       "  </thead>\n",
       "  <tbody>\n",
       "    <tr>\n",
       "      <th>count</th>\n",
       "      <td>64.000000</td>\n",
       "    </tr>\n",
       "    <tr>\n",
       "      <th>mean</th>\n",
       "      <td>2145.484375</td>\n",
       "    </tr>\n",
       "    <tr>\n",
       "      <th>std</th>\n",
       "      <td>3812.310186</td>\n",
       "    </tr>\n",
       "    <tr>\n",
       "      <th>min</th>\n",
       "      <td>2.000000</td>\n",
       "    </tr>\n",
       "    <tr>\n",
       "      <th>25%</th>\n",
       "      <td>20.750000</td>\n",
       "    </tr>\n",
       "    <tr>\n",
       "      <th>50%</th>\n",
       "      <td>178.500000</td>\n",
       "    </tr>\n",
       "    <tr>\n",
       "      <th>75%</th>\n",
       "      <td>2106.500000</td>\n",
       "    </tr>\n",
       "    <tr>\n",
       "      <th>max</th>\n",
       "      <td>19558.000000</td>\n",
       "    </tr>\n",
       "  </tbody>\n",
       "</table>\n",
       "</div>"
      ],
      "text/plain": [
       "       trips_amount\n",
       "count     64.000000\n",
       "mean    2145.484375\n",
       "std     3812.310186\n",
       "min        2.000000\n",
       "25%       20.750000\n",
       "50%      178.500000\n",
       "75%     2106.500000\n",
       "max    19558.000000"
      ]
     },
     "execution_count": 4,
     "metadata": {},
     "output_type": "execute_result"
    }
   ],
   "source": [
    "companies.describe()"
   ]
  },
  {
   "cell_type": "code",
   "execution_count": 5,
   "metadata": {},
   "outputs": [
    {
     "data": {
      "text/html": [
       "<div>\n",
       "<style scoped>\n",
       "    .dataframe tbody tr th:only-of-type {\n",
       "        vertical-align: middle;\n",
       "    }\n",
       "\n",
       "    .dataframe tbody tr th {\n",
       "        vertical-align: top;\n",
       "    }\n",
       "\n",
       "    .dataframe thead th {\n",
       "        text-align: right;\n",
       "    }\n",
       "</style>\n",
       "<table border=\"1\" class=\"dataframe\">\n",
       "  <thead>\n",
       "    <tr style=\"text-align: right;\">\n",
       "      <th></th>\n",
       "      <th>company_name</th>\n",
       "      <th>trips_amount</th>\n",
       "    </tr>\n",
       "  </thead>\n",
       "  <tbody>\n",
       "    <tr>\n",
       "      <th>0</th>\n",
       "      <td>Flash Cab</td>\n",
       "      <td>19558</td>\n",
       "    </tr>\n",
       "    <tr>\n",
       "      <th>1</th>\n",
       "      <td>Taxi Affiliation Services</td>\n",
       "      <td>11422</td>\n",
       "    </tr>\n",
       "    <tr>\n",
       "      <th>2</th>\n",
       "      <td>Medallion Leasing</td>\n",
       "      <td>10367</td>\n",
       "    </tr>\n",
       "    <tr>\n",
       "      <th>3</th>\n",
       "      <td>Yellow Cab</td>\n",
       "      <td>9888</td>\n",
       "    </tr>\n",
       "    <tr>\n",
       "      <th>4</th>\n",
       "      <td>Taxi Affiliation Service Yellow</td>\n",
       "      <td>9299</td>\n",
       "    </tr>\n",
       "  </tbody>\n",
       "</table>\n",
       "</div>"
      ],
      "text/plain": [
       "                      company_name  trips_amount\n",
       "0                        Flash Cab         19558\n",
       "1        Taxi Affiliation Services         11422\n",
       "2                Medallion Leasing         10367\n",
       "3                       Yellow Cab          9888\n",
       "4  Taxi Affiliation Service Yellow          9299"
      ]
     },
     "execution_count": 5,
     "metadata": {},
     "output_type": "execute_result"
    }
   ],
   "source": [
    "companies.head()"
   ]
  },
  {
   "cell_type": "code",
   "execution_count": 6,
   "metadata": {},
   "outputs": [
    {
     "data": {
      "text/plain": [
       "0"
      ]
     },
     "execution_count": 6,
     "metadata": {},
     "output_type": "execute_result"
    }
   ],
   "source": [
    "companies.duplicated().sum()"
   ]
  },
  {
   "cell_type": "markdown",
   "metadata": {},
   "source": [
    "La tabla companies no cuenta con valores duplicados, tiene 64 registros de compañías que ofrecen el servicio de taxi en la ciudad de Chicago."
   ]
  },
  {
   "cell_type": "markdown",
   "metadata": {},
   "source": [
    "<div class=\"alert alert-block alert-danger\">\n",
    "<b>Comentario del revisor</b> <a class=\"tocSkip\"></a>\n",
    "\n",
    "Recorda utilizar el metodo describe(). Este es vital para toda exploracion rapida de los datos iniciales, nos proporcionara un panorama de aquellas variables numericas.   \n",
    "</div>\n",
    "\n",
    "<div class=\"alert alert-block alert-danger\">\n",
    "<b>Comentario del revisor</b> <a class=\"tocSkip\"></a>\n",
    "\n",
    "Verifica si existen datos duplicados.</div>\n",
    "\n",
    "<div class=\"alert alert-block alert-danger\">\n",
    "<b>Comentario del revisor</b> <a class=\"tocSkip\"></a>\n",
    "\n",
    "Describi lo que observas con esta exploracion (identifica los datos faltantes) y conclui al respecto con un markdown.</div>\n",
    "\n",
    "<div class=\"alert alert-block alert-success\">\n",
    "<b>Comentario del revisor #2</b> <a class=\"tocSkip\"></a>\n",
    "\n",
    "Corregido</div>"
   ]
  },
  {
   "cell_type": "code",
   "execution_count": 7,
   "metadata": {},
   "outputs": [
    {
     "name": "stdout",
     "output_type": "stream",
     "text": [
      "<class 'pandas.core.frame.DataFrame'>\n",
      "RangeIndex: 94 entries, 0 to 93\n",
      "Data columns (total 2 columns):\n",
      " #   Column                 Non-Null Count  Dtype  \n",
      "---  ------                 --------------  -----  \n",
      " 0   dropoff_location_name  94 non-null     object \n",
      " 1   average_trips          94 non-null     float64\n",
      "dtypes: float64(1), object(1)\n",
      "memory usage: 1.6+ KB\n"
     ]
    }
   ],
   "source": [
    "trips.info()"
   ]
  },
  {
   "cell_type": "code",
   "execution_count": 8,
   "metadata": {},
   "outputs": [
    {
     "data": {
      "text/html": [
       "<div>\n",
       "<style scoped>\n",
       "    .dataframe tbody tr th:only-of-type {\n",
       "        vertical-align: middle;\n",
       "    }\n",
       "\n",
       "    .dataframe tbody tr th {\n",
       "        vertical-align: top;\n",
       "    }\n",
       "\n",
       "    .dataframe thead th {\n",
       "        text-align: right;\n",
       "    }\n",
       "</style>\n",
       "<table border=\"1\" class=\"dataframe\">\n",
       "  <thead>\n",
       "    <tr style=\"text-align: right;\">\n",
       "      <th></th>\n",
       "      <th>average_trips</th>\n",
       "    </tr>\n",
       "  </thead>\n",
       "  <tbody>\n",
       "    <tr>\n",
       "      <th>count</th>\n",
       "      <td>94.000000</td>\n",
       "    </tr>\n",
       "    <tr>\n",
       "      <th>mean</th>\n",
       "      <td>599.953728</td>\n",
       "    </tr>\n",
       "    <tr>\n",
       "      <th>std</th>\n",
       "      <td>1714.591098</td>\n",
       "    </tr>\n",
       "    <tr>\n",
       "      <th>min</th>\n",
       "      <td>1.800000</td>\n",
       "    </tr>\n",
       "    <tr>\n",
       "      <th>25%</th>\n",
       "      <td>14.266667</td>\n",
       "    </tr>\n",
       "    <tr>\n",
       "      <th>50%</th>\n",
       "      <td>52.016667</td>\n",
       "    </tr>\n",
       "    <tr>\n",
       "      <th>75%</th>\n",
       "      <td>298.858333</td>\n",
       "    </tr>\n",
       "    <tr>\n",
       "      <th>max</th>\n",
       "      <td>10727.466667</td>\n",
       "    </tr>\n",
       "  </tbody>\n",
       "</table>\n",
       "</div>"
      ],
      "text/plain": [
       "       average_trips\n",
       "count      94.000000\n",
       "mean      599.953728\n",
       "std      1714.591098\n",
       "min         1.800000\n",
       "25%        14.266667\n",
       "50%        52.016667\n",
       "75%       298.858333\n",
       "max     10727.466667"
      ]
     },
     "execution_count": 8,
     "metadata": {},
     "output_type": "execute_result"
    }
   ],
   "source": [
    "trips.describe()"
   ]
  },
  {
   "cell_type": "code",
   "execution_count": 9,
   "metadata": {},
   "outputs": [
    {
     "data": {
      "text/html": [
       "<div>\n",
       "<style scoped>\n",
       "    .dataframe tbody tr th:only-of-type {\n",
       "        vertical-align: middle;\n",
       "    }\n",
       "\n",
       "    .dataframe tbody tr th {\n",
       "        vertical-align: top;\n",
       "    }\n",
       "\n",
       "    .dataframe thead th {\n",
       "        text-align: right;\n",
       "    }\n",
       "</style>\n",
       "<table border=\"1\" class=\"dataframe\">\n",
       "  <thead>\n",
       "    <tr style=\"text-align: right;\">\n",
       "      <th></th>\n",
       "      <th>dropoff_location_name</th>\n",
       "      <th>average_trips</th>\n",
       "    </tr>\n",
       "  </thead>\n",
       "  <tbody>\n",
       "    <tr>\n",
       "      <th>0</th>\n",
       "      <td>Loop</td>\n",
       "      <td>10727.466667</td>\n",
       "    </tr>\n",
       "    <tr>\n",
       "      <th>1</th>\n",
       "      <td>River North</td>\n",
       "      <td>9523.666667</td>\n",
       "    </tr>\n",
       "    <tr>\n",
       "      <th>2</th>\n",
       "      <td>Streeterville</td>\n",
       "      <td>6664.666667</td>\n",
       "    </tr>\n",
       "    <tr>\n",
       "      <th>3</th>\n",
       "      <td>West Loop</td>\n",
       "      <td>5163.666667</td>\n",
       "    </tr>\n",
       "    <tr>\n",
       "      <th>4</th>\n",
       "      <td>O'Hare</td>\n",
       "      <td>2546.900000</td>\n",
       "    </tr>\n",
       "  </tbody>\n",
       "</table>\n",
       "</div>"
      ],
      "text/plain": [
       "  dropoff_location_name  average_trips\n",
       "0                  Loop   10727.466667\n",
       "1           River North    9523.666667\n",
       "2         Streeterville    6664.666667\n",
       "3             West Loop    5163.666667\n",
       "4                O'Hare    2546.900000"
      ]
     },
     "execution_count": 9,
     "metadata": {},
     "output_type": "execute_result"
    }
   ],
   "source": [
    "trips.head()"
   ]
  },
  {
   "cell_type": "code",
   "execution_count": 10,
   "metadata": {},
   "outputs": [
    {
     "data": {
      "text/plain": [
       "0"
      ]
     },
     "execution_count": 10,
     "metadata": {},
     "output_type": "execute_result"
    }
   ],
   "source": [
    "trips.duplicated().sum()"
   ]
  },
  {
   "cell_type": "markdown",
   "metadata": {},
   "source": [
    "La tabla trips, muestra los viajes promedio destino hacia los barrios de Chicago, no cuenta con datos duplicados o ausentes, se cuenta con 94 registros diferentes."
   ]
  },
  {
   "cell_type": "markdown",
   "metadata": {},
   "source": [
    "<div class=\"alert alert-block alert-danger\">\n",
    "<b>Comentario del revisor</b> <a class=\"tocSkip\"></a>\n",
    "\n",
    "Recorda utilizar el metodo describe(). Este es vital para toda exploracion rapida de los datos iniciales, nos proporcionara un panorama de aquellas variables numericas.   \n",
    "</div>\n",
    "\n",
    "<div class=\"alert alert-block alert-danger\">\n",
    "<b>Comentario del revisor</b> <a class=\"tocSkip\"></a>\n",
    "\n",
    "Verifica si existen datos duplicados.</div>\n",
    "\n",
    "<div class=\"alert alert-block alert-danger\">\n",
    "<b>Comentario del revisor</b> <a class=\"tocSkip\"></a>\n",
    "\n",
    "Describi lo que observas con esta exploracion (identifica los datos faltantes) y conclui al respecto con un markdown.</div>\n",
    "\n",
    "<div class=\"alert alert-block alert-success\">\n",
    "<b>Comentario del revisor #2</b> <a class=\"tocSkip\"></a>\n",
    "\n",
    "Corregido</div>"
   ]
  },
  {
   "cell_type": "code",
   "execution_count": 11,
   "metadata": {},
   "outputs": [
    {
     "name": "stdout",
     "output_type": "stream",
     "text": [
      "<class 'pandas.core.frame.DataFrame'>\n",
      "RangeIndex: 1068 entries, 0 to 1067\n",
      "Data columns (total 3 columns):\n",
      " #   Column              Non-Null Count  Dtype  \n",
      "---  ------              --------------  -----  \n",
      " 0   start_ts            1068 non-null   object \n",
      " 1   weather_conditions  1068 non-null   object \n",
      " 2   duration_seconds    1068 non-null   float64\n",
      "dtypes: float64(1), object(2)\n",
      "memory usage: 25.2+ KB\n"
     ]
    }
   ],
   "source": [
    "trips_weather.info()"
   ]
  },
  {
   "cell_type": "code",
   "execution_count": 12,
   "metadata": {
    "scrolled": true
   },
   "outputs": [
    {
     "data": {
      "text/html": [
       "<div>\n",
       "<style scoped>\n",
       "    .dataframe tbody tr th:only-of-type {\n",
       "        vertical-align: middle;\n",
       "    }\n",
       "\n",
       "    .dataframe tbody tr th {\n",
       "        vertical-align: top;\n",
       "    }\n",
       "\n",
       "    .dataframe thead th {\n",
       "        text-align: right;\n",
       "    }\n",
       "</style>\n",
       "<table border=\"1\" class=\"dataframe\">\n",
       "  <thead>\n",
       "    <tr style=\"text-align: right;\">\n",
       "      <th></th>\n",
       "      <th>start_ts</th>\n",
       "      <th>weather_conditions</th>\n",
       "      <th>duration_seconds</th>\n",
       "    </tr>\n",
       "  </thead>\n",
       "  <tbody>\n",
       "    <tr>\n",
       "      <th>893</th>\n",
       "      <td>2017-11-04 00:00:00</td>\n",
       "      <td>Good</td>\n",
       "      <td>1560.0</td>\n",
       "    </tr>\n",
       "    <tr>\n",
       "      <th>552</th>\n",
       "      <td>2017-11-04 01:00:00</td>\n",
       "      <td>Good</td>\n",
       "      <td>0.0</td>\n",
       "    </tr>\n",
       "    <tr>\n",
       "      <th>267</th>\n",
       "      <td>2017-11-04 02:00:00</td>\n",
       "      <td>Good</td>\n",
       "      <td>2956.0</td>\n",
       "    </tr>\n",
       "    <tr>\n",
       "      <th>741</th>\n",
       "      <td>2017-11-04 04:00:00</td>\n",
       "      <td>Good</td>\n",
       "      <td>1595.0</td>\n",
       "    </tr>\n",
       "    <tr>\n",
       "      <th>88</th>\n",
       "      <td>2017-11-04 04:00:00</td>\n",
       "      <td>Good</td>\n",
       "      <td>1333.0</td>\n",
       "    </tr>\n",
       "    <tr>\n",
       "      <th>...</th>\n",
       "      <td>...</td>\n",
       "      <td>...</td>\n",
       "      <td>...</td>\n",
       "    </tr>\n",
       "    <tr>\n",
       "      <th>85</th>\n",
       "      <td>2017-11-04 09:00:00</td>\n",
       "      <td>Good</td>\n",
       "      <td>1740.0</td>\n",
       "    </tr>\n",
       "    <tr>\n",
       "      <th>220</th>\n",
       "      <td>2017-11-04 10:00:00</td>\n",
       "      <td>Good</td>\n",
       "      <td>1717.0</td>\n",
       "    </tr>\n",
       "    <tr>\n",
       "      <th>307</th>\n",
       "      <td>2017-11-04 10:00:00</td>\n",
       "      <td>Good</td>\n",
       "      <td>2444.0</td>\n",
       "    </tr>\n",
       "    <tr>\n",
       "      <th>197</th>\n",
       "      <td>2017-11-04 10:00:00</td>\n",
       "      <td>Good</td>\n",
       "      <td>1883.0</td>\n",
       "    </tr>\n",
       "    <tr>\n",
       "      <th>520</th>\n",
       "      <td>2017-11-04 10:00:00</td>\n",
       "      <td>Good</td>\n",
       "      <td>2697.0</td>\n",
       "    </tr>\n",
       "  </tbody>\n",
       "</table>\n",
       "<p>100 rows × 3 columns</p>\n",
       "</div>"
      ],
      "text/plain": [
       "                start_ts weather_conditions  duration_seconds\n",
       "893  2017-11-04 00:00:00               Good            1560.0\n",
       "552  2017-11-04 01:00:00               Good               0.0\n",
       "267  2017-11-04 02:00:00               Good            2956.0\n",
       "741  2017-11-04 04:00:00               Good            1595.0\n",
       "88   2017-11-04 04:00:00               Good            1333.0\n",
       "..                   ...                ...               ...\n",
       "85   2017-11-04 09:00:00               Good            1740.0\n",
       "220  2017-11-04 10:00:00               Good            1717.0\n",
       "307  2017-11-04 10:00:00               Good            2444.0\n",
       "197  2017-11-04 10:00:00               Good            1883.0\n",
       "520  2017-11-04 10:00:00               Good            2697.0\n",
       "\n",
       "[100 rows x 3 columns]"
      ]
     },
     "execution_count": 12,
     "metadata": {},
     "output_type": "execute_result"
    }
   ],
   "source": [
    "trips_weather.sort_values(by='start_ts').head(100)"
   ]
  },
  {
   "cell_type": "code",
   "execution_count": 13,
   "metadata": {},
   "outputs": [
    {
     "data": {
      "text/html": [
       "<div>\n",
       "<style scoped>\n",
       "    .dataframe tbody tr th:only-of-type {\n",
       "        vertical-align: middle;\n",
       "    }\n",
       "\n",
       "    .dataframe tbody tr th {\n",
       "        vertical-align: top;\n",
       "    }\n",
       "\n",
       "    .dataframe thead th {\n",
       "        text-align: right;\n",
       "    }\n",
       "</style>\n",
       "<table border=\"1\" class=\"dataframe\">\n",
       "  <thead>\n",
       "    <tr style=\"text-align: right;\">\n",
       "      <th></th>\n",
       "      <th>duration_seconds</th>\n",
       "    </tr>\n",
       "  </thead>\n",
       "  <tbody>\n",
       "    <tr>\n",
       "      <th>count</th>\n",
       "      <td>1068.000000</td>\n",
       "    </tr>\n",
       "    <tr>\n",
       "      <th>mean</th>\n",
       "      <td>2071.731273</td>\n",
       "    </tr>\n",
       "    <tr>\n",
       "      <th>std</th>\n",
       "      <td>769.461125</td>\n",
       "    </tr>\n",
       "    <tr>\n",
       "      <th>min</th>\n",
       "      <td>0.000000</td>\n",
       "    </tr>\n",
       "    <tr>\n",
       "      <th>25%</th>\n",
       "      <td>1438.250000</td>\n",
       "    </tr>\n",
       "    <tr>\n",
       "      <th>50%</th>\n",
       "      <td>1980.000000</td>\n",
       "    </tr>\n",
       "    <tr>\n",
       "      <th>75%</th>\n",
       "      <td>2580.000000</td>\n",
       "    </tr>\n",
       "    <tr>\n",
       "      <th>max</th>\n",
       "      <td>7440.000000</td>\n",
       "    </tr>\n",
       "  </tbody>\n",
       "</table>\n",
       "</div>"
      ],
      "text/plain": [
       "       duration_seconds\n",
       "count       1068.000000\n",
       "mean        2071.731273\n",
       "std          769.461125\n",
       "min            0.000000\n",
       "25%         1438.250000\n",
       "50%         1980.000000\n",
       "75%         2580.000000\n",
       "max         7440.000000"
      ]
     },
     "execution_count": 13,
     "metadata": {},
     "output_type": "execute_result"
    }
   ],
   "source": [
    "trips_weather.describe()"
   ]
  },
  {
   "cell_type": "code",
   "execution_count": 14,
   "metadata": {},
   "outputs": [
    {
     "data": {
      "text/plain": [
       "197"
      ]
     },
     "execution_count": 14,
     "metadata": {},
     "output_type": "execute_result"
    }
   ],
   "source": [
    "trips_weather.duplicated().sum()"
   ]
  },
  {
   "cell_type": "markdown",
   "metadata": {},
   "source": [
    "En esta tabla se encuentran valores duplicados, esto se debe a que el mismo día y hora salen diferentes viajes desde Loop al aeropuerto, por lo que no podemos descartarlos como duplicados así que se dejarán sin tratamiento en el Dataframe."
   ]
  },
  {
   "cell_type": "markdown",
   "metadata": {},
   "source": [
    "<div class=\"alert alert-block alert-danger\">\n",
    "<b>Comentario del revisor</b> <a class=\"tocSkip\"></a>\n",
    "\n",
    "Recorda utilizar el metodo describe(). Este es vital para toda exploracion rapida de los datos iniciales, nos proporcionara un panorama de aquellas variables numericas.   \n",
    "</div>"
   ]
  },
  {
   "cell_type": "markdown",
   "metadata": {},
   "source": [
    "<div class=\"alert alert-block alert-danger\">\n",
    "<b>Comentario del revisor</b> <a class=\"tocSkip\"></a>\n",
    "\n",
    "Verifica si existen datos duplicados.</div>\n",
    "\n",
    "<div class=\"alert alert-block alert-danger\">\n",
    "<b>Comentario del revisor</b> <a class=\"tocSkip\"></a>\n",
    "\n",
    "Describi lo que observas con esta exploracion (identifica los datos faltantes) y conclui al respecto con un markdown.</div>\n",
    "\n",
    "<div class=\"alert alert-block alert-success\">\n",
    "<b>Comentario del revisor #2</b> <a class=\"tocSkip\"></a>\n",
    "\n",
    "Corregido</div>"
   ]
  },
  {
   "cell_type": "markdown",
   "metadata": {},
   "source": [
    "### Corregir los datos <a id='correction'></a>\n",
    "\n",
    "En la tabla `trips_weather` la columna *start_ts* tiene un formato object, y se cambiará por un Timestamp"
   ]
  },
  {
   "cell_type": "code",
   "execution_count": 15,
   "metadata": {},
   "outputs": [],
   "source": [
    "trips_weather['start_ts'] = pd.to_datetime(trips_weather['start_ts'], format='%Y-%m-%d %H:%M:%S')"
   ]
  },
  {
   "cell_type": "code",
   "execution_count": 16,
   "metadata": {},
   "outputs": [
    {
     "name": "stdout",
     "output_type": "stream",
     "text": [
      "<class 'pandas.core.frame.DataFrame'>\n",
      "RangeIndex: 1068 entries, 0 to 1067\n",
      "Data columns (total 3 columns):\n",
      " #   Column              Non-Null Count  Dtype         \n",
      "---  ------              --------------  -----         \n",
      " 0   start_ts            1068 non-null   datetime64[ns]\n",
      " 1   weather_conditions  1068 non-null   object        \n",
      " 2   duration_seconds    1068 non-null   float64       \n",
      "dtypes: datetime64[ns](1), float64(1), object(1)\n",
      "memory usage: 25.2+ KB\n"
     ]
    }
   ],
   "source": [
    "trips_weather.info()"
   ]
  },
  {
   "cell_type": "code",
   "execution_count": 17,
   "metadata": {
    "scrolled": true
   },
   "outputs": [
    {
     "data": {
      "text/html": [
       "<div>\n",
       "<style scoped>\n",
       "    .dataframe tbody tr th:only-of-type {\n",
       "        vertical-align: middle;\n",
       "    }\n",
       "\n",
       "    .dataframe tbody tr th {\n",
       "        vertical-align: top;\n",
       "    }\n",
       "\n",
       "    .dataframe thead th {\n",
       "        text-align: right;\n",
       "    }\n",
       "</style>\n",
       "<table border=\"1\" class=\"dataframe\">\n",
       "  <thead>\n",
       "    <tr style=\"text-align: right;\">\n",
       "      <th></th>\n",
       "      <th>start_ts</th>\n",
       "      <th>weather_conditions</th>\n",
       "      <th>duration_seconds</th>\n",
       "    </tr>\n",
       "  </thead>\n",
       "  <tbody>\n",
       "    <tr>\n",
       "      <th>0</th>\n",
       "      <td>2017-11-25 16:00:00</td>\n",
       "      <td>Good</td>\n",
       "      <td>2410.0</td>\n",
       "    </tr>\n",
       "    <tr>\n",
       "      <th>1</th>\n",
       "      <td>2017-11-25 14:00:00</td>\n",
       "      <td>Good</td>\n",
       "      <td>1920.0</td>\n",
       "    </tr>\n",
       "    <tr>\n",
       "      <th>2</th>\n",
       "      <td>2017-11-25 12:00:00</td>\n",
       "      <td>Good</td>\n",
       "      <td>1543.0</td>\n",
       "    </tr>\n",
       "    <tr>\n",
       "      <th>3</th>\n",
       "      <td>2017-11-04 10:00:00</td>\n",
       "      <td>Good</td>\n",
       "      <td>2512.0</td>\n",
       "    </tr>\n",
       "    <tr>\n",
       "      <th>4</th>\n",
       "      <td>2017-11-11 07:00:00</td>\n",
       "      <td>Good</td>\n",
       "      <td>1440.0</td>\n",
       "    </tr>\n",
       "  </tbody>\n",
       "</table>\n",
       "</div>"
      ],
      "text/plain": [
       "             start_ts weather_conditions  duration_seconds\n",
       "0 2017-11-25 16:00:00               Good            2410.0\n",
       "1 2017-11-25 14:00:00               Good            1920.0\n",
       "2 2017-11-25 12:00:00               Good            1543.0\n",
       "3 2017-11-04 10:00:00               Good            2512.0\n",
       "4 2017-11-11 07:00:00               Good            1440.0"
      ]
     },
     "execution_count": 17,
     "metadata": {},
     "output_type": "execute_result"
    }
   ],
   "source": [
    "trips_weather.head()"
   ]
  },
  {
   "cell_type": "markdown",
   "metadata": {},
   "source": [
    "<div class=\"alert alert-block alert-success\">\n",
    "<b>Comentario del revisor</b> <a class=\"tocSkip\"></a>\n",
    "\n",
    "Muy bien.</div>\n",
    "\n"
   ]
  },
  {
   "cell_type": "markdown",
   "metadata": {},
   "source": [
    "## Principales barrios y compañías con viajes promedio <a id='graphics'></a>\n",
    "\n",
    "Se utiliza `pivot_table` para ordenar los datos de mayor a menor en la tabla *trips* y en la tabla *companies*, de los cuales se grafica para mostrar las diferencias entre barrios y compañías"
   ]
  },
  {
   "cell_type": "code",
   "execution_count": 18,
   "metadata": {
    "scrolled": false
   },
   "outputs": [
    {
     "data": {
      "image/png": "[encoded data removed]",
      "text/plain": [
       "<Figure size 720x432 with 1 Axes>"
      ]
     },
     "metadata": {
      "needs_background": "light"
     },
     "output_type": "display_data"
    }
   ],
   "source": [
    "(trips\n",
    ".pivot_table(index='dropoff_location_name',values='average_trips')\n",
    ".sort_values(by='average_trips',ascending=False)\n",
    ".head(10)\n",
    ".plot(kind=\"bar\", figsize=(10,6),\n",
    "      title=\"Principales barrios con más viajes promedio\",\n",
    "      xlabel='Barrio', ylabel='Viajes promedio')\n",
    ")\n",
    "plt.show()"
   ]
  },
  {
   "cell_type": "code",
   "execution_count": 19,
   "metadata": {
    "scrolled": false
   },
   "outputs": [
    {
     "data": {
      "image/png": "[encoded data removed]",
      "text/plain": [
       "<Figure size 720x432 with 1 Axes>"
      ]
     },
     "metadata": {
      "needs_background": "light"
     },
     "output_type": "display_data"
    }
   ],
   "source": [
    "( companies\n",
    " .pivot_table(index='company_name',values='trips_amount')\n",
    " .sort_values(by='trips_amount',ascending=False)\n",
    " .head(10)\n",
    " .plot(kind='bar',figsize=(10,6),\n",
    "       title='Principales compañías de taxi con viajes',\n",
    "       xlabel='Compañía',ylabel='Número de viajes')\n",
    ")\n",
    "plt.show()"
   ]
  },
  {
   "cell_type": "markdown",
   "metadata": {},
   "source": [
    "### Conclusiones de gráficos <a id='graphics_conclusions'></a>\n",
    "\n",
    "Los gráficos de los barrios y las empresas muestran una caída muy abrupta, es decir existe una compañía que abarca una gran cantidad de viajes, lo mismo con los barrios, el barrio de *Loop* es el que tiene mayor cantidad de viajes finalizados.\n",
    "Esto nos lleva a preguntarnos si la mayoría de los viajes son realizados por la misma compañía."
   ]
  },
  {
   "cell_type": "markdown",
   "metadata": {},
   "source": [
    "<div class=\"alert alert-block alert-success\">\n",
    "<b>Comentario del revisor</b> <a class=\"tocSkip\"></a>\n",
    "\n",
    "Muy buenos graficos.</div>\n",
    "\n"
   ]
  },
  {
   "cell_type": "markdown",
   "metadata": {},
   "source": [
    "## Prueba de hipótesis <a id='hypotheses'></a>"
   ]
  },
  {
   "cell_type": "markdown",
   "metadata": {},
   "source": [
    "### Hipótesis: <a id='hypotheses_declaration'>\n",
    "`H0: La duración promedio de los viajes desde el Loop hasta el aeropuerto Internacional O'Hare no cambia los sábados lluviosos.`\n",
    "\n",
    "`Ha: La duración promedio de los ciajes desde el Loop hasta el aeropuerto Internacional O'Hare cambia los sábados lluviosos.`\n",
    "\n"
   ]
  },
  {
   "cell_type": "markdown",
   "metadata": {},
   "source": [
    "\n",
    "<div class=\"alert alert-block alert-danger\">\n",
    "<b>Comentario del revisor #4</b> <a class=\"tocSkip\"></a>\n",
    "    \n",
    "Las hipotesis serian las siguientes:\n",
    "\n",
    "Hipótesis nula: La duración promedio de los viajes desde el Loop hasta el aeropuerto Internacional O'Hare es igual los sábados lluviosos.\n",
    "Hipótesis alternativa: La duración promedio de los viajes desde el Loop hasta el aeropuerto Internacional O'Hare cambia los sábados lluviosos.\n",
    "\n",
    "Tene cuidado porque puede cambiar sustancialmente todo.</div>\n",
    "\n",
    "<div class=\"alert alert-block alert-success\">\n",
    "<b>Comentario del revisor #5</b> <a class=\"tocSkip\"></a>\n",
    "    \n",
    "Corregido.</div>"
   ]
  },
  {
   "cell_type": "code",
   "execution_count": 20,
   "metadata": {},
   "outputs": [],
   "source": [
    "#Nivel de significancia:\n",
    "alfa=0.05"
   ]
  },
  {
   "cell_type": "code",
   "execution_count": 21,
   "metadata": {},
   "outputs": [],
   "source": [
    "rain_trips = trips_weather.query(\"weather_conditions=='Bad'\")['duration_seconds']\n",
    "good_trips = trips_weather.query(\"weather_conditions=='Good'\")['duration_seconds']"
   ]
  },
  {
   "cell_type": "markdown",
   "metadata": {},
   "source": [
    "### Prueba Levene con varianzas diferentes <a id='levene'></a>"
   ]
  },
  {
   "cell_type": "code",
   "execution_count": 22,
   "metadata": {},
   "outputs": [
    {
     "name": "stdout",
     "output_type": "stream",
     "text": [
      "No rechazamos la hipótesis nula\n",
      "\n",
      "p-value:  0.5332038671974493\n"
     ]
    }
   ],
   "source": [
    "#H0: Las varianzas son iguales\n",
    "#Ha: Las varianzas son diferentes\n",
    "alpha=0.05\n",
    "\n",
    "result = st.levene(rain_trips, good_trips, center='median')\n",
    "\n",
    "if(result.pvalue < alpha):\n",
    "    print('Rechazamos la hipótesis nula')\n",
    "    print( )\n",
    "    print('p-value: ', result.pvalue)\n",
    "else:\n",
    "    print('No rechazamos la hipótesis nula')\n",
    "    print( )\n",
    "    print('p-value: ',result.pvalue)"
   ]
  },
  {
   "cell_type": "markdown",
   "metadata": {},
   "source": [
    "#### Conclusión Levene <a id='levene_conclusion'></a>\n",
    "\n",
    "Con la prueba de Levene encontramos que las varianzas son iguales, ya con esta información se realizará la prueba t-student con varianzas iguales."
   ]
  },
  {
   "cell_type": "markdown",
   "metadata": {},
   "source": [
    "### Prueba T-student <a id='tstudent'></a>"
   ]
  },
  {
   "cell_type": "code",
   "execution_count": 23,
   "metadata": {},
   "outputs": [
    {
     "name": "stdout",
     "output_type": "stream",
     "text": [
      "Rechazamos la hipótesis nula\n",
      "\n",
      "p-value:  6.517970327099473e-12\n"
     ]
    }
   ],
   "source": [
    "results = st.ttest_ind(\n",
    "rain_trips,\n",
    "good_trips,\n",
    "equal_var=True\n",
    ")\n",
    "if(results.pvalue<alfa):\n",
    "    print('Rechazamos la hipótesis nula')\n",
    "    print( )\n",
    "    print('p-value: ',results.pvalue)\n",
    "else:\n",
    "    print('No rechazamos la hipótesis nula')\n",
    "    print( )\n",
    "    print('p-value: ',results.pvalue)"
   ]
  },
  {
   "cell_type": "markdown",
   "metadata": {},
   "source": [
    "<div class=\"alert alert-block alert-danger\">\n",
    "<b>Comentario del revisor</b> <a class=\"tocSkip\"></a>\n",
    "    \n",
    "El parametro equal_var es muy importante para este tipo de pruebas ya que le estamos indicando en este caso (False) que las varianzas para cada conjunto son diferentes. Si fueran iguales, puede que el resultado sea otro, ya que se calcula de forma diferente. Por esto es importante, cuando realizamos esta prueba. Confirmar si las varianzas son iguales o no para ambos conjuntos. Para esto se realizan pruebas para identificar si son iguales o no las varianzas.\n",
    "\n",
    "Al realizarla ajusta el parametro.\n",
    "</div></div>\n",
    "\n",
    "<div class=\"alert alert-block alert-danger\">\n",
    "<b>Comentario del revisor #2</b> <a class=\"tocSkip\"></a>\n",
    "\n",
    "Una de las pruebas que hablo es la prueba de Levene. Con esta determinaras si existe -o no- igualdad de varianzas. En tu caso simplemente le indicas que hay igualdad (equal_var = True) pero la unica forma para determinar esto es utilizar este tipo de pruebas. Por lo que te invito a utilizarla, dependiendo del resultado modifica o no el parametro equal_var.\n",
    "\n",
    "Las pruebas estadísticas están diseñadas para tomar en cuenta el tamaño de la muestra y calcular si la diferencia observada en las varianzas es estadísticamente significativa o si podría deberse al azar.</div>\n",
    "\n",
    "<div class=\"alert alert-block alert-danger\">\n",
    "<b>Comentario del revisor #3</b> <a class=\"tocSkip\"></a>\n",
    "Hector, lo que habias realizado del t estudent estaba bien, simplemente era ajustar el parametro equal_var.\n",
    " \n",
    "En este caso haces muy bien la prueba de levene, donde alfa es menor al resultado por lo que se afirma la igualdad de varianzas (equal_var = True)\n",
    "    \n",
    "Ahora te esta faltando el t.estudent para verificar ambas hipotesis, realizalo con el parametro en True y con eso estaria bien el trabajo.</div>\n",
    "\n",
    "<div class=\"alert alert-block alert-danger\">\n",
    "<b>Comentario del revisor #4</b> <a class=\"tocSkip\"></a>\n",
    "La prueba de Levene va primero debido a que es la que determina si hay igualdad de varianzas o no ( si alpha es menor al resultado NO SE RECHAZA LA HIPOTESIS NULA -Que hay igualdad de varianzas- por lo que es equal_var = True) . Una vez que tenemos esto procedemos a hacer el t.student. Si bien en tu caso no afecta como lo hagas. Tiene sentido que sea al reves y como estamos en un espacio de aprendizaje necesito saber que lo entendiste.\n",
    "\n",
    "Ademas, te marque que las hipotesis la tenes al reves. En el resultado actual la duracion no cambiaria si llueve, algo que si analisamos empiricamente es muy poco probable que pase  ya que la lluvia hace que se retrase todo generalmente, con esto no digo que tenga que coincidir lo estadistico con el analisis pero en este caso al modificar la premisa cambia el resultado que hiciste.</div>\n",
    "\n",
    "<div class=\"alert alert-block alert-success\">\n",
    "<b>Comentario del revisor #5</b> <a class=\"tocSkip\"></a>\n",
    "    \n",
    "Corregido.</div>"
   ]
  },
  {
   "cell_type": "markdown",
   "metadata": {},
   "source": [
    "### Conclusión de hipótesis <a id='conclusion'></a>\n",
    "\n",
    "La prueba de hipótesis de Levene nos ayudo a encontrar si las varianzas de los Dataframes eran iguales, esto para poder definir la prueba t-student de mejor manera.\n",
    "Con la prueba t-student se determina que los tiempos de viaje desde *Loops* al *Aeropuerto Internacional O'Hare* cambia en los sábados lluviosos. Es decir con lluvia los tiempos de traslados son diferentes los sábados a cuando el día es soleado. Esto es lógico de manera empírica, ya que se sabe que la lluvia y las tormentas suelen entorpecer el tráfico aumentando el tiempo en que nos trasladamos por las ciudad."
   ]
  },
  {
   "cell_type": "markdown",
   "metadata": {},
   "source": [
    "<div class=\"alert alert-block alert-danger\">\n",
    "<b>Comentario del revisor</b> <a class=\"tocSkip\"></a>\n",
    "\n",
    "La conclusion queda sujeta a modificacion, pero es la conclusion del anterior sector.\n",
    "</div></div>\n",
    "\n",
    "<div class=\"alert alert-block alert-danger\">\n",
    "<b>Comentario del revisor #4</b> <a class=\"tocSkip\"></a>\n",
    "Con lo que te explique en el punto anterior es probable que cambie tu conclusion de hipotesis.</div>\n",
    "\n",
    "<div class=\"alert alert-block alert-success\">\n",
    "<b>Comentario del revisor #5</b> <a class=\"tocSkip\"></a>\n",
    "    \n",
    "Corregido.</div>\n"
   ]
  },
  {
   "cell_type": "markdown",
   "metadata": {},
   "source": [
    "## Conclusión final <a id='end'></a>\n",
    "\n",
    "Despúes de realizar el análisis inicial de los datos por medio de SQL se obtuvieron los archivos de donde se cargaron los DataFrames para trabajarlos con Python.\n",
    "\n",
    "El primer paso fue cargar las librerías necesarias, `pandas` para trabajar con los DataFrames, `numpy` para cálculos que pudieran requerirse en el ánalisis, de la librería `scipy`, se cargó el método `stats` para realizar las pruebas de hipótesis y por último se cargó `matplotlib` para realizar los gráficos y darles formato.\n",
    "Con las librerías cargadas, se guardaron los datos en 3 diferentes Dataframes, *companies* donde se guaradron los viajes por cada compañía, *trips* los viajes hacia cada colonia  y *trips_weather* con las condiciones ambientales por hora los sábados.\n",
    "\n",
    "Ya con los Dataframes guardados se analizaron cada uno buscando incongruencias en los datos que contenían, valores ausentes o duplicados, para *companies* y *trips* no hubo ninguno de estos casos, mientras que para *trips_weather* se encontraron valores duplicados, lo cuales no podemos eliminar del conjunto de datos debido a que pueden ser viajes que salieron a la misma hora hacia diferentes destinos por diferentes compañías, sin más información para ligar esto se decidió dejar el Dataframe así. También en los datos *trips_weather*, en la columna **start_ts** se cambio el tipo de dato a Timestamp para poder manejarlo de forma más sencilla.\n",
    "\n",
    "Con los datos preparados, analizados de como se obtuvieron y la naturaleza de estos, se realizaron gráficos de barras para mostrar las 10 principales compañías de acuerdo con los viajes que se presentan en el Dataframe, usando el mismo concepto se hizo lo mismo con los 10 principales barrios con mayor número de viajes promedio.\n",
    "\n",
    "Tomando el Dataframe *trips_weather* se realizó la prueba de hipótesis para encontrar si el tiempo de viaje cambiaba dependiendo del clima, se realizó una prueba t-student, para realizar una prueba más precisa realizamos una prueba de Levene para encontrar si las varianzas de los datos son iguales o diferentes, encontrándose que las varianzas son iguales procedimos con la prueba t-student, con ella se determinó que el tiempo promedio de viaje del barrio Loop al aeropuerto internacional O'Hare cambia con el clima. Es decir el clima afecta el promedio de tiempo de viaje, ya que en un sábado soleado el tiempo promedio de traslado es menor que un día con lluvia."
   ]
  },
  {
   "cell_type": "markdown",
   "metadata": {},
   "source": [
    "<div class=\"alert alert-block alert-danger\">\n",
    "<b>Comentario del revisor</b> <a class=\"tocSkip\"></a>\n",
    "\n",
    "Falta la conclusion general (seccion aparte). En la cual deberas describir y concluir sobre todo lo que hiciste en este trabajo (desde la importacion y carga, pasando por los graficos hasta las pruebas).\n",
    "    \n",
    "Todo esto comentando porque decidiste lo que hiciste.\n",
    "</div></div>"
   ]
  },
  {
   "cell_type": "markdown",
   "metadata": {},
   "source": [
    "<div class=\"alert alert-block alert-success\">\n",
    "<b>Comentario del revisor #2</b> <a class=\"tocSkip\"></a>\n",
    "\n",
    "Corregido. Te quedo muy bien. Simplemente a modo consejo utiliza mas divisiones (Saltos de linea). \n",
    "\n",
    "Me gusto mucho!.</div>"
   ]
  },
  {
   "cell_type": "markdown",
   "metadata": {},
   "source": [
    "<div class=\"alert alert-block alert-danger\">\n",
    "<b>Comentario del revisor</b> <a class=\"tocSkip\"></a>\n",
    "\n",
    "Hector, te felicito por tu trabajo. Si bien parece que hay mucho marcado en rojo, son detalles. Has hecho un trabajo muy completo, abarcaste todo lo que se pedia de manera sencilla y concreta.\n",
    "\n",
    "Me gustaron tus graficos porque fueron concisos. Como consejo de estos, a veces los colores (y mantener los mismos) nos pueden ayudar.\n",
    "    \n",
    "Como correcciones te deje algunas que son comunes de codigo y otras que son de forma (la tabla de contenido y secciones).\n",
    "    \n",
    "Espero que haya quedado claro el equal var pero de igual manera estoy disponible para explicarlo nuevamente.\n",
    "    \n",
    "Saludos.\n",
    "</div></div>\n",
    "\n",
    "<div class=\"alert alert-block alert-danger\">\n",
    "<b>Comentario General #2</b> <a class=\"tocSkip\"></a>\n",
    "\n",
    "Hector, corregiste todo de forma impecable. Te quedo muy bien, tu conclusion general me parecio muy buena.\n",
    "\n",
    "Queda hacer la prueba que te digo en la seccion de la prueba de hipotesis y con eso ya pasaria a estar aprobado el trabajo.\n",
    "\n",
    "Saludos.</div>\n",
    "\n",
    "\n",
    "<div class=\"alert alert-block alert-danger\">\n",
    "<b>Comentario General #3</b> <a class=\"tocSkip\"></a>\n",
    "\n",
    "Hector, el error se mantiene en la misma seccion pero ahora por otra cosa, eliminaste la parte de t.student que estaba muy bien. Mis disculpas si no fui claro o no se entendio. Queda agregar la prueba con el nuevo valor y estaria perfecto. Modifica si es necesario la hipotesis ya que lo tendre en cuenta.\n",
    "\n",
    "Al ser minimo el error y para que tengas tu trabajo aprobado estare atento a cuando lo entregues para corregirlo. Saludos</div>\n",
    "\n",
    "<div class=\"alert alert-block alert-danger\">\n",
    "<b>Comentario General #4</b> <a class=\"tocSkip\"></a>\n",
    "\n",
    "Hector, fui mas claro con lo que se busca en este proyecto. Soy incisivo porque quiero que entiendas el punto de la prueba de hipotesis, algo que te va a servir mucho. \n",
    "\n",
    "Recorda modificar las conclusiones. Solo tenes que modificar el orden y cambiar eso.\n",
    "\n",
    "Saludos.</div>\n",
    "\n",
    "<div class=\"alert alert-block alert-success\">\n",
    "<b>Comentario del revisor #5</b> <a class=\"tocSkip\"></a>\n",
    "    \n",
    "Corregido lo que te marque tu trabajo pasa a estar aprobado.\n",
    "\n",
    "   \n",
    "Exitos en lo que viene Hector, saludos.</div>"
   ]
  },
  {
   "cell_type": "code",
   "execution_count": null,
   "metadata": {},
   "outputs": [],
   "source": []
  }
 ],
 "metadata": {
  "kernelspec": {
   "display_name": "Python 3 (ipykernel)",
   "language": "python",
   "name": "python3"
  },
  "language_info": {
   "codemirror_mode": {
    "name": "ipython",
    "version": 3
   },
   "file_extension": ".py",
   "mimetype": "text/x-python",
   "name": "python",
   "nbconvert_exporter": "python",
   "pygments_lexer": "ipython3",
   "version": "3.9.5"
  },
  "toc": {
   "base_numbering": 1,
   "nav_menu": {},
   "number_sections": true,
   "sideBar": true,
   "skip_h1_title": true,
   "title_cell": "Table of Contents",
   "title_sidebar": "Contents",
   "toc_cell": false,
   "toc_position": {},
   "toc_section_display": true,
   "toc_window_display": true
  }
 },
 "nbformat": 4,
 "nbformat_minor": 2
}
